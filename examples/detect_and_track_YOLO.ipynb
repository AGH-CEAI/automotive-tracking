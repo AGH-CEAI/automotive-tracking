{
 "cells": [
  {
   "cell_type": "code",
   "execution_count": 4,
   "metadata": {},
   "outputs": [],
   "source": [
    "from ultralytics import YOLO\n",
    "import cv2\n",
    "import numpy as np\n",
    "from collections import defaultdict\n",
    "from cap_from_youtube import cap_from_youtube\n",
    "import os\n",
    "os.environ[\"KMP_DUPLICATE_LIB_OK\"]=\"TRUE\" # to avoid OMP conficts"
   ]
  },
  {
   "cell_type": "code",
   "execution_count": 5,
   "metadata": {},
   "outputs": [],
   "source": [
    "# Load an official or custom model\n",
    "# model = YOLO('../models/yolov8n.pt')  # Load an official Detect model\n",
    "model = YOLO('../models/yolov8x.pt')  # Load an official Detect model"
   ]
  },
  {
   "cell_type": "markdown",
   "metadata": {},
   "source": [
    "# Tracking from a video file or YouTube url"
   ]
  },
  {
   "cell_type": "code",
   "execution_count": 6,
   "metadata": {},
   "outputs": [
    {
     "name": "stdout",
     "output_type": "stream",
     "text": [
      "[youtube] Extracting URL: https://youtu.be/dDE3d6mEfn8?si=s5fAKjGVaHhfeLCQ\n",
      "[youtube] dDE3d6mEfn8: Downloading webpage\n"
     ]
    },
    {
     "name": "stdout",
     "output_type": "stream",
     "text": [
      "[youtube] dDE3d6mEfn8: Downloading ios player API JSON\n",
      "[youtube] dDE3d6mEfn8: Downloading m3u8 information\n"
     ]
    }
   ],
   "source": [
    "# Open the video file\n",
    "# fname=\"highway_drone_footage\"\n",
    "# fname=\"apollo15_10_1_1st\"\n",
    "# fname=\"cars\"\n",
    "# cap = cv2.VideoCapture(\"../videos/\"+fname+\".mp4\")\n",
    "\n",
    "# Open the video from YouTube\n",
    "fname=\"from_yt_5\"\n",
    "# cap = cap_from_youtube(\"https://youtu.be/7HaJArMDKgI?si=T0Bb3zOcz-YiOnMF\", '720p') # 1\n",
    "# cap = cap_from_youtube(\"https://youtu.be/Y1jTEyb3wiI?si=-gU51avblW5Qo-ij\", '720p') # 2\n",
    "# cap = cap_from_youtube(\"https://youtu.be/jM2VrPE5kFg?si=RXfsB63fA58TuBSi\", '720p') # 3\n",
    "# cap = cap_from_youtube(\"https://youtu.be/CftLBPI1Ga4?si=N69rX1Bo3w9S6qjq\", '1080p') # 4 (busy street with cars)\n",
    "cap = cap_from_youtube(\"https://youtu.be/dDE3d6mEfn8?si=s5fAKjGVaHhfeLCQ\", '2160p50') # 4 (mumbai street)\n"
   ]
  },
  {
   "cell_type": "code",
   "execution_count": 7,
   "metadata": {},
   "outputs": [
    {
     "name": "stdout",
     "output_type": "stream",
     "text": [
      "(2160, 3840, 3)\n",
      "(480, 852, 3)\n",
      "\n",
      "0: 384x640 (no detections), 57.8ms\n",
      "Speed: 2.3ms preprocess, 57.8ms inference, 18.9ms postprocess per image at shape (1, 3, 384, 640)\n",
      "(2160, 3840, 3)\n",
      "(480, 852, 3)\n",
      "\n",
      "0: 384x640 (no detections), 30.1ms\n",
      "Speed: 1.0ms preprocess, 30.1ms inference, 4.8ms postprocess per image at shape (1, 3, 384, 640)\n",
      "(2160, 3840, 3)\n",
      "(480, 852, 3)\n",
      "\n",
      "0: 384x640 (no detections), 29.7ms\n",
      "Speed: 2.3ms preprocess, 29.7ms inference, 4.8ms postprocess per image at shape (1, 3, 384, 640)\n",
      "(2160, 3840, 3)\n",
      "(480, 852, 3)\n",
      "\n",
      "0: 384x640 (no detections), 29.6ms\n",
      "Speed: 2.8ms preprocess, 29.6ms inference, 4.8ms postprocess per image at shape (1, 3, 384, 640)\n",
      "(2160, 3840, 3)\n",
      "(480, 852, 3)\n",
      "\n",
      "0: 384x640 2 cars, 29.7ms\n",
      "Speed: 1.7ms preprocess, 29.7ms inference, 53.9ms postprocess per image at shape (1, 3, 384, 640)\n",
      "(2160, 3840, 3)\n",
      "(480, 852, 3)\n",
      "\n",
      "0: 384x640 10 cars, 26.6ms\n",
      "Speed: 1.4ms preprocess, 26.6ms inference, 11.9ms postprocess per image at shape (1, 3, 384, 640)\n",
      "(2160, 3840, 3)\n",
      "(480, 852, 3)\n",
      "\n",
      "0: 384x640 2 cars, 29.4ms\n",
      "Speed: 2.7ms preprocess, 29.4ms inference, 14.4ms postprocess per image at shape (1, 3, 384, 640)\n",
      "(2160, 3840, 3)\n",
      "(480, 852, 3)\n",
      "\n",
      "0: 384x640 1 person, 3 cars, 29.6ms\n",
      "Speed: 1.6ms preprocess, 29.6ms inference, 12.0ms postprocess per image at shape (1, 3, 384, 640)\n",
      "(2160, 3840, 3)\n",
      "(480, 852, 3)\n",
      "\n",
      "0: 384x640 2 persons, 5 cars, 30.0ms\n",
      "Speed: 2.0ms preprocess, 30.0ms inference, 12.0ms postprocess per image at shape (1, 3, 384, 640)\n",
      "(2160, 3840, 3)\n",
      "(480, 852, 3)\n",
      "\n",
      "0: 384x640 3 persons, 5 cars, 1 motorcycle, 29.7ms\n",
      "Speed: 1.3ms preprocess, 29.7ms inference, 12.1ms postprocess per image at shape (1, 3, 384, 640)\n",
      "(2160, 3840, 3)\n",
      "(480, 852, 3)\n",
      "\n",
      "0: 384x640 4 persons, 5 cars, 2 motorcycles, 29.7ms\n",
      "Speed: 1.5ms preprocess, 29.7ms inference, 12.0ms postprocess per image at shape (1, 3, 384, 640)\n",
      "(2160, 3840, 3)\n",
      "(480, 852, 3)\n",
      "\n",
      "0: 384x640 4 persons, 5 cars, 2 motorcycles, 30.5ms\n",
      "Speed: 0.9ms preprocess, 30.5ms inference, 12.0ms postprocess per image at shape (1, 3, 384, 640)\n",
      "(2160, 3840, 3)\n",
      "(480, 852, 3)\n",
      "\n",
      "0: 384x640 5 persons, 5 cars, 3 motorcycles, 1 truck, 29.6ms\n",
      "Speed: 1.1ms preprocess, 29.6ms inference, 12.0ms postprocess per image at shape (1, 3, 384, 640)\n",
      "(2160, 3840, 3)\n",
      "(480, 852, 3)\n",
      "\n",
      "0: 384x640 7 persons, 5 cars, 3 motorcycles, 1 truck, 26.5ms\n",
      "Speed: 2.9ms preprocess, 26.5ms inference, 12.0ms postprocess per image at shape (1, 3, 384, 640)\n",
      "(2160, 3840, 3)\n",
      "(480, 852, 3)\n",
      "\n",
      "0: 384x640 7 persons, 5 cars, 3 motorcycles, 1 truck, 29.4ms\n",
      "Speed: 2.8ms preprocess, 29.4ms inference, 12.0ms postprocess per image at shape (1, 3, 384, 640)\n",
      "(2160, 3840, 3)\n",
      "(480, 852, 3)\n",
      "\n",
      "0: 384x640 7 persons, 5 cars, 3 motorcycles, 1 truck, 30.1ms\n",
      "Speed: 2.9ms preprocess, 30.1ms inference, 12.0ms postprocess per image at shape (1, 3, 384, 640)\n",
      "(2160, 3840, 3)\n",
      "(480, 852, 3)\n",
      "\n",
      "0: 384x640 7 persons, 5 cars, 3 motorcycles, 1 truck, 30.0ms\n",
      "Speed: 2.2ms preprocess, 30.0ms inference, 12.0ms postprocess per image at shape (1, 3, 384, 640)\n",
      "(2160, 3840, 3)\n",
      "(480, 852, 3)\n",
      "\n",
      "0: 384x640 7 persons, 5 cars, 3 motorcycles, 1 truck, 29.7ms\n",
      "Speed: 2.7ms preprocess, 29.7ms inference, 12.1ms postprocess per image at shape (1, 3, 384, 640)\n",
      "(2160, 3840, 3)\n",
      "(480, 852, 3)\n",
      "\n",
      "0: 384x640 8 persons, 5 cars, 3 motorcycles, 1 truck, 30.0ms\n",
      "Speed: 2.7ms preprocess, 30.0ms inference, 12.0ms postprocess per image at shape (1, 3, 384, 640)\n",
      "(2160, 3840, 3)\n",
      "(480, 852, 3)\n",
      "\n",
      "0: 384x640 8 persons, 5 cars, 3 motorcycles, 1 truck, 28.1ms\n",
      "Speed: 2.7ms preprocess, 28.1ms inference, 12.0ms postprocess per image at shape (1, 3, 384, 640)\n",
      "(2160, 3840, 3)\n",
      "(480, 852, 3)\n",
      "\n",
      "0: 384x640 8 persons, 5 cars, 3 motorcycles, 1 truck, 29.5ms\n",
      "Speed: 1.2ms preprocess, 29.5ms inference, 12.0ms postprocess per image at shape (1, 3, 384, 640)\n",
      "(2160, 3840, 3)\n",
      "(480, 852, 3)\n",
      "\n",
      "0: 384x640 8 persons, 5 cars, 3 motorcycles, 1 truck, 29.6ms\n",
      "Speed: 1.2ms preprocess, 29.6ms inference, 12.1ms postprocess per image at shape (1, 3, 384, 640)\n",
      "(2160, 3840, 3)\n",
      "(480, 852, 3)\n",
      "\n",
      "0: 384x640 8 persons, 5 cars, 3 motorcycles, 1 truck, 29.6ms\n",
      "Speed: 1.4ms preprocess, 29.6ms inference, 12.0ms postprocess per image at shape (1, 3, 384, 640)\n",
      "(2160, 3840, 3)\n",
      "(480, 852, 3)\n",
      "\n",
      "0: 384x640 8 persons, 5 cars, 3 motorcycles, 1 truck, 1 backpack, 29.9ms\n",
      "Speed: 1.6ms preprocess, 29.9ms inference, 12.1ms postprocess per image at shape (1, 3, 384, 640)\n",
      "(2160, 3840, 3)\n",
      "(480, 852, 3)\n",
      "\n",
      "0: 384x640 8 persons, 5 cars, 3 motorcycles, 1 truck, 1 backpack, 30.0ms\n",
      "Speed: 1.1ms preprocess, 30.0ms inference, 12.0ms postprocess per image at shape (1, 3, 384, 640)\n",
      "(2160, 3840, 3)\n",
      "(480, 852, 3)\n",
      "\n",
      "0: 384x640 8 persons, 5 cars, 4 motorcycles, 1 truck, 1 backpack, 29.9ms\n",
      "Speed: 1.3ms preprocess, 29.9ms inference, 12.0ms postprocess per image at shape (1, 3, 384, 640)\n",
      "(2160, 3840, 3)\n",
      "(480, 852, 3)\n",
      "\n",
      "0: 384x640 8 persons, 5 cars, 4 motorcycles, 1 truck, 1 backpack, 30.2ms\n",
      "Speed: 3.0ms preprocess, 30.2ms inference, 12.1ms postprocess per image at shape (1, 3, 384, 640)\n",
      "(2160, 3840, 3)\n",
      "(480, 852, 3)\n",
      "\n",
      "0: 384x640 6 persons, 6 cars, 4 motorcycles, 1 truck, 1 backpack, 16.5ms\n",
      "Speed: 1.1ms preprocess, 16.5ms inference, 0.7ms postprocess per image at shape (1, 3, 384, 640)\n",
      "(2160, 3840, 3)\n",
      "(480, 852, 3)\n",
      "\n",
      "0: 384x640 6 persons, 6 cars, 4 motorcycles, 1 truck, 1 backpack, 15.2ms\n",
      "Speed: 1.0ms preprocess, 15.2ms inference, 0.6ms postprocess per image at shape (1, 3, 384, 640)\n",
      "(2160, 3840, 3)\n",
      "(480, 852, 3)\n",
      "\n",
      "0: 384x640 6 persons, 6 cars, 4 motorcycles, 1 truck, 1 backpack, 15.1ms\n",
      "Speed: 1.0ms preprocess, 15.1ms inference, 1.2ms postprocess per image at shape (1, 3, 384, 640)\n",
      "(2160, 3840, 3)\n",
      "(480, 852, 3)\n",
      "\n",
      "0: 384x640 6 persons, 6 cars, 4 motorcycles, 1 truck, 1 backpack, 14.3ms\n",
      "Speed: 1.0ms preprocess, 14.3ms inference, 3.6ms postprocess per image at shape (1, 3, 384, 640)\n",
      "(2160, 3840, 3)\n",
      "(480, 852, 3)\n",
      "\n",
      "0: 384x640 6 persons, 6 cars, 4 motorcycles, 1 truck, 1 backpack, 16.2ms\n",
      "Speed: 1.0ms preprocess, 16.2ms inference, 0.6ms postprocess per image at shape (1, 3, 384, 640)\n",
      "(2160, 3840, 3)\n",
      "(480, 852, 3)\n",
      "\n",
      "0: 384x640 6 persons, 6 cars, 4 motorcycles, 1 truck, 1 backpack, 15.6ms\n",
      "Speed: 1.0ms preprocess, 15.6ms inference, 3.6ms postprocess per image at shape (1, 3, 384, 640)\n",
      "(2160, 3840, 3)\n",
      "(480, 852, 3)\n",
      "\n",
      "0: 384x640 6 persons, 6 cars, 4 motorcycles, 1 truck, 1 backpack, 16.1ms\n",
      "Speed: 1.0ms preprocess, 16.1ms inference, 0.7ms postprocess per image at shape (1, 3, 384, 640)\n",
      "(2160, 3840, 3)\n",
      "(480, 852, 3)\n",
      "\n",
      "0: 384x640 6 persons, 6 cars, 4 motorcycles, 1 truck, 1 backpack, 15.2ms\n",
      "Speed: 1.0ms preprocess, 15.2ms inference, 3.6ms postprocess per image at shape (1, 3, 384, 640)\n",
      "(2160, 3840, 3)\n",
      "(480, 852, 3)\n",
      "\n",
      "0: 384x640 6 persons, 6 cars, 5 motorcycles, 1 truck, 1 backpack, 16.0ms\n",
      "Speed: 1.0ms preprocess, 16.0ms inference, 0.6ms postprocess per image at shape (1, 3, 384, 640)\n",
      "(2160, 3840, 3)\n",
      "(480, 852, 3)\n",
      "\n",
      "0: 384x640 7 persons, 6 cars, 5 motorcycles, 1 truck, 1 backpack, 15.2ms\n",
      "Speed: 1.1ms preprocess, 15.2ms inference, 3.5ms postprocess per image at shape (1, 3, 384, 640)\n",
      "(2160, 3840, 3)\n",
      "(480, 852, 3)\n",
      "\n",
      "0: 384x640 7 persons, 6 cars, 5 motorcycles, 1 truck, 1 backpack, 15.9ms\n",
      "Speed: 1.0ms preprocess, 15.9ms inference, 0.6ms postprocess per image at shape (1, 3, 384, 640)\n",
      "(2160, 3840, 3)\n",
      "(480, 852, 3)\n",
      "\n",
      "0: 384x640 7 persons, 6 cars, 5 motorcycles, 1 truck, 1 backpack, 15.2ms\n",
      "Speed: 1.0ms preprocess, 15.2ms inference, 3.5ms postprocess per image at shape (1, 3, 384, 640)\n",
      "(2160, 3840, 3)\n",
      "(480, 852, 3)\n",
      "\n",
      "0: 384x640 7 persons, 6 cars, 5 motorcycles, 1 truck, 1 backpack, 15.9ms\n",
      "Speed: 1.0ms preprocess, 15.9ms inference, 0.6ms postprocess per image at shape (1, 3, 384, 640)\n",
      "(2160, 3840, 3)\n",
      "(480, 852, 3)\n",
      "\n",
      "0: 384x640 7 persons, 6 cars, 5 motorcycles, 1 truck, 1 backpack, 15.1ms\n",
      "Speed: 1.0ms preprocess, 15.1ms inference, 0.7ms postprocess per image at shape (1, 3, 384, 640)\n",
      "(2160, 3840, 3)\n",
      "(480, 852, 3)\n",
      "\n",
      "0: 384x640 8 persons, 6 cars, 5 motorcycles, 1 truck, 1 backpack, 26.8ms\n",
      "Speed: 1.6ms preprocess, 26.8ms inference, 12.0ms postprocess per image at shape (1, 3, 384, 640)\n",
      "(2160, 3840, 3)\n",
      "(480, 852, 3)\n",
      "\n",
      "0: 384x640 8 persons, 6 cars, 5 motorcycles, 1 truck, 1 backpack, 26.8ms\n",
      "Speed: 2.6ms preprocess, 26.8ms inference, 12.0ms postprocess per image at shape (1, 3, 384, 640)\n",
      "(2160, 3840, 3)\n",
      "(480, 852, 3)\n",
      "\n",
      "0: 384x640 8 persons, 6 cars, 5 motorcycles, 1 truck, 1 backpack, 29.3ms\n",
      "Speed: 2.7ms preprocess, 29.3ms inference, 12.0ms postprocess per image at shape (1, 3, 384, 640)\n",
      "(2160, 3840, 3)\n",
      "(480, 852, 3)\n",
      "\n",
      "0: 384x640 8 persons, 6 cars, 5 motorcycles, 1 truck, 1 backpack, 29.5ms\n",
      "Speed: 2.8ms preprocess, 29.5ms inference, 12.0ms postprocess per image at shape (1, 3, 384, 640)\n",
      "(2160, 3840, 3)\n",
      "(480, 852, 3)\n",
      "\n",
      "0: 384x640 8 persons, 6 cars, 5 motorcycles, 1 truck, 1 backpack, 29.8ms\n",
      "Speed: 2.4ms preprocess, 29.8ms inference, 12.1ms postprocess per image at shape (1, 3, 384, 640)\n",
      "(2160, 3840, 3)\n",
      "(480, 852, 3)\n",
      "\n",
      "0: 384x640 8 persons, 6 cars, 5 motorcycles, 1 truck, 1 backpack, 29.6ms\n",
      "Speed: 2.6ms preprocess, 29.6ms inference, 12.1ms postprocess per image at shape (1, 3, 384, 640)\n",
      "(2160, 3840, 3)\n",
      "(480, 852, 3)\n",
      "\n",
      "0: 384x640 8 persons, 6 cars, 5 motorcycles, 1 truck, 1 backpack, 29.7ms\n",
      "Speed: 2.9ms preprocess, 29.7ms inference, 12.0ms postprocess per image at shape (1, 3, 384, 640)\n",
      "(2160, 3840, 3)\n",
      "(480, 852, 3)\n",
      "\n",
      "0: 384x640 8 persons, 6 cars, 5 motorcycles, 1 truck, 1 backpack, 29.6ms\n",
      "Speed: 1.8ms preprocess, 29.6ms inference, 12.1ms postprocess per image at shape (1, 3, 384, 640)\n",
      "(2160, 3840, 3)\n",
      "(480, 852, 3)\n",
      "\n",
      "0: 384x640 8 persons, 6 cars, 5 motorcycles, 1 truck, 1 backpack, 26.8ms\n",
      "Speed: 2.6ms preprocess, 26.8ms inference, 12.0ms postprocess per image at shape (1, 3, 384, 640)\n",
      "(2160, 3840, 3)\n",
      "(480, 852, 3)\n",
      "\n",
      "0: 384x640 8 persons, 5 cars, 5 motorcycles, 1 truck, 1 backpack, 29.5ms\n",
      "Speed: 2.6ms preprocess, 29.5ms inference, 12.0ms postprocess per image at shape (1, 3, 384, 640)\n",
      "(2160, 3840, 3)\n",
      "(480, 852, 3)\n",
      "\n",
      "0: 384x640 8 persons, 5 cars, 5 motorcycles, 1 truck, 1 backpack, 29.4ms\n",
      "Speed: 2.6ms preprocess, 29.4ms inference, 12.0ms postprocess per image at shape (1, 3, 384, 640)\n",
      "(2160, 3840, 3)\n",
      "(480, 852, 3)\n",
      "\n",
      "0: 384x640 8 persons, 5 cars, 4 motorcycles, 1 truck, 1 backpack, 29.6ms\n",
      "Speed: 2.7ms preprocess, 29.6ms inference, 12.0ms postprocess per image at shape (1, 3, 384, 640)\n",
      "(2160, 3840, 3)\n",
      "(480, 852, 3)\n",
      "\n",
      "0: 384x640 8 persons, 6 cars, 4 motorcycles, 1 truck, 1 backpack, 29.8ms\n",
      "Speed: 2.8ms preprocess, 29.8ms inference, 12.0ms postprocess per image at shape (1, 3, 384, 640)\n",
      "(2160, 3840, 3)\n",
      "(480, 852, 3)\n",
      "\n",
      "0: 384x640 8 persons, 6 cars, 4 motorcycles, 1 truck, 1 backpack, 29.4ms\n",
      "Speed: 2.8ms preprocess, 29.4ms inference, 12.0ms postprocess per image at shape (1, 3, 384, 640)\n",
      "(2160, 3840, 3)\n",
      "(480, 852, 3)\n",
      "\n",
      "0: 384x640 7 persons, 6 cars, 4 motorcycles, 1 truck, 1 backpack, 23.8ms\n",
      "Speed: 2.8ms preprocess, 23.8ms inference, 12.1ms postprocess per image at shape (1, 3, 384, 640)\n",
      "(2160, 3840, 3)\n",
      "(480, 852, 3)\n",
      "\n",
      "0: 384x640 7 persons, 6 cars, 4 motorcycles, 1 truck, 1 backpack, 26.5ms\n",
      "Speed: 2.9ms preprocess, 26.5ms inference, 12.0ms postprocess per image at shape (1, 3, 384, 640)\n",
      "(2160, 3840, 3)\n",
      "(480, 852, 3)\n",
      "\n",
      "0: 384x640 7 persons, 6 cars, 4 motorcycles, 1 truck, 1 backpack, 26.8ms\n",
      "Speed: 2.5ms preprocess, 26.8ms inference, 12.0ms postprocess per image at shape (1, 3, 384, 640)\n",
      "(2160, 3840, 3)\n",
      "(480, 852, 3)\n",
      "\n",
      "0: 384x640 7 persons, 6 cars, 4 motorcycles, 1 truck, 1 backpack, 29.4ms\n",
      "Speed: 2.9ms preprocess, 29.4ms inference, 12.0ms postprocess per image at shape (1, 3, 384, 640)\n",
      "(2160, 3840, 3)\n",
      "(480, 852, 3)\n",
      "\n",
      "0: 384x640 8 persons, 6 cars, 4 motorcycles, 1 truck, 1 backpack, 29.6ms\n",
      "Speed: 2.6ms preprocess, 29.6ms inference, 12.0ms postprocess per image at shape (1, 3, 384, 640)\n",
      "(2160, 3840, 3)\n",
      "(480, 852, 3)\n",
      "\n",
      "0: 384x640 8 persons, 6 cars, 5 motorcycles, 1 truck, 1 backpack, 29.7ms\n",
      "Speed: 2.6ms preprocess, 29.7ms inference, 12.0ms postprocess per image at shape (1, 3, 384, 640)\n",
      "(2160, 3840, 3)\n",
      "(480, 852, 3)\n",
      "\n",
      "0: 384x640 8 persons, 6 cars, 5 motorcycles, 1 truck, 1 backpack, 30.2ms\n",
      "Speed: 2.3ms preprocess, 30.2ms inference, 12.0ms postprocess per image at shape (1, 3, 384, 640)\n",
      "(2160, 3840, 3)\n",
      "(480, 852, 3)\n",
      "\n",
      "0: 384x640 8 persons, 6 cars, 5 motorcycles, 1 truck, 1 backpack, 29.7ms\n",
      "Speed: 2.4ms preprocess, 29.7ms inference, 12.0ms postprocess per image at shape (1, 3, 384, 640)\n",
      "(2160, 3840, 3)\n",
      "(480, 852, 3)\n",
      "\n"
     ]
    },
    {
     "ename": "KeyboardInterrupt",
     "evalue": "",
     "output_type": "error",
     "traceback": [
      "\u001b[0;31m---------------------------------------------------------------------------\u001b[0m",
      "\u001b[0;31mKeyboardInterrupt\u001b[0m                         Traceback (most recent call last)",
      "Cell \u001b[0;32mIn[7], line 27\u001b[0m\n\u001b[1;32m     24\u001b[0m \u001b[38;5;28mprint\u001b[39m(frame\u001b[38;5;241m.\u001b[39mshape)\n\u001b[1;32m     26\u001b[0m \u001b[38;5;66;03m# Run YOLOv8 tracking on the frame, persisting tracks between frames\u001b[39;00m\n\u001b[0;32m---> 27\u001b[0m results \u001b[38;5;241m=\u001b[39m model\u001b[38;5;241m.\u001b[39mtrack(frame, persist\u001b[38;5;241m=\u001b[39m\u001b[38;5;28;01mTrue\u001b[39;00m,tracker\u001b[38;5;241m=\u001b[39m\u001b[38;5;124m\"\u001b[39m\u001b[38;5;124mbytetrack.yaml\u001b[39m\u001b[38;5;124m\"\u001b[39m) \u001b[38;5;66;03m# , show=True, stream=True\u001b[39;00m\n\u001b[1;32m     29\u001b[0m \u001b[38;5;28;01mtry\u001b[39;00m:\n\u001b[1;32m     30\u001b[0m     \u001b[38;5;66;03m# Get the boxes and track IDs\u001b[39;00m\n\u001b[1;32m     31\u001b[0m     boxes \u001b[38;5;241m=\u001b[39m results[\u001b[38;5;241m0\u001b[39m]\u001b[38;5;241m.\u001b[39mboxes\u001b[38;5;241m.\u001b[39mxywh\u001b[38;5;241m.\u001b[39mcpu()\n",
      "File \u001b[0;32m~/miniconda3/envs/tracking/lib/python3.12/site-packages/ultralytics/engine/model.py:493\u001b[0m, in \u001b[0;36mModel.track\u001b[0;34m(self, source, stream, persist, **kwargs)\u001b[0m\n\u001b[1;32m    491\u001b[0m kwargs[\u001b[38;5;124m\"\u001b[39m\u001b[38;5;124mbatch\u001b[39m\u001b[38;5;124m\"\u001b[39m] \u001b[38;5;241m=\u001b[39m kwargs\u001b[38;5;241m.\u001b[39mget(\u001b[38;5;124m\"\u001b[39m\u001b[38;5;124mbatch\u001b[39m\u001b[38;5;124m\"\u001b[39m) \u001b[38;5;129;01mor\u001b[39;00m \u001b[38;5;241m1\u001b[39m  \u001b[38;5;66;03m# batch-size 1 for tracking in videos\u001b[39;00m\n\u001b[1;32m    492\u001b[0m kwargs[\u001b[38;5;124m\"\u001b[39m\u001b[38;5;124mmode\u001b[39m\u001b[38;5;124m\"\u001b[39m] \u001b[38;5;241m=\u001b[39m \u001b[38;5;124m\"\u001b[39m\u001b[38;5;124mtrack\u001b[39m\u001b[38;5;124m\"\u001b[39m\n\u001b[0;32m--> 493\u001b[0m \u001b[38;5;28;01mreturn\u001b[39;00m \u001b[38;5;28mself\u001b[39m\u001b[38;5;241m.\u001b[39mpredict(source\u001b[38;5;241m=\u001b[39msource, stream\u001b[38;5;241m=\u001b[39mstream, \u001b[38;5;241m*\u001b[39m\u001b[38;5;241m*\u001b[39mkwargs)\n",
      "File \u001b[0;32m~/miniconda3/envs/tracking/lib/python3.12/site-packages/ultralytics/engine/model.py:453\u001b[0m, in \u001b[0;36mModel.predict\u001b[0;34m(self, source, stream, predictor, **kwargs)\u001b[0m\n\u001b[1;32m    451\u001b[0m \u001b[38;5;28;01mif\u001b[39;00m prompts \u001b[38;5;129;01mand\u001b[39;00m \u001b[38;5;28mhasattr\u001b[39m(\u001b[38;5;28mself\u001b[39m\u001b[38;5;241m.\u001b[39mpredictor, \u001b[38;5;124m\"\u001b[39m\u001b[38;5;124mset_prompts\u001b[39m\u001b[38;5;124m\"\u001b[39m):  \u001b[38;5;66;03m# for SAM-type models\u001b[39;00m\n\u001b[1;32m    452\u001b[0m     \u001b[38;5;28mself\u001b[39m\u001b[38;5;241m.\u001b[39mpredictor\u001b[38;5;241m.\u001b[39mset_prompts(prompts)\n\u001b[0;32m--> 453\u001b[0m \u001b[38;5;28;01mreturn\u001b[39;00m \u001b[38;5;28mself\u001b[39m\u001b[38;5;241m.\u001b[39mpredictor\u001b[38;5;241m.\u001b[39mpredict_cli(source\u001b[38;5;241m=\u001b[39msource) \u001b[38;5;28;01mif\u001b[39;00m is_cli \u001b[38;5;28;01melse\u001b[39;00m \u001b[38;5;28mself\u001b[39m\u001b[38;5;241m.\u001b[39mpredictor(source\u001b[38;5;241m=\u001b[39msource, stream\u001b[38;5;241m=\u001b[39mstream)\n",
      "File \u001b[0;32m~/miniconda3/envs/tracking/lib/python3.12/site-packages/ultralytics/engine/predictor.py:168\u001b[0m, in \u001b[0;36mBasePredictor.__call__\u001b[0;34m(self, source, model, stream, *args, **kwargs)\u001b[0m\n\u001b[1;32m    166\u001b[0m     \u001b[38;5;28;01mreturn\u001b[39;00m \u001b[38;5;28mself\u001b[39m\u001b[38;5;241m.\u001b[39mstream_inference(source, model, \u001b[38;5;241m*\u001b[39margs, \u001b[38;5;241m*\u001b[39m\u001b[38;5;241m*\u001b[39mkwargs)\n\u001b[1;32m    167\u001b[0m \u001b[38;5;28;01melse\u001b[39;00m:\n\u001b[0;32m--> 168\u001b[0m     \u001b[38;5;28;01mreturn\u001b[39;00m \u001b[38;5;28mlist\u001b[39m(\u001b[38;5;28mself\u001b[39m\u001b[38;5;241m.\u001b[39mstream_inference(source, model, \u001b[38;5;241m*\u001b[39margs, \u001b[38;5;241m*\u001b[39m\u001b[38;5;241m*\u001b[39mkwargs))\n",
      "File \u001b[0;32m~/miniconda3/envs/tracking/lib/python3.12/site-packages/torch/utils/_contextlib.py:35\u001b[0m, in \u001b[0;36m_wrap_generator.<locals>.generator_context\u001b[0;34m(*args, **kwargs)\u001b[0m\n\u001b[1;32m     32\u001b[0m \u001b[38;5;28;01mtry\u001b[39;00m:\n\u001b[1;32m     33\u001b[0m     \u001b[38;5;66;03m# Issuing `None` to a generator fires it up\u001b[39;00m\n\u001b[1;32m     34\u001b[0m     \u001b[38;5;28;01mwith\u001b[39;00m ctx_factory():\n\u001b[0;32m---> 35\u001b[0m         response \u001b[38;5;241m=\u001b[39m gen\u001b[38;5;241m.\u001b[39msend(\u001b[38;5;28;01mNone\u001b[39;00m)\n\u001b[1;32m     37\u001b[0m     \u001b[38;5;28;01mwhile\u001b[39;00m \u001b[38;5;28;01mTrue\u001b[39;00m:\n\u001b[1;32m     38\u001b[0m         \u001b[38;5;28;01mtry\u001b[39;00m:\n\u001b[1;32m     39\u001b[0m             \u001b[38;5;66;03m# Forward the response to our caller and get its next request\u001b[39;00m\n",
      "File \u001b[0;32m~/miniconda3/envs/tracking/lib/python3.12/site-packages/ultralytics/engine/predictor.py:253\u001b[0m, in \u001b[0;36mBasePredictor.stream_inference\u001b[0;34m(self, source, model, *args, **kwargs)\u001b[0m\n\u001b[1;32m    250\u001b[0m     im \u001b[38;5;241m=\u001b[39m \u001b[38;5;28mself\u001b[39m\u001b[38;5;241m.\u001b[39mpreprocess(im0s)\n\u001b[1;32m    252\u001b[0m \u001b[38;5;66;03m# Inference\u001b[39;00m\n\u001b[0;32m--> 253\u001b[0m \u001b[38;5;28;01mwith\u001b[39;00m profilers[\u001b[38;5;241m1\u001b[39m]:\n\u001b[1;32m    254\u001b[0m     preds \u001b[38;5;241m=\u001b[39m \u001b[38;5;28mself\u001b[39m\u001b[38;5;241m.\u001b[39minference(im, \u001b[38;5;241m*\u001b[39margs, \u001b[38;5;241m*\u001b[39m\u001b[38;5;241m*\u001b[39mkwargs)\n\u001b[1;32m    255\u001b[0m     \u001b[38;5;28;01mif\u001b[39;00m \u001b[38;5;28mself\u001b[39m\u001b[38;5;241m.\u001b[39margs\u001b[38;5;241m.\u001b[39membed:\n",
      "File \u001b[0;32m~/miniconda3/envs/tracking/lib/python3.12/site-packages/ultralytics/utils/ops.py:51\u001b[0m, in \u001b[0;36mProfile.__exit__\u001b[0;34m(self, type, value, traceback)\u001b[0m\n\u001b[1;32m     49\u001b[0m \u001b[38;5;28;01mdef\u001b[39;00m \u001b[38;5;21m__exit__\u001b[39m(\u001b[38;5;28mself\u001b[39m, \u001b[38;5;28mtype\u001b[39m, value, traceback):  \u001b[38;5;66;03m# noqa\u001b[39;00m\n\u001b[1;32m     50\u001b[0m \u001b[38;5;250m    \u001b[39m\u001b[38;5;124;03m\"\"\"Stop timing.\"\"\"\u001b[39;00m\n\u001b[0;32m---> 51\u001b[0m     \u001b[38;5;28mself\u001b[39m\u001b[38;5;241m.\u001b[39mdt \u001b[38;5;241m=\u001b[39m \u001b[38;5;28mself\u001b[39m\u001b[38;5;241m.\u001b[39mtime() \u001b[38;5;241m-\u001b[39m \u001b[38;5;28mself\u001b[39m\u001b[38;5;241m.\u001b[39mstart  \u001b[38;5;66;03m# delta-time\u001b[39;00m\n\u001b[1;32m     52\u001b[0m     \u001b[38;5;28mself\u001b[39m\u001b[38;5;241m.\u001b[39mt \u001b[38;5;241m+\u001b[39m\u001b[38;5;241m=\u001b[39m \u001b[38;5;28mself\u001b[39m\u001b[38;5;241m.\u001b[39mdt\n",
      "File \u001b[0;32m~/miniconda3/envs/tracking/lib/python3.12/site-packages/ultralytics/utils/ops.py:61\u001b[0m, in \u001b[0;36mProfile.time\u001b[0;34m(self)\u001b[0m\n\u001b[1;32m     59\u001b[0m \u001b[38;5;250m\u001b[39m\u001b[38;5;124;03m\"\"\"Get current time.\"\"\"\u001b[39;00m\n\u001b[1;32m     60\u001b[0m \u001b[38;5;28;01mif\u001b[39;00m \u001b[38;5;28mself\u001b[39m\u001b[38;5;241m.\u001b[39mcuda:\n\u001b[0;32m---> 61\u001b[0m     torch\u001b[38;5;241m.\u001b[39mcuda\u001b[38;5;241m.\u001b[39msynchronize(\u001b[38;5;28mself\u001b[39m\u001b[38;5;241m.\u001b[39mdevice)\n\u001b[1;32m     62\u001b[0m \u001b[38;5;28;01mreturn\u001b[39;00m time\u001b[38;5;241m.\u001b[39mtime()\n",
      "File \u001b[0;32m~/miniconda3/envs/tracking/lib/python3.12/site-packages/torch/cuda/__init__.py:792\u001b[0m, in \u001b[0;36msynchronize\u001b[0;34m(device)\u001b[0m\n\u001b[1;32m    790\u001b[0m _lazy_init()\n\u001b[1;32m    791\u001b[0m \u001b[38;5;28;01mwith\u001b[39;00m torch\u001b[38;5;241m.\u001b[39mcuda\u001b[38;5;241m.\u001b[39mdevice(device):\n\u001b[0;32m--> 792\u001b[0m     \u001b[38;5;28;01mreturn\u001b[39;00m torch\u001b[38;5;241m.\u001b[39m_C\u001b[38;5;241m.\u001b[39m_cuda_synchronize()\n",
      "\u001b[0;31mKeyboardInterrupt\u001b[0m: "
     ]
    }
   ],
   "source": [
    "# Store the track history\n",
    "track_history = defaultdict(lambda: [])\n",
    "\n",
    "# Below VideoWriter object will create a frame of above defined The output  \n",
    "# is stored in 'output.mp4' file. \n",
    "output_video = cv2.VideoWriter(\"../output/\"+fname+\"_output.mp4\",  \n",
    "                         cv2.VideoWriter_fourcc(*'mp4v'), # writer object # XVID\n",
    "                        #  cv2.VideoWriter_fourcc(*'XVID'),\n",
    "                        #  cv2.VideoWriter_fourcc('m', 'p', '4', 'v'),\n",
    "                         int(cap.get(cv2.CAP_PROP_FPS)), # FPS\n",
    "                         (852,480)) # frame size\n",
    "\n",
    "# Loop through the video frames\n",
    "i=0\n",
    "while cap.isOpened():\n",
    "    i+=1\n",
    "    # Read a frame from the video\n",
    "    success, frame = cap.read()\n",
    "\n",
    "    if success:\n",
    "\n",
    "        print(frame.shape)\n",
    "        frame = cv2.resize(frame, dsize=(852,480))# reshape to 480, 852\n",
    "        print(frame.shape)\n",
    "\n",
    "        # Run YOLOv8 tracking on the frame, persisting tracks between frames\n",
    "        results = model.track(frame, persist=True,tracker=\"bytetrack.yaml\") # , show=True, stream=True\n",
    "\n",
    "        try:\n",
    "            # Get the boxes and track IDs\n",
    "            boxes = results[0].boxes.xywh.cpu()\n",
    "            track_ids = results[0].boxes.id.int().cpu().tolist()\n",
    "\n",
    "            # Visualize the results on the frame\n",
    "            annotated_frame = results[0].plot()\n",
    "\n",
    "            # Plot the tracks\n",
    "            for box, track_id in zip(boxes, track_ids):\n",
    "                x, y, w, h = box\n",
    "                track = track_history[track_id]\n",
    "                track.append((float(x), float(y)))  # x, y center point\n",
    "                if len(track) > 30:  # retain 90 tracks for 90 frames\n",
    "                    track.pop(0)\n",
    "\n",
    "                # Draw the tracking lines\n",
    "                points = np.hstack(track).astype(np.int32).reshape((-1, 1, 2))\n",
    "                cv2.polylines(annotated_frame, [points], isClosed=False, color=(255,0,0), thickness=10)\n",
    "\n",
    "        except:\n",
    "            annotated_frame = frame\n",
    "\n",
    "        # Break the loop if 'q' is pressed\n",
    "        if cv2.waitKey(1) & 0xFF == ord(\"q\"):\n",
    "            break\n",
    "        \n",
    "        # Display the annotated frame (requires X-forwarding ...)\n",
    "        # cv2.imshow(\"YOLOv8 Tracking\", annotated_frame)\n",
    "\n",
    "        # write the frame to the output file\n",
    "        output_video.write(annotated_frame)\n",
    "\n",
    "        # save every n-th frame as jpg\n",
    "        n=500\n",
    "        if i % n == 0:\n",
    "            print('saving '+str(n)+'-th frame ...')\n",
    "            cv2.imwrite(\"../output/\"+fname+\"_frame_%d.jpg\" % i, annotated_frame)     # save frame as JPEG file \n",
    "\n",
    "        # except:\n",
    "        #     print(\"No detection in this frame, skipping ...\")\n",
    "\n",
    "\n",
    "\n",
    "        if i==80:\n",
    "            print(\"ok, that's enough ...\")\n",
    "            break\n",
    "\n",
    "        # Break the loop if 'q' is pressed\n",
    "        if cv2.waitKey(1) & 0xFF == ord(\"q\"):\n",
    "            break\n",
    "    else:\n",
    "        print(\"failed to read the frame :<\")\n",
    "        # Break the loop if the end of the video is reached\n",
    "        break\n",
    "\n",
    "# Release the video capture object and close the display window\n",
    "cap.release()\n",
    "output_video.release()\n",
    "cv2.destroyAllWindows()"
   ]
  },
  {
   "cell_type": "markdown",
   "metadata": {},
   "source": [
    "# Tracking on KITTI"
   ]
  },
  {
   "cell_type": "code",
   "execution_count": 8,
   "metadata": {},
   "outputs": [],
   "source": [
    "from collections import defaultdict\n",
    "import cv2\n",
    "import numpy as np\n",
    "\n",
    "from ultralytics import YOLO\n",
    "\n",
    "model = YOLO(\"../models/yolov8n.pt\")"
   ]
  },
  {
   "cell_type": "code",
   "execution_count": 9,
   "metadata": {},
   "outputs": [],
   "source": [
    "import numpy as np\n",
    "import matplotlib.pyplot as plt\n",
    "import sys\n",
    "sys.path.append(\"../utils/\") # Adds utils python modules path.\n",
    "from kitti_foundation import Kitti, Kitti_util\n",
    "%matplotlib inline\n",
    "\n",
    "v2c_filepath = '../datasets/KITTI/2011_09_26/calib_velo_to_cam.txt'\n",
    "c2c_filepath = '../datasets/KITTI/2011_09_26/calib_cam_to_cam.txt'\n",
    "xml_path = \"../datasets/KITTI/2011_09_26/2011_09_26_drive_0005_sync/tracklet_labels.xml\"\n",
    "\n",
    "velo_path = '../datasets/KITTI/2011_09_26/2011_09_26_drive_0005_sync/velodyne_points/data'\n",
    "camera_path = '../datasets/KITTI/2011_09_26/2011_09_26_drive_0005_sync/'\n",
    "\n",
    "frame_no = 115\n",
    "v_fov, h_fov = (-24.9, 2.0), (-90, 90) # field of view"
   ]
  },
  {
   "cell_type": "code",
   "execution_count": 10,
   "metadata": {},
   "outputs": [],
   "source": [
    "def draw_tracklets(check):\n",
    "    \"\"\" draw 3d bounding boxes around annotated objects \"\"\"\n",
    "    import cv2\n",
    "    tracklet_, type_ = check.tracklet_info\n",
    "\n",
    "    tracklet2d = []\n",
    "    for i, j in zip(tracklet_[frame_no], type_[frame_no]):\n",
    "        point = i.T\n",
    "        chk,_ = check._Kitti_util__velo_2_img_projection(point)\n",
    "        tracklet2d.append(chk)\n",
    "\n",
    "    type_c = { 'Car': (0, 0, 255), 'Van': (0, 255, 0), 'Truck': (255, 0, 0), 'Pedestrian': (0,255,255), \\\n",
    "        'Person (sitting)': (255, 0, 255), 'Cyclist': (255, 255, 0), 'Tram': (0, 0, 0), 'Misc': (255, 255, 255)}\n",
    "\n",
    "    line_order = ([0, 1], [1, 2],[2, 3],[3, 0], [4, 5], [5, 6], \\\n",
    "            [6 ,7], [7, 4], [4, 0], [5, 1], [6 ,2], [7, 3])\n",
    "\n",
    "    for i, j in zip(tracklet2d, type_[frame_no]):\n",
    "        for k in line_order:    \n",
    "            cv2.line(image, (int(i[0][k[0]]), int(i[1][k[0]])), (int(i[0][k[1]]), int(i[1][k[1]])), type_c[j], 2)\n",
    "        cv2.putText(image, j, (int(i[0][k[0]]), int(-10+i[1][k[0]])), cv2.FONT_HERSHEY_PLAIN, 1, type_c[j], 2)"
   ]
  },
  {
   "cell_type": "markdown",
   "metadata": {},
   "source": [
    "Just using a regular camera image"
   ]
  },
  {
   "cell_type": "code",
   "execution_count": 11,
   "metadata": {},
   "outputs": [
    {
     "name": "stdout",
     "output_type": "stream",
     "text": [
      "parsing tracklet file ../datasets/KITTI/2011_09_26/2011_09_26_drive_0005_sync/tracklet_labels.xml\n",
      "file contains 15 tracklets\n",
      "loaded 15 tracklets\n",
      "\n",
      "0: 224x640 4 cars, 47.3ms\n",
      "Speed: 0.7ms preprocess, 47.3ms inference, 0.5ms postprocess per image at shape (1, 3, 224, 640)\n"
     ]
    }
   ],
   "source": [
    "# read left camera image\n",
    "with_tracklets = True\n",
    "image_type = 'color'  # 'gray' or 'color' image\n",
    "mode = '00' if image_type == 'gray' else '02'  # image_00 = 'gray image' , image_02 = 'color image'\n",
    "\n",
    "image_path = camera_path+'image_' + mode + '/data'\n",
    "check = Kitti_util(frame=frame_no, velo_path=velo_path, camera_path=image_path, \\\n",
    "                   xml_path=xml_path, v2c_path=v2c_filepath, c2c_path=c2c_filepath)\n",
    "image = check.camera_file\n",
    "\n",
    "results = model.track(source=image, persist=True,tracker=\"bytetrack.yaml\")\n",
    "\n",
    "txt=\"\"\n",
    "if with_tracklets:\n",
    "    draw_tracklets(check)\n",
    "    txt=\"_with_tracklets\"\n",
    "\n",
    "for result in results:\n",
    "    result.save(filename=\"../output/result_only_camera_frame_\"+str(frame_no)+\"\"+txt+\".jpg\")  # save to disk\n"
   ]
  },
  {
   "cell_type": "code",
   "execution_count": 12,
   "metadata": {},
   "outputs": [
    {
     "data": {
      "text/plain": [
       "(375, 1242)"
      ]
     },
     "execution_count": 12,
     "metadata": {},
     "output_type": "execute_result"
    }
   ],
   "source": [
    "image[:,:,0].shape"
   ]
  },
  {
   "cell_type": "code",
   "execution_count": 13,
   "metadata": {},
   "outputs": [
    {
     "data": {
      "text/plain": [
       "<matplotlib.image.AxesImage at 0x7f5321f0e9f0>"
      ]
     },
     "execution_count": 13,
     "metadata": {},
     "output_type": "execute_result"
    },
    {
     "data": {
      "image/png": "[encoded data removed]",
      "text/plain": [
       "<Figure size 640x480 with 1 Axes>"
      ]
     },
     "metadata": {},
     "output_type": "display_data"
    }
   ],
   "source": [
    "plt.imshow(image)"
   ]
  },
  {
   "cell_type": "code",
   "execution_count": 14,
   "metadata": {},
   "outputs": [],
   "source": [
    "# results \"cheat sheet\":\n",
    "# # Process results list\n",
    "# for result in results:\n",
    "#     boxes = result.boxes  # Boxes object for bounding box outputs\n",
    "#     masks = result.masks  # Masks object for segmentation masks outputs\n",
    "#     keypoints = result.keypoints  # Keypoints object for pose outputs\n",
    "#     probs = result.probs  # Probs object for classification outputs\n",
    "#     obb = result.obb  # Oriented boxes object for OBB outputs\n",
    "#     result.show()  # display to screen\n",
    "#     result.save(filename=\"result.jpg\")  # save to disk"
   ]
  },
  {
   "cell_type": "markdown",
   "metadata": {},
   "source": [
    "Using a camera image with projected lidar data"
   ]
  },
  {
   "cell_type": "code",
   "execution_count": 15,
   "metadata": {},
   "outputs": [],
   "source": [
    "def print_projection_plt(points, color, image, velo_only=False):\n",
    "    \"\"\" project converted velodyne points into camera image \"\"\"\n",
    "    if velo_only:\n",
    "        hsv_image=image*0\n",
    "    else:\n",
    "        hsv_image = cv2.cvtColor(image, cv2.COLOR_BGR2HSV)\n",
    "\n",
    "    for i in range(points.shape[1]):\n",
    "        cv2.circle(hsv_image, (np.int32(points[0][i]),np.int32(points[1][i])),1, (int(color[i]),255,255),-1)\n",
    "\n",
    "    return cv2.cvtColor(hsv_image, cv2.COLOR_HSV2RGB)"
   ]
  },
  {
   "cell_type": "code",
   "execution_count": 18,
   "metadata": {},
   "outputs": [],
   "source": [
    "# v2c_filepath = '../datasets/KITTI/training/calib/0000.txt'\n",
    "# c2c_filepath = '../datasets/KITTI/training/calib/0000.txt'\n",
    "\n",
    "# velo_path = '../datasets/KITTI/training/velodyne/0000'\n",
    "# camera_path = '../datasets/KITTI/training/image_02/0000'"
   ]
  },
  {
   "cell_type": "code",
   "execution_count": 2,
   "metadata": {},
   "outputs": [],
   "source": [
    "def read_calib_file(filepath):\n",
    "    \"\"\"Read in a calibration file and parse into a dictionary.\"\"\"\n",
    "    import numpy as np\n",
    "    \n",
    "    data = {}\n",
    "\n",
    "    with open(filepath, 'r') as f:\n",
    "        for line in f.readlines():\n",
    "            try:\n",
    "                key, value = line.split(':', 1)\n",
    "            except ValueError:\n",
    "                key, value = line.split(' ', 1)\n",
    "            # The only non-float values in these files are dates, which\n",
    "            # we don't care about anyway\n",
    "            try:\n",
    "                data[key] = np.array([float(x) for x in value.split()])\n",
    "            except ValueError:\n",
    "                pass\n",
    "\n",
    "    return data"
   ]
  },
  {
   "cell_type": "code",
   "execution_count": 3,
   "metadata": {},
   "outputs": [],
   "source": [
    "import pandas as pd\n",
    "df = pd.read_csv('../datasets/KITTI/training/calib/0000.txt',sep=' ',index_col=0,usecols=range(13)).transpose()\n",
    "# df['index']=range(12)\n",
    "# df.reset_index()"
   ]
  },
  {
   "cell_type": "code",
   "execution_count": 4,
   "metadata": {},
   "outputs": [
    {
     "data": {
      "text/html": [
       "<div>\n",
       "<style scoped>\n",
       "    .dataframe tbody tr th:only-of-type {\n",
       "        vertical-align: middle;\n",
       "    }\n",
       "\n",
       "    .dataframe tbody tr th {\n",
       "        vertical-align: top;\n",
       "    }\n",
       "\n",
       "    .dataframe thead th {\n",
       "        text-align: right;\n",
       "    }\n",
       "</style>\n",
       "<table border=\"1\" class=\"dataframe\">\n",
       "  <thead>\n",
       "    <tr style=\"text-align: right;\">\n",
       "      <th>P0:</th>\n",
       "      <th>P1:</th>\n",
       "      <th>P2:</th>\n",
       "      <th>P3:</th>\n",
       "      <th>R_rect</th>\n",
       "      <th>Tr_velo_cam</th>\n",
       "      <th>Tr_imu_velo</th>\n",
       "    </tr>\n",
       "  </thead>\n",
       "  <tbody>\n",
       "    <tr>\n",
       "      <th>7.215377000000e+02</th>\n",
       "      <td>721.5377</td>\n",
       "      <td>721.537700</td>\n",
       "      <td>721.537700</td>\n",
       "      <td>0.999924</td>\n",
       "      <td>0.007534</td>\n",
       "      <td>0.999998</td>\n",
       "    </tr>\n",
       "    <tr>\n",
       "      <th>0.000000000000e+00</th>\n",
       "      <td>0.0000</td>\n",
       "      <td>0.000000</td>\n",
       "      <td>0.000000</td>\n",
       "      <td>0.009838</td>\n",
       "      <td>-0.999971</td>\n",
       "      <td>0.000755</td>\n",
       "    </tr>\n",
       "    <tr>\n",
       "      <th>6.095593000000e+02</th>\n",
       "      <td>609.5593</td>\n",
       "      <td>609.559300</td>\n",
       "      <td>609.559300</td>\n",
       "      <td>-0.007445</td>\n",
       "      <td>-0.000617</td>\n",
       "      <td>-0.002036</td>\n",
       "    </tr>\n",
       "    <tr>\n",
       "      <th>0.000000000000e+00.1</th>\n",
       "      <td>-387.5744</td>\n",
       "      <td>44.857280</td>\n",
       "      <td>-339.524200</td>\n",
       "      <td>-0.009870</td>\n",
       "      <td>-0.004070</td>\n",
       "      <td>-0.808676</td>\n",
       "    </tr>\n",
       "    <tr>\n",
       "      <th>0.000000000000e+00.2</th>\n",
       "      <td>0.0000</td>\n",
       "      <td>0.000000</td>\n",
       "      <td>0.000000</td>\n",
       "      <td>0.999942</td>\n",
       "      <td>0.014802</td>\n",
       "      <td>-0.000785</td>\n",
       "    </tr>\n",
       "    <tr>\n",
       "      <th>7.215377000000e+02.1</th>\n",
       "      <td>721.5377</td>\n",
       "      <td>721.537700</td>\n",
       "      <td>721.537700</td>\n",
       "      <td>-0.004278</td>\n",
       "      <td>0.000728</td>\n",
       "      <td>0.999890</td>\n",
       "    </tr>\n",
       "    <tr>\n",
       "      <th>1.728540000000e+02</th>\n",
       "      <td>172.8540</td>\n",
       "      <td>172.854000</td>\n",
       "      <td>172.854000</td>\n",
       "      <td>0.007403</td>\n",
       "      <td>-0.999890</td>\n",
       "      <td>-0.014823</td>\n",
       "    </tr>\n",
       "    <tr>\n",
       "      <th>0.000000000000e+00.3</th>\n",
       "      <td>0.0000</td>\n",
       "      <td>0.216379</td>\n",
       "      <td>2.199936</td>\n",
       "      <td>0.004352</td>\n",
       "      <td>-0.076316</td>\n",
       "      <td>0.319556</td>\n",
       "    </tr>\n",
       "    <tr>\n",
       "      <th>0.000000000000e+00.4</th>\n",
       "      <td>0.0000</td>\n",
       "      <td>0.000000</td>\n",
       "      <td>0.000000</td>\n",
       "      <td>0.999963</td>\n",
       "      <td>0.999862</td>\n",
       "      <td>0.002024</td>\n",
       "    </tr>\n",
       "    <tr>\n",
       "      <th>0.000000000000e+00.5</th>\n",
       "      <td>0.0000</td>\n",
       "      <td>0.000000</td>\n",
       "      <td>0.000000</td>\n",
       "      <td>NaN</td>\n",
       "      <td>0.007524</td>\n",
       "      <td>0.014825</td>\n",
       "    </tr>\n",
       "    <tr>\n",
       "      <th>1.000000000000e+00</th>\n",
       "      <td>1.0000</td>\n",
       "      <td>1.000000</td>\n",
       "      <td>1.000000</td>\n",
       "      <td>NaN</td>\n",
       "      <td>0.014808</td>\n",
       "      <td>0.999888</td>\n",
       "    </tr>\n",
       "    <tr>\n",
       "      <th>0.000000000000e+00.6</th>\n",
       "      <td>0.0000</td>\n",
       "      <td>0.002746</td>\n",
       "      <td>0.002730</td>\n",
       "      <td>NaN</td>\n",
       "      <td>-0.271781</td>\n",
       "      <td>-0.799723</td>\n",
       "    </tr>\n",
       "  </tbody>\n",
       "</table>\n",
       "</div>"
      ],
      "text/plain": [
       "P0:                        P1:         P2:         P3:    R_rect  Tr_velo_cam  \\\n",
       "7.215377000000e+02    721.5377  721.537700  721.537700  0.999924     0.007534   \n",
       "0.000000000000e+00      0.0000    0.000000    0.000000  0.009838    -0.999971   \n",
       "6.095593000000e+02    609.5593  609.559300  609.559300 -0.007445    -0.000617   \n",
       "0.000000000000e+00.1 -387.5744   44.857280 -339.524200 -0.009870    -0.004070   \n",
       "0.000000000000e+00.2    0.0000    0.000000    0.000000  0.999942     0.014802   \n",
       "7.215377000000e+02.1  721.5377  721.537700  721.537700 -0.004278     0.000728   \n",
       "1.728540000000e+02    172.8540  172.854000  172.854000  0.007403    -0.999890   \n",
       "0.000000000000e+00.3    0.0000    0.216379    2.199936  0.004352    -0.076316   \n",
       "0.000000000000e+00.4    0.0000    0.000000    0.000000  0.999963     0.999862   \n",
       "0.000000000000e+00.5    0.0000    0.000000    0.000000       NaN     0.007524   \n",
       "1.000000000000e+00      1.0000    1.000000    1.000000       NaN     0.014808   \n",
       "0.000000000000e+00.6    0.0000    0.002746    0.002730       NaN    -0.271781   \n",
       "\n",
       "P0:                   Tr_imu_velo  \n",
       "7.215377000000e+02       0.999998  \n",
       "0.000000000000e+00       0.000755  \n",
       "6.095593000000e+02      -0.002036  \n",
       "0.000000000000e+00.1    -0.808676  \n",
       "0.000000000000e+00.2    -0.000785  \n",
       "7.215377000000e+02.1     0.999890  \n",
       "1.728540000000e+02      -0.014823  \n",
       "0.000000000000e+00.3     0.319556  \n",
       "0.000000000000e+00.4     0.002024  \n",
       "0.000000000000e+00.5     0.014825  \n",
       "1.000000000000e+00       0.999888  \n",
       "0.000000000000e+00.6    -0.799723  "
      ]
     },
     "execution_count": 4,
     "metadata": {},
     "output_type": "execute_result"
    }
   ],
   "source": [
    "df"
   ]
  },
  {
   "cell_type": "code",
   "execution_count": 5,
   "metadata": {},
   "outputs": [
    {
     "data": {
      "text/plain": [
       "Index(['P1:', 'P2:', 'P3:', 'R_rect', 'Tr_velo_cam', 'Tr_imu_velo'], dtype='object', name='P0:')"
      ]
     },
     "execution_count": 5,
     "metadata": {},
     "output_type": "execute_result"
    }
   ],
   "source": [
    "df.keys()"
   ]
  },
  {
   "cell_type": "code",
   "execution_count": 6,
   "metadata": {},
   "outputs": [],
   "source": [
    "filedata = read_calib_file('../datasets/KITTI/training/calib/0000.txt')"
   ]
  },
  {
   "cell_type": "code",
   "execution_count": 7,
   "metadata": {},
   "outputs": [
    {
     "data": {
      "text/plain": [
       "{'P0': array([721.5377,   0.    , 609.5593,   0.    ,   0.    , 721.5377,\n",
       "        172.854 ,   0.    ,   0.    ,   0.    ,   1.    ,   0.    ]),\n",
       " 'P1': array([ 721.5377,    0.    ,  609.5593, -387.5744,    0.    ,  721.5377,\n",
       "         172.854 ,    0.    ,    0.    ,    0.    ,    1.    ,    0.    ]),\n",
       " 'P2': array([7.215377e+02, 0.000000e+00, 6.095593e+02, 4.485728e+01,\n",
       "        0.000000e+00, 7.215377e+02, 1.728540e+02, 2.163791e-01,\n",
       "        0.000000e+00, 0.000000e+00, 1.000000e+00, 2.745884e-03]),\n",
       " 'P3': array([ 7.215377e+02,  0.000000e+00,  6.095593e+02, -3.395242e+02,\n",
       "         0.000000e+00,  7.215377e+02,  1.728540e+02,  2.199936e+00,\n",
       "         0.000000e+00,  0.000000e+00,  1.000000e+00,  2.729905e-03]),\n",
       " 'R_rect': array([ 0.9999239 ,  0.00983776, -0.00744505, -0.0098698 ,  0.9999421 ,\n",
       "        -0.00427846,  0.00740253,  0.00435161,  0.9999631 ]),\n",
       " 'Tr_velo_cam': array([ 7.533745e-03, -9.999714e-01, -6.166020e-04, -4.069766e-03,\n",
       "         1.480249e-02,  7.280733e-04, -9.998902e-01, -7.631618e-02,\n",
       "         9.998621e-01,  7.523790e-03,  1.480755e-02, -2.717806e-01]),\n",
       " 'Tr_imu_velo': array([ 9.999976e-01,  7.553071e-04, -2.035826e-03, -8.086759e-01,\n",
       "        -7.854027e-04,  9.998898e-01, -1.482298e-02,  3.195559e-01,\n",
       "         2.024406e-03,  1.482454e-02,  9.998881e-01, -7.997231e-01])}"
      ]
     },
     "execution_count": 7,
     "metadata": {},
     "output_type": "execute_result"
    }
   ],
   "source": [
    "filedata"
   ]
  },
  {
   "cell_type": "code",
   "execution_count": 31,
   "metadata": {},
   "outputs": [
    {
     "data": {
      "text/plain": [
       "array([ 0.9999239 ,  0.00983776, -0.00744505, -0.0098698 ,  0.9999421 ,\n",
       "       -0.00427846,  0.00740253,  0.00435161,  0.9999631 ])"
      ]
     },
     "execution_count": 31,
     "metadata": {},
     "output_type": "execute_result"
    }
   ],
   "source": [
    "filedata['R_rect']"
   ]
  },
  {
   "cell_type": "code",
   "execution_count": 14,
   "metadata": {},
   "outputs": [],
   "source": [
    "import numpy as np\n",
    "\n",
    "data = {}\n",
    "\n",
    "# Create 3x4 projection matrices\n",
    "P_rect_00 = np.reshape(filedata['P0'], (3, 4))\n",
    "P_rect_10 = np.reshape(filedata['P1'], (3, 4))\n",
    "P_rect_20 = np.reshape(filedata['P2'], (3, 4))\n",
    "P_rect_30 = np.reshape(filedata['P3'], (3, 4))\n",
    "\n",
    "data['P_rect_00'] = P_rect_00\n",
    "data['P_rect_10'] = P_rect_10\n",
    "data['P_rect_20'] = P_rect_20\n",
    "data['P_rect_30'] = P_rect_30\n",
    "\n",
    "# Compute the rectified extrinsics from cam0 to camN\n",
    "T1 = np.eye(4)\n",
    "T1[0, 3] = P_rect_10[0, 3] / P_rect_10[0, 0]\n",
    "T2 = np.eye(4)\n",
    "T2[0, 3] = P_rect_20[0, 3] / P_rect_20[0, 0]\n",
    "T3 = np.eye(4)\n",
    "T3[0, 3] = P_rect_30[0, 3] / P_rect_30[0, 0]\n",
    "\n",
    "# Compute the velodyne to rectified camera coordinate transforms\n",
    "data['T_cam0_velo'] = np.reshape(filedata['Tr_velo_cam'], (3, 4))\n",
    "data['T_cam0_velo'] = np.vstack([data['T_cam0_velo'], [0, 0, 0, 1]])\n",
    "data['T_cam1_velo'] = T1.dot(data['T_cam0_velo'])\n",
    "data['T_cam2_velo'] = T2.dot(data['T_cam0_velo'])\n",
    "data['T_cam3_velo'] = T3.dot(data['T_cam0_velo'])\n",
    "\n",
    "# Compute the camera intrinsics\n",
    "data['K_cam0'] = P_rect_00[0:3, 0:3]\n",
    "data['K_cam1'] = P_rect_10[0:3, 0:3]\n",
    "data['K_cam2'] = P_rect_20[0:3, 0:3]\n",
    "data['K_cam3'] = P_rect_30[0:3, 0:3]\n",
    "\n",
    "# Compute the stereo baselines in meters by projecting the origin of\n",
    "# each camera frame into the velodyne frame and computing the distances\n",
    "# between them\n",
    "p_cam = np.array([0, 0, 0, 1])\n",
    "p_velo0 = np.linalg.inv(data['T_cam0_velo']).dot(p_cam)\n",
    "p_velo1 = np.linalg.inv(data['T_cam1_velo']).dot(p_cam)\n",
    "p_velo2 = np.linalg.inv(data['T_cam2_velo']).dot(p_cam)\n",
    "p_velo3 = np.linalg.inv(data['T_cam3_velo']).dot(p_cam)\n",
    "\n",
    "data['b_gray'] = np.linalg.norm(p_velo1 - p_velo0)  # gray baseline\n",
    "data['b_rgb'] = np.linalg.norm(p_velo3 - p_velo2)   # rgb baseline"
   ]
  },
  {
   "cell_type": "code",
   "execution_count": 30,
   "metadata": {},
   "outputs": [
    {
     "data": {
      "text/plain": [
       "array([[ 7.533745e-03, -9.999714e-01, -6.166020e-04, -4.069766e-03],\n",
       "       [ 1.480249e-02,  7.280733e-04, -9.998902e-01, -7.631618e-02],\n",
       "       [ 9.998621e-01,  7.523790e-03,  1.480755e-02, -2.717806e-01],\n",
       "       [ 0.000000e+00,  0.000000e+00,  0.000000e+00,  1.000000e+00]])"
      ]
     },
     "execution_count": 30,
     "metadata": {},
     "output_type": "execute_result"
    }
   ],
   "source": [
    "data['T_cam0_velo']"
   ]
  },
  {
   "cell_type": "code",
   "execution_count": null,
   "metadata": {},
   "outputs": [],
   "source": [
    "np.matmul(data['K_cam2'],np.matmul(data['P_rect_20'],np.matmul(,data['T_cam0_velo'])))"
   ]
  },
  {
   "cell_type": "code",
   "execution_count": 28,
   "metadata": {},
   "outputs": [
    {
     "data": {
      "text/plain": [
       "array([[ 4,  1],\n",
       "       [-2, -2]])"
      ]
     },
     "execution_count": 28,
     "metadata": {},
     "output_type": "execute_result"
    }
   ],
   "source": [
    "a = np.array([[1, 0],\n",
    "              [0, -1]])\n",
    "b = np.array([[4, 1],\n",
    "              [2, 2]])\n",
    "np.matmul(a, b)"
   ]
  },
  {
   "cell_type": "code",
   "execution_count": null,
   "metadata": {},
   "outputs": [],
   "source": [
    "def _load_calib(self):\n",
    "    \"\"\"Load and compute intrinsic and extrinsic calibration parameters.\"\"\"\n",
    "    # We'll build the calibration parameters as a dictionary, then\n",
    "    # convert it to a namedtuple to prevent it from being modified later\n",
    "    data = {}\n",
    "\n",
    "    # Load the calibration file\n",
    "    # calib_filepath = os.path.join(self.sequence_path + '.txt', 'calib.txt')\n",
    "    calib_filepath = os.path.join(self.base_path, 'calib', self.sequence + '.txt')\n",
    "    filedata = utils.read_calib_file(calib_filepath)\n",
    "\n",
    "    # Create 3x4 projection matrices\n",
    "    P_rect_00 = np.reshape(filedata['P0'], (3, 4))\n",
    "    P_rect_10 = np.reshape(filedata['P1'], (3, 4))\n",
    "    P_rect_20 = np.reshape(filedata['P2'], (3, 4))\n",
    "    P_rect_30 = np.reshape(filedata['P3'], (3, 4))\n",
    "\n",
    "    data['P_rect_00'] = P_rect_00\n",
    "    data['P_rect_10'] = P_rect_10\n",
    "    data['P_rect_20'] = P_rect_20\n",
    "    data['P_rect_30'] = P_rect_30\n",
    "\n",
    "    # Compute the rectified extrinsics from cam0 to camN\n",
    "    T1 = np.eye(4)\n",
    "    T1[0, 3] = P_rect_10[0, 3] / P_rect_10[0, 0]\n",
    "    T2 = np.eye(4)\n",
    "    T2[0, 3] = P_rect_20[0, 3] / P_rect_20[0, 0]\n",
    "    T3 = np.eye(4)\n",
    "    T3[0, 3] = P_rect_30[0, 3] / P_rect_30[0, 0]\n",
    "\n",
    "    # Compute the velodyne to rectified camera coordinate transforms\n",
    "    data['T_cam0_velo'] = np.reshape(filedata['Tr_velo_cam'], (3, 4))\n",
    "    data['T_cam0_velo'] = np.vstack([data['T_cam0_velo'], [0, 0, 0, 1]])\n",
    "    data['T_cam1_velo'] = T1.dot(data['T_cam0_velo'])\n",
    "    data['T_cam2_velo'] = T2.dot(data['T_cam0_velo'])\n",
    "    data['T_cam3_velo'] = T3.dot(data['T_cam0_velo'])\n",
    "\n",
    "    # Compute the camera intrinsics\n",
    "    data['K_cam0'] = P_rect_00[0:3, 0:3]\n",
    "    data['K_cam1'] = P_rect_10[0:3, 0:3]\n",
    "    data['K_cam2'] = P_rect_20[0:3, 0:3]\n",
    "    data['K_cam3'] = P_rect_30[0:3, 0:3]\n",
    "\n",
    "    # Compute the stereo baselines in meters by projecting the origin of\n",
    "    # each camera frame into the velodyne frame and computing the distances\n",
    "    # between them\n",
    "    p_cam = np.array([0, 0, 0, 1])\n",
    "    p_velo0 = np.linalg.inv(data['T_cam0_velo']).dot(p_cam)\n",
    "    p_velo1 = np.linalg.inv(data['T_cam1_velo']).dot(p_cam)\n",
    "    p_velo2 = np.linalg.inv(data['T_cam2_velo']).dot(p_cam)\n",
    "    p_velo3 = np.linalg.inv(data['T_cam3_velo']).dot(p_cam)\n",
    "\n",
    "    data['b_gray'] = np.linalg.norm(p_velo1 - p_velo0)  # gray baseline\n",
    "    data['b_rgb'] = np.linalg.norm(p_velo3 - p_velo2)   # rgb baseline\n",
    "\n",
    "    self.calib = namedtuple('CalibData', data.keys())(*data.values())"
   ]
  },
  {
   "cell_type": "code",
   "execution_count": null,
   "metadata": {},
   "outputs": [],
   "source": [
    "T^{cam2}_{velo} = P^{cam2}_{rect2} R^{rect2}_{ref2} T^{ref2}_{ref0} T^{ref0}_{velo}"
   ]
  },
  {
   "cell_type": "code",
   "execution_count": 19,
   "metadata": {},
   "outputs": [
    {
     "ename": "ValueError",
     "evalue": "not enough values to unpack (expected 2, got 1)",
     "output_type": "error",
     "traceback": [
      "\u001b[0;31m---------------------------------------------------------------------------\u001b[0m",
      "\u001b[0;31mValueError\u001b[0m                                Traceback (most recent call last)",
      "Cell \u001b[0;32mIn[19], line 8\u001b[0m\n\u001b[1;32m      4\u001b[0m image_path \u001b[38;5;241m=\u001b[39m camera_path\u001b[38;5;241m+\u001b[39m\u001b[38;5;124m'\u001b[39m\u001b[38;5;124mimage_\u001b[39m\u001b[38;5;124m'\u001b[39m \u001b[38;5;241m+\u001b[39m mode \u001b[38;5;241m+\u001b[39m \u001b[38;5;124m'\u001b[39m\u001b[38;5;124m/data\u001b[39m\u001b[38;5;124m'\u001b[39m\n\u001b[1;32m      5\u001b[0m res \u001b[38;5;241m=\u001b[39m Kitti_util(frame\u001b[38;5;241m=\u001b[39mframe_no, camera_path\u001b[38;5;241m=\u001b[39mimage_path, velo_path\u001b[38;5;241m=\u001b[39mvelo_path, \\\n\u001b[1;32m      6\u001b[0m                 v2c_path\u001b[38;5;241m=\u001b[39mv2c_filepath, c2c_path\u001b[38;5;241m=\u001b[39mc2c_filepath)\n\u001b[0;32m----> 8\u001b[0m img, pnt, c_ \u001b[38;5;241m=\u001b[39m res\u001b[38;5;241m.\u001b[39mvelo_projection_frame(v_fov\u001b[38;5;241m=\u001b[39mv_fov, h_fov\u001b[38;5;241m=\u001b[39mh_fov)\n\u001b[1;32m     10\u001b[0m image \u001b[38;5;241m=\u001b[39m print_projection_plt(pnt, c_, img, velo_only\u001b[38;5;241m=\u001b[39m\u001b[38;5;28;01mTrue\u001b[39;00m) \u001b[38;5;66;03m# img*0 \u001b[39;00m\n\u001b[1;32m     12\u001b[0m results \u001b[38;5;241m=\u001b[39m model\u001b[38;5;241m.\u001b[39mtrack(source\u001b[38;5;241m=\u001b[39mimage, persist\u001b[38;5;241m=\u001b[39m\u001b[38;5;28;01mTrue\u001b[39;00m,tracker\u001b[38;5;241m=\u001b[39m\u001b[38;5;124m\"\u001b[39m\u001b[38;5;124mbytetrack.yaml\u001b[39m\u001b[38;5;124m\"\u001b[39m)\n",
      "File \u001b[0;32m~/automotive-tracking/examples/../utils/kitti_foundation.py:611\u001b[0m, in \u001b[0;36mKitti_util.velo_projection_frame\u001b[0;34m(self, h_fov, v_fov, x_range, y_range, z_range)\u001b[0m\n\u001b[1;32m    609\u001b[0m \u001b[38;5;28;01mif\u001b[39;00m cam_gen \u001b[38;5;129;01mis\u001b[39;00m \u001b[38;5;28;01mNone\u001b[39;00m:\n\u001b[1;32m    610\u001b[0m     \u001b[38;5;28;01mraise\u001b[39;00m \u001b[38;5;167;01mValueError\u001b[39;00m(\u001b[38;5;124m\"\u001b[39m\u001b[38;5;124mCam data is not included in this class\u001b[39m\u001b[38;5;124m\"\u001b[39m)\n\u001b[0;32m--> 611\u001b[0m res, c_ \u001b[38;5;241m=\u001b[39m \u001b[38;5;28mself\u001b[39m\u001b[38;5;241m.\u001b[39m__velo_2_img_projection(velo_gen)\n\u001b[1;32m    612\u001b[0m \u001b[38;5;28;01mreturn\u001b[39;00m cam_gen, res, c_\n",
      "File \u001b[0;32m~/automotive-tracking/examples/../utils/kitti_foundation.py:472\u001b[0m, in \u001b[0;36mKitti_util.__velo_2_img_projection\u001b[0;34m(self, points)\u001b[0m\n\u001b[1;32m    468\u001b[0m     \u001b[38;5;28mself\u001b[39m\u001b[38;5;241m.\u001b[39m__h_fov \u001b[38;5;241m=\u001b[39m \u001b[38;5;28mself\u001b[39m\u001b[38;5;241m.\u001b[39m__h_fov[:\u001b[38;5;241m1\u001b[39m] \u001b[38;5;241m+\u001b[39m (\u001b[38;5;241m50\u001b[39m,)\n\u001b[1;32m    470\u001b[0m \u001b[38;5;66;03m# R_vc = Rotation matrix ( velodyne -> camera )\u001b[39;00m\n\u001b[1;32m    471\u001b[0m \u001b[38;5;66;03m# T_vc = Translation matrix ( velodyne -> camera )\u001b[39;00m\n\u001b[0;32m--> 472\u001b[0m R_vc, T_vc \u001b[38;5;241m=\u001b[39m \u001b[38;5;28mself\u001b[39m\u001b[38;5;241m.\u001b[39m__calib_velo2cam()\n\u001b[1;32m    474\u001b[0m \u001b[38;5;66;03m# P_ = Projection matrix ( camera coordinates 3d points -> image plane 2d points )\u001b[39;00m\n\u001b[1;32m    475\u001b[0m P_ \u001b[38;5;241m=\u001b[39m \u001b[38;5;28mself\u001b[39m\u001b[38;5;241m.\u001b[39m__calib_cam2cam()\n",
      "File \u001b[0;32m~/automotive-tracking/examples/../utils/kitti_foundation.py:263\u001b[0m, in \u001b[0;36mKitti_util.__calib_velo2cam\u001b[0;34m(self)\u001b[0m\n\u001b[1;32m    260\u001b[0m     \u001b[38;5;28;01mraise\u001b[39;00m \u001b[38;5;167;01mNameError\u001b[39;00m(\u001b[38;5;124m\"\u001b[39m\u001b[38;5;124mcalib_velo_to_cam file isn\u001b[39m\u001b[38;5;124m'\u001b[39m\u001b[38;5;124mt loaded.\u001b[39m\u001b[38;5;124m\"\u001b[39m)\n\u001b[1;32m    262\u001b[0m \u001b[38;5;28;01mfor\u001b[39;00m line \u001b[38;5;129;01min\u001b[39;00m \u001b[38;5;28mself\u001b[39m\u001b[38;5;241m.\u001b[39mv2c_file:\n\u001b[0;32m--> 263\u001b[0m     (key, val) \u001b[38;5;241m=\u001b[39m line\u001b[38;5;241m.\u001b[39msplit(\u001b[38;5;124m'\u001b[39m\u001b[38;5;124m:\u001b[39m\u001b[38;5;124m'\u001b[39m, \u001b[38;5;241m1\u001b[39m)\n\u001b[1;32m    264\u001b[0m     \u001b[38;5;28;01mif\u001b[39;00m key \u001b[38;5;241m==\u001b[39m \u001b[38;5;124m'\u001b[39m\u001b[38;5;124mR\u001b[39m\u001b[38;5;124m'\u001b[39m:\n\u001b[1;32m    265\u001b[0m         R \u001b[38;5;241m=\u001b[39m np\u001b[38;5;241m.\u001b[39mfromstring(val, sep\u001b[38;5;241m=\u001b[39m\u001b[38;5;124m'\u001b[39m\u001b[38;5;124m \u001b[39m\u001b[38;5;124m'\u001b[39m)\n",
      "\u001b[0;31mValueError\u001b[0m: not enough values to unpack (expected 2, got 1)"
     ]
    }
   ],
   "source": [
    "image_type = 'gray'  # 'gray' or 'color' image\n",
    "mode = '00' if image_type == 'gray' else '02'  # image_00 = 'gray image' , image_02 = 'color image'\n",
    "\n",
    "image_path = camera_path+'image_' + mode + '/data'\n",
    "res = Kitti_util(frame=frame_no, camera_path=image_path, velo_path=velo_path, \\\n",
    "                v2c_path=v2c_filepath, c2c_path=c2c_filepath)\n",
    "\n",
    "img, pnt, c_ = res.velo_projection_frame(v_fov=v_fov, h_fov=h_fov)\n",
    "\n",
    "image = print_projection_plt(pnt, c_, img, velo_only=True) # img*0 \n",
    "\n",
    "results = model.track(source=image, persist=True,tracker=\"bytetrack.yaml\")\n",
    "\n",
    "txt=\"\"\n",
    "\n",
    "for result in results:\n",
    "    result.save(filename=\"../output/result_camera_with_lidar_proj_frame_\"+str(frame_no)+\"\"+txt+\".jpg\")  # save to disk\n"
   ]
  },
  {
   "cell_type": "code",
   "execution_count": 17,
   "metadata": {},
   "outputs": [
    {
     "data": {
      "text/plain": [
       "<matplotlib.image.AxesImage at 0x7f5324153cb0>"
      ]
     },
     "execution_count": 17,
     "metadata": {},
     "output_type": "execute_result"
    },
    {
     "data": {
      "image/png": "[encoded data removed]",
      "text/plain": [
       "<Figure size 640x480 with 1 Axes>"
      ]
     },
     "metadata": {},
     "output_type": "display_data"
    }
   ],
   "source": [
    "plt.imshow(image)"
   ]
  },
  {
   "cell_type": "code",
   "execution_count": 29,
   "metadata": {},
   "outputs": [
    {
     "data": {
      "text/plain": [
       "(121649, 3)"
      ]
     },
     "execution_count": 29,
     "metadata": {},
     "output_type": "execute_result"
    }
   ],
   "source": [
    "res.velo_file.shape"
   ]
  },
  {
   "cell_type": "code",
   "execution_count": 23,
   "metadata": {},
   "outputs": [],
   "source": [
    "# Load the YOLOv8 model\n",
    "model = YOLO(\"yolov8n.pt\")\n",
    "\n",
    "txt=\"\"\n",
    "image_type = 'gray'  # 'gray' or 'color' image\n",
    "mode = '00' if image_type == 'gray' else '02'  # image_00 = 'gray image' , image_02 = 'color image'\n",
    "image_path = camera_path+'image_' + mode + '/data'"
   ]
  },
  {
   "cell_type": "code",
   "execution_count": 24,
   "metadata": {},
   "outputs": [
    {
     "data": {
      "text/plain": [
       "(375, 1242)"
      ]
     },
     "execution_count": 24,
     "metadata": {},
     "output_type": "execute_result"
    }
   ],
   "source": [
    "image.shape[:2]"
   ]
  },
  {
   "cell_type": "code",
   "execution_count": 25,
   "metadata": {},
   "outputs": [
    {
     "name": "stdout",
     "output_type": "stream",
     "text": [
      "(375, 1242, 3)\n",
      "(375, 1242, 3)\n",
      "\n",
      "0: 224x640 4 persons, 2.7ms\n",
      "Speed: 0.7ms preprocess, 2.7ms inference, 0.5ms postprocess per image at shape (1, 3, 224, 640)\n",
      "(375, 1242, 3)\n",
      "(375, 1242, 3)\n",
      "\n",
      "0: 224x640 7 persons, 2.4ms\n",
      "Speed: 0.5ms preprocess, 2.4ms inference, 0.7ms postprocess per image at shape (1, 3, 224, 640)\n",
      "(375, 1242, 3)\n",
      "(375, 1242, 3)\n",
      "\n",
      "0: 224x640 3 persons, 4.0ms\n",
      "Speed: 1.2ms preprocess, 4.0ms inference, 12.0ms postprocess per image at shape (1, 3, 224, 640)\n",
      "(375, 1242, 3)\n",
      "(375, 1242, 3)\n",
      "\n",
      "0: 224x640 3 persons, 12.3ms\n",
      "Speed: 1.0ms preprocess, 12.3ms inference, 13.6ms postprocess per image at shape (1, 3, 224, 640)\n",
      "(375, 1242, 3)\n",
      "(375, 1242, 3)\n",
      "\n",
      "0: 224x640 1 person, 9.3ms\n",
      "Speed: 1.8ms preprocess, 9.3ms inference, 13.3ms postprocess per image at shape (1, 3, 224, 640)\n",
      "(375, 1242, 3)\n",
      "(375, 1242, 3)\n",
      "\n",
      "0: 224x640 1 person, 12.2ms\n",
      "Speed: 2.3ms preprocess, 12.2ms inference, 13.2ms postprocess per image at shape (1, 3, 224, 640)\n",
      "(375, 1242, 3)\n",
      "(375, 1242, 3)\n",
      "\n",
      "0: 224x640 1 person, 8.3ms\n",
      "Speed: 1.6ms preprocess, 8.3ms inference, 12.8ms postprocess per image at shape (1, 3, 224, 640)\n",
      "(375, 1242, 3)\n",
      "(375, 1242, 3)\n",
      "\n",
      "0: 224x640 1 person, 9.0ms\n",
      "Speed: 0.8ms preprocess, 9.0ms inference, 13.2ms postprocess per image at shape (1, 3, 224, 640)\n",
      "(375, 1242, 3)\n",
      "(375, 1242, 3)\n",
      "\n",
      "0: 224x640 1 person, 1 bench, 8.7ms\n",
      "Speed: 2.2ms preprocess, 8.7ms inference, 13.5ms postprocess per image at shape (1, 3, 224, 640)\n",
      "(375, 1242, 3)\n",
      "(375, 1242, 3)\n",
      "\n",
      "0: 224x640 2 persons, 1 bench, 12.8ms\n",
      "Speed: 1.0ms preprocess, 12.8ms inference, 13.5ms postprocess per image at shape (1, 3, 224, 640)\n",
      "(375, 1242, 3)\n",
      "(375, 1242, 3)\n",
      "\n",
      "0: 224x640 1 person, 12.6ms\n",
      "Speed: 2.9ms preprocess, 12.6ms inference, 13.5ms postprocess per image at shape (1, 3, 224, 640)\n",
      "(375, 1242, 3)\n",
      "(375, 1242, 3)\n",
      "\n",
      "0: 224x640 1 person, 12.3ms\n",
      "Speed: 1.0ms preprocess, 12.3ms inference, 13.7ms postprocess per image at shape (1, 3, 224, 640)\n",
      "(375, 1242, 3)\n",
      "(375, 1242, 3)\n",
      "\n",
      "0: 224x640 1 person, 12.4ms\n",
      "Speed: 2.2ms preprocess, 12.4ms inference, 13.1ms postprocess per image at shape (1, 3, 224, 640)\n",
      "(375, 1242, 3)\n",
      "(375, 1242, 3)\n",
      "\n",
      "0: 224x640 1 person, 12.8ms\n",
      "Speed: 1.0ms preprocess, 12.8ms inference, 13.6ms postprocess per image at shape (1, 3, 224, 640)\n",
      "(375, 1242, 3)\n",
      "(375, 1242, 3)\n",
      "\n",
      "0: 224x640 (no detections), 12.4ms\n",
      "Speed: 1.0ms preprocess, 12.4ms inference, 5.4ms postprocess per image at shape (1, 3, 224, 640)\n",
      "(375, 1242, 3)\n",
      "(375, 1242, 3)\n",
      "\n",
      "0: 224x640 2 persons, 12.3ms\n",
      "Speed: 2.9ms preprocess, 12.3ms inference, 13.3ms postprocess per image at shape (1, 3, 224, 640)\n",
      "(375, 1242, 3)\n",
      "(375, 1242, 3)\n",
      "\n",
      "0: 224x640 1 person, 9.0ms\n",
      "Speed: 2.4ms preprocess, 9.0ms inference, 11.8ms postprocess per image at shape (1, 3, 224, 640)\n",
      "(375, 1242, 3)\n",
      "(375, 1242, 3)\n",
      "\n",
      "0: 224x640 (no detections), 12.8ms\n",
      "Speed: 2.3ms preprocess, 12.8ms inference, 5.4ms postprocess per image at shape (1, 3, 224, 640)\n",
      "(375, 1242, 3)\n",
      "(375, 1242, 3)\n",
      "\n",
      "0: 224x640 1 person, 12.5ms\n",
      "Speed: 2.2ms preprocess, 12.5ms inference, 13.7ms postprocess per image at shape (1, 3, 224, 640)\n"
     ]
    }
   ],
   "source": [
    "# Store the track history\n",
    "track_history = defaultdict(lambda: [])\n",
    "\n",
    "# Below VideoWriter object will create a frame of above defined The output  \n",
    "# is stored in 'output.mp4' file. \n",
    "output_video = cv2.VideoWriter(\"../output/kitti_test_output.mp4\",  \n",
    "                         cv2.VideoWriter_fourcc(*'mp4v'), # writer object # XVID or mp4v\n",
    "                        #  cv2.VideoWriter_fourcc(*'XVID'),\n",
    "                        #  cv2.VideoWriter_fourcc('m', 'p', '4', 'v'),\n",
    "                         10, # FPS\n",
    "                         image.shape[:2]) # frame size\n",
    "\n",
    "for frame_no in range(1,20):\n",
    "\n",
    "    # read the next KITTI frame:\n",
    "    img, pnt, c_ = Kitti_util(\n",
    "        frame=frame_no, camera_path=image_path, velo_path=velo_path, v2c_path=v2c_filepath, c2c_path=c2c_filepath\n",
    "    ).velo_projection_frame(v_fov=v_fov, h_fov=h_fov)\n",
    "    frame = print_projection_plt(pnt, c_, img, velo_only=True)\n",
    "\n",
    "    # print(frame.shape)\n",
    "    cv2.resize(frame, dsize=image.shape[:2]) # reshape to 480, 852\n",
    "    # print(frame.shape)\n",
    "\n",
    "    # do the object detection for tracking:\n",
    "    results = model.track(\n",
    "        source=frame, \n",
    "        persist=True,tracker=\"bytetrack.yaml\"\n",
    "    )\n",
    "\n",
    "    try: # will work ONLY if there was some detection!\n",
    "        # Get the boxes and track IDs\n",
    "        boxes = results[0].boxes.xywh.cpu()\n",
    "        track_ids = results[0].boxes.id.int().cpu().tolist()\n",
    "\n",
    "        # Visualize the results on the frame\n",
    "        annotated_frame = results[0].plot()\n",
    "\n",
    "        # Plot the tracks\n",
    "        for box, track_id in zip(boxes, track_ids):\n",
    "            x, y, w, h = box\n",
    "            track = track_history[track_id]\n",
    "            track.append((float(x), float(y)))  # x, y center point\n",
    "            if len(track) > 30:  # retain 90 tracks for 90 frames\n",
    "                track.pop(0)\n",
    "\n",
    "            # Draw the tracking lines\n",
    "            points = np.hstack(track).astype(np.int32).reshape((-1, 1, 2))\n",
    "            cv2.polylines(annotated_frame, [points], isClosed=False, color=(0,0,255), thickness=10)\n",
    "    except:\n",
    "        annotated_frame = frame\n",
    "\n",
    "    if frame_no % 5 == 0:\n",
    "        cv2.imwrite(\"../output/KITTI_frame_%d.jpg\" % frame_no, annotated_frame)     # save frame as JPEG file\n",
    "\n",
    "    # write the frame to the output file\n",
    "    output_video.write(annotated_frame)\n",
    "\n",
    "    # Display the annotated frame\n",
    "    # cv2.imshow(\"YOLOv8 Tracking\", annotated_frame)\n",
    "\n",
    "\n",
    "output_video.release()\n",
    "cv2.destroyAllWindows()"
   ]
  },
  {
   "cell_type": "code",
   "execution_count": 35,
   "metadata": {},
   "outputs": [],
   "source": [
    "output_video.release()"
   ]
  },
  {
   "cell_type": "code",
   "execution_count": 33,
   "metadata": {},
   "outputs": [
    {
     "data": {
      "text/plain": [
       "<matplotlib.image.AxesImage at 0x7fe971ae1eb0>"
      ]
     },
     "execution_count": 33,
     "metadata": {},
     "output_type": "execute_result"
    },
    {
     "data": {
      "image/png": "[encoded data removed]",
      "text/plain": [
       "<Figure size 640x480 with 1 Axes>"
      ]
     },
     "metadata": {},
     "output_type": "display_data"
    }
   ],
   "source": [
    "plt.imshow(annotated_frame)"
   ]
  },
  {
   "cell_type": "markdown",
   "metadata": {},
   "source": [
    "# Try training on lidar-only data"
   ]
  },
  {
   "cell_type": "code",
   "execution_count": 1,
   "metadata": {},
   "outputs": [
    {
     "name": "stdout",
     "output_type": "stream",
     "text": [
      "env: WANDB_DISABLED=True\n"
     ]
    }
   ],
   "source": [
    "%env WANDB_DISABLED=True"
   ]
  },
  {
   "cell_type": "code",
   "execution_count": 2,
   "metadata": {},
   "outputs": [],
   "source": [
    "from ultralytics import YOLO\n",
    "import numpy as np\n",
    "import pandas as pd\n",
    "import matplotlib.pyplot as plt\n",
    "from pathlib import Path\n",
    "import json\n",
    "from sklearn.model_selection import train_test_split\n",
    "from tqdm.auto import tqdm\n",
    "import shutil\n",
    "from PIL import Image"
   ]
  },
  {
   "cell_type": "code",
   "execution_count": 3,
   "metadata": {},
   "outputs": [
    {
     "ename": "FileNotFoundError",
     "evalue": "[Errno 2] No such file or directory: '/kaggle/input/kitti-dataset-yolo-format/classes.json'",
     "output_type": "error",
     "traceback": [
      "\u001b[0;31m---------------------------------------------------------------------------\u001b[0m",
      "\u001b[0;31mFileNotFoundError\u001b[0m                         Traceback (most recent call last)",
      "Cell \u001b[0;32mIn[3], line 4\u001b[0m\n\u001b[1;32m      2\u001b[0m img_path \u001b[38;5;241m=\u001b[39m base_dir \u001b[38;5;241m/\u001b[39m \u001b[38;5;124m'\u001b[39m\u001b[38;5;124mdata_object_image_2\u001b[39m\u001b[38;5;124m'\u001b[39m \u001b[38;5;241m/\u001b[39m \u001b[38;5;124m'\u001b[39m\u001b[38;5;124mtraining\u001b[39m\u001b[38;5;124m'\u001b[39m \u001b[38;5;241m/\u001b[39m \u001b[38;5;124m'\u001b[39m\u001b[38;5;124mimage_2\u001b[39m\u001b[38;5;124m'\u001b[39m\n\u001b[1;32m      3\u001b[0m label_path \u001b[38;5;241m=\u001b[39m Path(\u001b[38;5;124m'\u001b[39m\u001b[38;5;124m/kaggle/input/kitti-dataset-yolo-format/labels\u001b[39m\u001b[38;5;124m'\u001b[39m)\n\u001b[0;32m----> 4\u001b[0m \u001b[38;5;28;01mwith\u001b[39;00m \u001b[38;5;28mopen\u001b[39m(\u001b[38;5;124m'\u001b[39m\u001b[38;5;124m/kaggle/input/kitti-dataset-yolo-format/classes.json\u001b[39m\u001b[38;5;124m'\u001b[39m,\u001b[38;5;124m'\u001b[39m\u001b[38;5;124mr\u001b[39m\u001b[38;5;124m'\u001b[39m) \u001b[38;5;28;01mas\u001b[39;00m f:\n\u001b[1;32m      5\u001b[0m     classes \u001b[38;5;241m=\u001b[39m json\u001b[38;5;241m.\u001b[39mload(f)\n\u001b[1;32m      7\u001b[0m classes\n",
      "File \u001b[0;32m~/miniconda3/envs/tracking/lib/python3.12/site-packages/IPython/core/interactiveshell.py:310\u001b[0m, in \u001b[0;36m_modified_open\u001b[0;34m(file, *args, **kwargs)\u001b[0m\n\u001b[1;32m    303\u001b[0m \u001b[38;5;28;01mif\u001b[39;00m file \u001b[38;5;129;01min\u001b[39;00m {\u001b[38;5;241m0\u001b[39m, \u001b[38;5;241m1\u001b[39m, \u001b[38;5;241m2\u001b[39m}:\n\u001b[1;32m    304\u001b[0m     \u001b[38;5;28;01mraise\u001b[39;00m \u001b[38;5;167;01mValueError\u001b[39;00m(\n\u001b[1;32m    305\u001b[0m         \u001b[38;5;124mf\u001b[39m\u001b[38;5;124m\"\u001b[39m\u001b[38;5;124mIPython won\u001b[39m\u001b[38;5;124m'\u001b[39m\u001b[38;5;124mt let you open fd=\u001b[39m\u001b[38;5;132;01m{\u001b[39;00mfile\u001b[38;5;132;01m}\u001b[39;00m\u001b[38;5;124m by default \u001b[39m\u001b[38;5;124m\"\u001b[39m\n\u001b[1;32m    306\u001b[0m         \u001b[38;5;124m\"\u001b[39m\u001b[38;5;124mas it is likely to crash IPython. If you know what you are doing, \u001b[39m\u001b[38;5;124m\"\u001b[39m\n\u001b[1;32m    307\u001b[0m         \u001b[38;5;124m\"\u001b[39m\u001b[38;5;124myou can use builtins\u001b[39m\u001b[38;5;124m'\u001b[39m\u001b[38;5;124m open.\u001b[39m\u001b[38;5;124m\"\u001b[39m\n\u001b[1;32m    308\u001b[0m     )\n\u001b[0;32m--> 310\u001b[0m \u001b[38;5;28;01mreturn\u001b[39;00m io_open(file, \u001b[38;5;241m*\u001b[39margs, \u001b[38;5;241m*\u001b[39m\u001b[38;5;241m*\u001b[39mkwargs)\n",
      "\u001b[0;31mFileNotFoundError\u001b[0m: [Errno 2] No such file or directory: '/kaggle/input/kitti-dataset-yolo-format/classes.json'"
     ]
    }
   ],
   "source": [
    "base_dir = Path('/kaggle/input/kitti-dataset')\n",
    "img_path = base_dir / 'data_object_image_2' / 'training' / 'image_2'\n",
    "label_path = Path('/kaggle/input/kitti-dataset-yolo-format/labels')\n",
    "with open('/kaggle/input/kitti-dataset-yolo-format/classes.json','r') as f:\n",
    "    classes = json.load(f)\n",
    "\n",
    "classes = "
   ]
  },
  {
   "cell_type": "code",
   "execution_count": null,
   "metadata": {},
   "outputs": [],
   "source": []
  },
  {
   "cell_type": "code",
   "execution_count": 30,
   "metadata": {},
   "outputs": [
    {
     "name": "stdout",
     "output_type": "stream",
     "text": [
      "New https://pypi.org/project/ultralytics/8.2.38 available 😃 Update with 'pip install -U ultralytics'\n",
      "Ultralytics YOLOv8.2.31 🚀 Python-3.12.3 torch-2.3.1+cu121 CUDA:0 (NVIDIA GeForce RTX 3090, 24253MiB)\n",
      "\u001b[34m\u001b[1mengine/trainer: \u001b[0mtask=detect, mode=train, model=yolov8n.pt, data=coco8.yaml, epochs=100, time=None, patience=100, batch=16, imgsz=640, save=True, save_period=-1, cache=False, device=None, workers=8, project=None, name=train3, exist_ok=False, pretrained=True, optimizer=auto, verbose=True, seed=0, deterministic=True, single_cls=False, rect=False, cos_lr=False, close_mosaic=10, resume=False, amp=True, fraction=1.0, profile=False, freeze=None, multi_scale=False, overlap_mask=True, mask_ratio=4, dropout=0.0, val=True, split=val, save_json=False, save_hybrid=False, conf=None, iou=0.7, max_det=300, half=False, dnn=False, plots=True, source=None, vid_stride=1, stream_buffer=False, visualize=False, augment=False, agnostic_nms=False, classes=None, retina_masks=False, embed=None, show=False, save_frames=False, save_txt=False, save_conf=False, save_crop=False, show_labels=True, show_conf=True, show_boxes=True, line_width=None, format=torchscript, keras=False, optimize=False, int8=False, dynamic=False, simplify=False, opset=None, workspace=4, nms=False, lr0=0.01, lrf=0.01, momentum=0.937, weight_decay=0.0005, warmup_epochs=3.0, warmup_momentum=0.8, warmup_bias_lr=0.1, box=7.5, cls=0.5, dfl=1.5, pose=12.0, kobj=1.0, label_smoothing=0.0, nbs=64, hsv_h=0.015, hsv_s=0.7, hsv_v=0.4, degrees=0.0, translate=0.1, scale=0.5, shear=0.0, perspective=0.0, flipud=0.0, fliplr=0.5, bgr=0.0, mosaic=1.0, mixup=0.0, copy_paste=0.0, auto_augment=randaugment, erasing=0.4, crop_fraction=1.0, cfg=None, tracker=botsort.yaml, save_dir=runs/detect/train3\n",
      "\n",
      "                   from  n    params  module                                       arguments                     \n",
      "  0                  -1  1       464  ultralytics.nn.modules.conv.Conv             [3, 16, 3, 2]                 \n",
      "  1                  -1  1      4672  ultralytics.nn.modules.conv.Conv             [16, 32, 3, 2]                \n",
      "  2                  -1  1      7360  ultralytics.nn.modules.block.C2f             [32, 32, 1, True]             \n",
      "  3                  -1  1     18560  ultralytics.nn.modules.conv.Conv             [32, 64, 3, 2]                \n",
      "  4                  -1  2     49664  ultralytics.nn.modules.block.C2f             [64, 64, 2, True]             \n",
      "  5                  -1  1     73984  ultralytics.nn.modules.conv.Conv             [64, 128, 3, 2]               \n",
      "  6                  -1  2    197632  ultralytics.nn.modules.block.C2f             [128, 128, 2, True]           \n",
      "  7                  -1  1    295424  ultralytics.nn.modules.conv.Conv             [128, 256, 3, 2]              \n",
      "  8                  -1  1    460288  ultralytics.nn.modules.block.C2f             [256, 256, 1, True]           \n",
      "  9                  -1  1    164608  ultralytics.nn.modules.block.SPPF            [256, 256, 5]                 \n",
      " 10                  -1  1         0  torch.nn.modules.upsampling.Upsample         [None, 2, 'nearest']          \n",
      " 11             [-1, 6]  1         0  ultralytics.nn.modules.conv.Concat           [1]                           \n",
      " 12                  -1  1    148224  ultralytics.nn.modules.block.C2f             [384, 128, 1]                 \n",
      " 13                  -1  1         0  torch.nn.modules.upsampling.Upsample         [None, 2, 'nearest']          \n",
      " 14             [-1, 4]  1         0  ultralytics.nn.modules.conv.Concat           [1]                           \n",
      " 15                  -1  1     37248  ultralytics.nn.modules.block.C2f             [192, 64, 1]                  \n",
      " 16                  -1  1     36992  ultralytics.nn.modules.conv.Conv             [64, 64, 3, 2]                \n",
      " 17            [-1, 12]  1         0  ultralytics.nn.modules.conv.Concat           [1]                           \n",
      " 18                  -1  1    123648  ultralytics.nn.modules.block.C2f             [192, 128, 1]                 \n",
      " 19                  -1  1    147712  ultralytics.nn.modules.conv.Conv             [128, 128, 3, 2]              \n",
      " 20             [-1, 9]  1         0  ultralytics.nn.modules.conv.Concat           [1]                           \n",
      " 21                  -1  1    493056  ultralytics.nn.modules.block.C2f             [384, 256, 1]                 \n",
      " 22        [15, 18, 21]  1    897664  ultralytics.nn.modules.head.Detect           [80, [64, 128, 256]]          \n",
      "Model summary: 225 layers, 3157200 parameters, 3157184 gradients, 8.9 GFLOPs\n",
      "\n",
      "Transferred 70/355 items from pretrained weights\n",
      "Freezing layer 'model.22.dfl.conv.weight'\n",
      "\u001b[34m\u001b[1mAMP: \u001b[0mrunning Automatic Mixed Precision (AMP) checks with YOLOv8n...\n",
      "\u001b[34m\u001b[1mAMP: \u001b[0mchecks passed ✅\n"
     ]
    },
    {
     "name": "stderr",
     "output_type": "stream",
     "text": [
      "\u001b[34m\u001b[1mtrain: \u001b[0mScanning /home/piokal/automotive-tracking/examples/datasets/coco8/labels/train.cache... 4 images, 0 backgrounds, 0 corrupt: 100%|██████████| 4/4 [00:00<?, ?it/s]\n",
      "\u001b[34m\u001b[1mval: \u001b[0mScanning /home/piokal/automotive-tracking/examples/datasets/coco8/labels/val.cache... 4 images, 0 backgrounds, 0 corrupt: 100%|██████████| 4/4 [00:00<?, ?it/s]\n"
     ]
    },
    {
     "name": "stdout",
     "output_type": "stream",
     "text": [
      "Plotting labels to runs/detect/train3/labels.jpg... \n",
      "\u001b[34m\u001b[1moptimizer:\u001b[0m 'optimizer=auto' found, ignoring 'lr0=0.01' and 'momentum=0.937' and determining best 'optimizer', 'lr0' and 'momentum' automatically... \n",
      "\u001b[34m\u001b[1moptimizer:\u001b[0m AdamW(lr=0.000119, momentum=0.9) with parameter groups 57 weight(decay=0.0), 64 weight(decay=0.0005), 63 bias(decay=0.0)\n",
      "Image sizes 640 train, 640 val\n",
      "Using 8 dataloader workers\n",
      "Logging results to \u001b[1mruns/detect/train3\u001b[0m\n",
      "Starting training for 100 epochs...\n",
      "\n",
      "      Epoch    GPU_mem   box_loss   cls_loss   dfl_loss  Instances       Size\n"
     ]
    },
    {
     "name": "stderr",
     "output_type": "stream",
     "text": [
      "      1/100     0.835G      2.956      5.999      2.734         21        640: 100%|██████████| 1/1 [00:00<00:00,  1.16it/s]\n",
      "                 Class     Images  Instances      Box(P          R      mAP50  mAP50-95): 100%|██████████| 1/1 [00:00<00:00,  2.38it/s]"
     ]
    },
    {
     "name": "stdout",
     "output_type": "stream",
     "text": [
      "                   all          4         17     0.0171     0.0167    0.00311    0.00119\n",
      "\n",
      "      Epoch    GPU_mem   box_loss   cls_loss   dfl_loss  Instances       Size\n"
     ]
    },
    {
     "name": "stderr",
     "output_type": "stream",
     "text": [
      "\n",
      "      2/100      0.83G      2.672      5.187      2.646         36        640: 100%|██████████| 1/1 [00:00<00:00,  3.62it/s]\n",
      "                 Class     Images  Instances      Box(P          R      mAP50  mAP50-95): 100%|██████████| 1/1 [00:00<00:00, 28.69it/s]"
     ]
    },
    {
     "name": "stdout",
     "output_type": "stream",
     "text": [
      "                   all          4         17   0.000437       0.05   0.000957   0.000195\n"
     ]
    },
    {
     "name": "stderr",
     "output_type": "stream",
     "text": [
      "\n"
     ]
    },
    {
     "name": "stdout",
     "output_type": "stream",
     "text": [
      "\n",
      "      Epoch    GPU_mem   box_loss   cls_loss   dfl_loss  Instances       Size\n"
     ]
    },
    {
     "name": "stderr",
     "output_type": "stream",
     "text": [
      "      3/100      0.83G      2.663      5.736      2.504         20        640: 100%|██████████| 1/1 [00:00<00:00, 21.07it/s]\n",
      "                 Class     Images  Instances      Box(P          R      mAP50  mAP50-95): 100%|██████████| 1/1 [00:00<00:00, 31.70it/s]"
     ]
    },
    {
     "name": "stdout",
     "output_type": "stream",
     "text": [
      "                   all          4         17   0.000432       0.05   0.000942   0.000294\n"
     ]
    },
    {
     "name": "stderr",
     "output_type": "stream",
     "text": [
      "\n"
     ]
    },
    {
     "name": "stdout",
     "output_type": "stream",
     "text": [
      "\n",
      "      Epoch    GPU_mem   box_loss   cls_loss   dfl_loss  Instances       Size\n"
     ]
    },
    {
     "name": "stderr",
     "output_type": "stream",
     "text": [
      "      4/100     0.833G      3.113      5.602      2.728         21        640: 100%|██████████| 1/1 [00:00<00:00,  3.43it/s]\n",
      "                 Class     Images  Instances      Box(P          R      mAP50  mAP50-95): 100%|██████████| 1/1 [00:00<00:00,  2.92it/s]"
     ]
    },
    {
     "name": "stdout",
     "output_type": "stream",
     "text": [
      "                   all          4         17   0.000574     0.0667   0.000993   0.000239\n",
      "\n",
      "      Epoch    GPU_mem   box_loss   cls_loss   dfl_loss  Instances       Size\n"
     ]
    },
    {
     "name": "stderr",
     "output_type": "stream",
     "text": [
      "\n",
      "      5/100     0.828G       3.43      5.883      2.914         19        640: 100%|██████████| 1/1 [00:00<00:00,  2.99it/s]\n",
      "                 Class     Images  Instances      Box(P          R      mAP50  mAP50-95): 100%|██████████| 1/1 [00:00<00:00,  2.86it/s]"
     ]
    },
    {
     "name": "stdout",
     "output_type": "stream",
     "text": [
      "                   all          4         17   0.000288     0.0333   0.000402   8.03e-05\n",
      "\n",
      "      Epoch    GPU_mem   box_loss   cls_loss   dfl_loss  Instances       Size\n"
     ]
    },
    {
     "name": "stderr",
     "output_type": "stream",
     "text": [
      "\n",
      "      6/100     0.854G      2.448       5.57      2.376         22        640: 100%|██████████| 1/1 [00:00<00:00,  3.43it/s]\n",
      "                 Class     Images  Instances      Box(P          R      mAP50  mAP50-95): 100%|██████████| 1/1 [00:00<00:00,  2.86it/s]"
     ]
    },
    {
     "name": "stdout",
     "output_type": "stream",
     "text": [
      "                   all          4         17   0.000143     0.0167   0.000193   1.93e-05\n",
      "\n",
      "      Epoch    GPU_mem   box_loss   cls_loss   dfl_loss  Instances       Size\n"
     ]
    },
    {
     "name": "stderr",
     "output_type": "stream",
     "text": [
      "\n",
      "      7/100     0.858G      3.266      6.045      2.974         20        640: 100%|██████████| 1/1 [00:00<00:00,  3.87it/s]\n",
      "                 Class     Images  Instances      Box(P          R      mAP50  mAP50-95): 100%|██████████| 1/1 [00:00<00:00,  2.85it/s]"
     ]
    },
    {
     "name": "stdout",
     "output_type": "stream",
     "text": [
      "                   all          4         17   0.000139     0.0167   0.000225   2.25e-05\n"
     ]
    },
    {
     "name": "stderr",
     "output_type": "stream",
     "text": [
      "\n"
     ]
    },
    {
     "name": "stdout",
     "output_type": "stream",
     "text": [
      "\n",
      "      Epoch    GPU_mem   box_loss   cls_loss   dfl_loss  Instances       Size\n"
     ]
    },
    {
     "name": "stderr",
     "output_type": "stream",
     "text": [
      "      8/100     0.854G      3.283      5.818      3.109         20        640: 100%|██████████| 1/1 [00:00<00:00, 18.87it/s]\n",
      "                 Class     Images  Instances      Box(P          R      mAP50  mAP50-95): 100%|██████████| 1/1 [00:00<00:00, 30.41it/s]"
     ]
    },
    {
     "name": "stdout",
     "output_type": "stream",
     "text": [
      "                   all          4         17   0.000139     0.0167   0.000122   1.22e-05\n"
     ]
    },
    {
     "name": "stderr",
     "output_type": "stream",
     "text": [
      "\n"
     ]
    },
    {
     "name": "stdout",
     "output_type": "stream",
     "text": [
      "\n",
      "      Epoch    GPU_mem   box_loss   cls_loss   dfl_loss  Instances       Size\n"
     ]
    },
    {
     "name": "stderr",
     "output_type": "stream",
     "text": [
      "      9/100     0.851G      2.989      5.973      2.791         20        640: 100%|██████████| 1/1 [00:00<00:00,  3.49it/s]\n",
      "                 Class     Images  Instances      Box(P          R      mAP50  mAP50-95): 100%|██████████| 1/1 [00:00<00:00,  2.99it/s]"
     ]
    },
    {
     "name": "stdout",
     "output_type": "stream",
     "text": [
      "                   all          4         17   0.000139     0.0167   9.27e-05   9.27e-06\n",
      "\n",
      "      Epoch    GPU_mem   box_loss   cls_loss   dfl_loss  Instances       Size\n"
     ]
    },
    {
     "name": "stderr",
     "output_type": "stream",
     "text": [
      "\n",
      "     10/100     0.854G      2.788      5.334      2.644         25        640: 100%|██████████| 1/1 [00:00<00:00,  3.34it/s]\n",
      "                 Class     Images  Instances      Box(P          R      mAP50  mAP50-95): 100%|██████████| 1/1 [00:00<00:00,  2.91it/s]"
     ]
    },
    {
     "name": "stdout",
     "output_type": "stream",
     "text": [
      "                   all          4         17   0.000278     0.0333    0.00022    2.2e-05\n",
      "\n",
      "      Epoch    GPU_mem   box_loss   cls_loss   dfl_loss  Instances       Size\n"
     ]
    },
    {
     "name": "stderr",
     "output_type": "stream",
     "text": [
      "\n",
      "     11/100     0.854G      2.608      5.368      2.646         31        640: 100%|██████████| 1/1 [00:00<00:00,  3.41it/s]\n",
      "                 Class     Images  Instances      Box(P          R      mAP50  mAP50-95): 100%|██████████| 1/1 [00:00<00:00,  2.83it/s]"
     ]
    },
    {
     "name": "stdout",
     "output_type": "stream",
     "text": [
      "                   all          4         17   0.000139     0.0167   8.52e-05   8.52e-06\n",
      "\n",
      "      Epoch    GPU_mem   box_loss   cls_loss   dfl_loss  Instances       Size\n"
     ]
    },
    {
     "name": "stderr",
     "output_type": "stream",
     "text": [
      "\n",
      "     12/100     0.854G      2.305      5.381      2.516         31        640: 100%|██████████| 1/1 [00:00<00:00,  3.06it/s]\n",
      "                 Class     Images  Instances      Box(P          R      mAP50  mAP50-95): 100%|██████████| 1/1 [00:00<00:00,  2.60it/s]"
     ]
    },
    {
     "name": "stdout",
     "output_type": "stream",
     "text": [
      "                   all          4         17   0.000139     0.0167   0.000104   1.04e-05\n",
      "\n",
      "      Epoch    GPU_mem   box_loss   cls_loss   dfl_loss  Instances       Size\n"
     ]
    },
    {
     "name": "stderr",
     "output_type": "stream",
     "text": [
      "\n",
      "     13/100     0.854G      3.217      5.385      2.949         24        640: 100%|██████████| 1/1 [00:00<00:00,  3.04it/s]\n",
      "                 Class     Images  Instances      Box(P          R      mAP50  mAP50-95): 100%|██████████| 1/1 [00:00<00:00, 27.01it/s]"
     ]
    },
    {
     "name": "stdout",
     "output_type": "stream",
     "text": [
      "                   all          4         17   0.000139     0.0167   0.000245   2.45e-05\n"
     ]
    },
    {
     "name": "stderr",
     "output_type": "stream",
     "text": [
      "\n"
     ]
    },
    {
     "name": "stdout",
     "output_type": "stream",
     "text": [
      "\n",
      "      Epoch    GPU_mem   box_loss   cls_loss   dfl_loss  Instances       Size\n"
     ]
    },
    {
     "name": "stderr",
     "output_type": "stream",
     "text": [
      "     14/100     0.851G      2.659       6.28      2.765         15        640: 100%|██████████| 1/1 [00:00<00:00, 19.79it/s]\n",
      "                 Class     Images  Instances      Box(P          R      mAP50  mAP50-95): 100%|██████████| 1/1 [00:00<00:00, 31.37it/s]"
     ]
    },
    {
     "name": "stdout",
     "output_type": "stream",
     "text": [
      "                   all          4         17   0.000139     0.0167   0.000591   0.000177\n"
     ]
    },
    {
     "name": "stderr",
     "output_type": "stream",
     "text": [
      "\n"
     ]
    },
    {
     "name": "stdout",
     "output_type": "stream",
     "text": [
      "\n",
      "      Epoch    GPU_mem   box_loss   cls_loss   dfl_loss  Instances       Size\n"
     ]
    },
    {
     "name": "stderr",
     "output_type": "stream",
     "text": [
      "     15/100     0.854G      2.859      5.293      2.804         38        640: 100%|██████████| 1/1 [00:00<00:00,  3.18it/s]\n",
      "                 Class     Images  Instances      Box(P          R      mAP50  mAP50-95): 100%|██████████| 1/1 [00:00<00:00,  2.81it/s]"
     ]
    },
    {
     "name": "stdout",
     "output_type": "stream",
     "text": [
      "                   all          4         17   0.000139     0.0167    0.00138   0.000138\n",
      "\n",
      "      Epoch    GPU_mem   box_loss   cls_loss   dfl_loss  Instances       Size\n"
     ]
    },
    {
     "name": "stderr",
     "output_type": "stream",
     "text": [
      "\n",
      "     16/100     0.854G      2.636      5.101       2.62         49        640: 100%|██████████| 1/1 [00:00<00:00,  3.17it/s]\n",
      "                 Class     Images  Instances      Box(P          R      mAP50  mAP50-95): 100%|██████████| 1/1 [00:00<00:00,  2.75it/s]"
     ]
    },
    {
     "name": "stdout",
     "output_type": "stream",
     "text": [
      "                   all          4         17   0.000139     0.0167    0.00323   0.000375\n",
      "\n",
      "      Epoch    GPU_mem   box_loss   cls_loss   dfl_loss  Instances       Size\n"
     ]
    },
    {
     "name": "stderr",
     "output_type": "stream",
     "text": [
      "\n",
      "     17/100     0.854G      2.362      5.392      2.557         25        640: 100%|██████████| 1/1 [00:00<00:00,  3.21it/s]\n",
      "                 Class     Images  Instances      Box(P          R      mAP50  mAP50-95): 100%|██████████| 1/1 [00:00<00:00,  2.77it/s]"
     ]
    },
    {
     "name": "stdout",
     "output_type": "stream",
     "text": [
      "                   all          4         17   0.000139     0.0167    0.00534    0.00267\n",
      "\n",
      "      Epoch    GPU_mem   box_loss   cls_loss   dfl_loss  Instances       Size\n"
     ]
    },
    {
     "name": "stderr",
     "output_type": "stream",
     "text": [
      "\n",
      "     18/100     0.858G      2.759      6.066      2.581         16        640: 100%|██████████| 1/1 [00:00<00:00,  3.35it/s]\n",
      "                 Class     Images  Instances      Box(P          R      mAP50  mAP50-95): 100%|██████████| 1/1 [00:00<00:00,  2.85it/s]"
     ]
    },
    {
     "name": "stdout",
     "output_type": "stream",
     "text": [
      "                   all          4         17   0.000139     0.0167    0.00534    0.00267\n"
     ]
    },
    {
     "name": "stderr",
     "output_type": "stream",
     "text": [
      "\n"
     ]
    },
    {
     "name": "stdout",
     "output_type": "stream",
     "text": [
      "\n",
      "      Epoch    GPU_mem   box_loss   cls_loss   dfl_loss  Instances       Size\n"
     ]
    },
    {
     "name": "stderr",
     "output_type": "stream",
     "text": [
      "     19/100     0.864G      2.197      5.293      2.411         34        640: 100%|██████████| 1/1 [00:00<00:00,  3.22it/s]\n",
      "                 Class     Images  Instances      Box(P          R      mAP50  mAP50-95): 100%|██████████| 1/1 [00:00<00:00, 15.59it/s]"
     ]
    },
    {
     "name": "stdout",
     "output_type": "stream",
     "text": [
      "                   all          4         17   0.000139     0.0167    0.00534     0.0032\n"
     ]
    },
    {
     "name": "stderr",
     "output_type": "stream",
     "text": [
      "\n"
     ]
    },
    {
     "name": "stdout",
     "output_type": "stream",
     "text": [
      "\n",
      "      Epoch    GPU_mem   box_loss   cls_loss   dfl_loss  Instances       Size\n"
     ]
    },
    {
     "name": "stderr",
     "output_type": "stream",
     "text": [
      "     20/100     0.854G      2.528      5.496      2.538         25        640: 100%|██████████| 1/1 [00:00<00:00, 21.29it/s]\n",
      "                 Class     Images  Instances      Box(P          R      mAP50  mAP50-95): 100%|██████████| 1/1 [00:00<00:00, 31.71it/s]"
     ]
    },
    {
     "name": "stdout",
     "output_type": "stream",
     "text": [
      "                   all          4         17   0.000139     0.0167    0.00534     0.0032\n"
     ]
    },
    {
     "name": "stderr",
     "output_type": "stream",
     "text": [
      "\n"
     ]
    },
    {
     "name": "stdout",
     "output_type": "stream",
     "text": [
      "\n",
      "      Epoch    GPU_mem   box_loss   cls_loss   dfl_loss  Instances       Size\n"
     ]
    },
    {
     "name": "stderr",
     "output_type": "stream",
     "text": [
      "     21/100     0.864G      2.285      5.437      2.441         26        640: 100%|██████████| 1/1 [00:00<00:00,  3.30it/s]\n",
      "                 Class     Images  Instances      Box(P          R      mAP50  mAP50-95): 100%|██████████| 1/1 [00:00<00:00,  2.87it/s]"
     ]
    },
    {
     "name": "stdout",
     "output_type": "stream",
     "text": [
      "                   all          4         17   0.000139     0.0167    0.00402    0.00282\n",
      "\n",
      "      Epoch    GPU_mem   box_loss   cls_loss   dfl_loss  Instances       Size\n"
     ]
    },
    {
     "name": "stderr",
     "output_type": "stream",
     "text": [
      "\n",
      "     22/100     0.851G      2.534       5.05      2.452         52        640: 100%|██████████| 1/1 [00:00<00:00,  3.50it/s]\n",
      "                 Class     Images  Instances      Box(P          R      mAP50  mAP50-95): 100%|██████████| 1/1 [00:00<00:00,  2.82it/s]"
     ]
    },
    {
     "name": "stdout",
     "output_type": "stream",
     "text": [
      "                   all          4         17   0.000139     0.0167    0.00402    0.00282\n",
      "\n",
      "      Epoch    GPU_mem   box_loss   cls_loss   dfl_loss  Instances       Size\n"
     ]
    },
    {
     "name": "stderr",
     "output_type": "stream",
     "text": [
      "\n",
      "     23/100     0.866G       2.71      5.677      2.636         22        640: 100%|██████████| 1/1 [00:00<00:00,  3.32it/s]\n",
      "                 Class     Images  Instances      Box(P          R      mAP50  mAP50-95): 100%|██████████| 1/1 [00:00<00:00,  2.81it/s]"
     ]
    },
    {
     "name": "stdout",
     "output_type": "stream",
     "text": [
      "                   all          4         17   0.000139     0.0167    0.00402    0.00282\n",
      "\n",
      "      Epoch    GPU_mem   box_loss   cls_loss   dfl_loss  Instances       Size\n"
     ]
    },
    {
     "name": "stderr",
     "output_type": "stream",
     "text": [
      "\n",
      "     24/100     0.854G      2.819      5.176      2.685         34        640: 100%|██████████| 1/1 [00:00<00:00,  3.64it/s]\n",
      "                 Class     Images  Instances      Box(P          R      mAP50  mAP50-95): 100%|██████████| 1/1 [00:00<00:00,  2.79it/s]"
     ]
    },
    {
     "name": "stdout",
     "output_type": "stream",
     "text": [
      "                   all          4         17   0.000139     0.0167    0.00402    0.00282\n",
      "\n",
      "      Epoch    GPU_mem   box_loss   cls_loss   dfl_loss  Instances       Size\n"
     ]
    },
    {
     "name": "stderr",
     "output_type": "stream",
     "text": [
      "\n",
      "     25/100     0.866G      3.274      6.883      2.963         11        640: 100%|██████████| 1/1 [00:00<00:00, 12.55it/s]\n",
      "                 Class     Images  Instances      Box(P          R      mAP50  mAP50-95): 100%|██████████| 1/1 [00:00<00:00, 31.46it/s]"
     ]
    },
    {
     "name": "stdout",
     "output_type": "stream",
     "text": [
      "                   all          4         17   0.000139     0.0167     0.0027    0.00216\n"
     ]
    },
    {
     "name": "stderr",
     "output_type": "stream",
     "text": [
      "\n"
     ]
    },
    {
     "name": "stdout",
     "output_type": "stream",
     "text": [
      "\n",
      "      Epoch    GPU_mem   box_loss   cls_loss   dfl_loss  Instances       Size\n"
     ]
    },
    {
     "name": "stderr",
     "output_type": "stream",
     "text": [
      "     26/100     0.851G       2.62      5.033      2.446         35        640: 100%|██████████| 1/1 [00:00<00:00, 22.16it/s]\n",
      "                 Class     Images  Instances      Box(P          R      mAP50  mAP50-95): 100%|██████████| 1/1 [00:00<00:00, 33.35it/s]"
     ]
    },
    {
     "name": "stdout",
     "output_type": "stream",
     "text": [
      "                   all          4         17   0.000139     0.0167     0.0027    0.00216\n"
     ]
    },
    {
     "name": "stderr",
     "output_type": "stream",
     "text": [
      "\n"
     ]
    },
    {
     "name": "stdout",
     "output_type": "stream",
     "text": [
      "\n",
      "      Epoch    GPU_mem   box_loss   cls_loss   dfl_loss  Instances       Size\n"
     ]
    },
    {
     "name": "stderr",
     "output_type": "stream",
     "text": [
      "     27/100     0.866G      2.801      5.427      2.692         24        640: 100%|██████████| 1/1 [00:00<00:00,  3.37it/s]\n",
      "                 Class     Images  Instances      Box(P          R      mAP50  mAP50-95): 100%|██████████| 1/1 [00:00<00:00,  3.00it/s]"
     ]
    },
    {
     "name": "stdout",
     "output_type": "stream",
     "text": [
      "                   all          4         17   0.000139     0.0167    0.00182    0.00164\n",
      "\n",
      "      Epoch    GPU_mem   box_loss   cls_loss   dfl_loss  Instances       Size\n"
     ]
    },
    {
     "name": "stderr",
     "output_type": "stream",
     "text": [
      "\n",
      "     28/100     0.851G      2.426      5.195      2.419         35        640: 100%|██████████| 1/1 [00:00<00:00,  3.60it/s]\n",
      "                 Class     Images  Instances      Box(P          R      mAP50  mAP50-95): 100%|██████████| 1/1 [00:00<00:00,  2.92it/s]"
     ]
    },
    {
     "name": "stdout",
     "output_type": "stream",
     "text": [
      "                   all          4         17   0.000139     0.0167    0.00182    0.00164\n",
      "\n",
      "      Epoch    GPU_mem   box_loss   cls_loss   dfl_loss  Instances       Size\n"
     ]
    },
    {
     "name": "stderr",
     "output_type": "stream",
     "text": [
      "\n",
      "     29/100     0.864G      2.951      5.625      2.752         28        640: 100%|██████████| 1/1 [00:00<00:00,  3.39it/s]\n",
      "                 Class     Images  Instances      Box(P          R      mAP50  mAP50-95): 100%|██████████| 1/1 [00:00<00:00,  2.82it/s]"
     ]
    },
    {
     "name": "stdout",
     "output_type": "stream",
     "text": [
      "                   all          4         17   0.000139     0.0167    0.00233    0.00186\n",
      "\n",
      "      Epoch    GPU_mem   box_loss   cls_loss   dfl_loss  Instances       Size\n"
     ]
    },
    {
     "name": "stderr",
     "output_type": "stream",
     "text": [
      "\n",
      "     30/100     0.854G      2.463      5.217      2.606         29        640: 100%|██████████| 1/1 [00:00<00:00,  3.52it/s]\n",
      "                 Class     Images  Instances      Box(P          R      mAP50  mAP50-95): 100%|██████████| 1/1 [00:00<00:00,  3.21it/s]"
     ]
    },
    {
     "name": "stdout",
     "output_type": "stream",
     "text": [
      "                   all          4         17   0.000139     0.0167    0.00233    0.00186\n",
      "\n",
      "      Epoch    GPU_mem   box_loss   cls_loss   dfl_loss  Instances       Size\n"
     ]
    },
    {
     "name": "stderr",
     "output_type": "stream",
     "text": [
      "\n",
      "     31/100     0.864G      2.953      5.533      2.708         25        640: 100%|██████████| 1/1 [00:00<00:00, 19.55it/s]\n",
      "                 Class     Images  Instances      Box(P          R      mAP50  mAP50-95): 100%|██████████| 1/1 [00:00<00:00, 39.50it/s]"
     ]
    },
    {
     "name": "stdout",
     "output_type": "stream",
     "text": [
      "                   all          4         17   0.000139     0.0167    0.00402    0.00322\n"
     ]
    },
    {
     "name": "stderr",
     "output_type": "stream",
     "text": [
      "\n"
     ]
    },
    {
     "name": "stdout",
     "output_type": "stream",
     "text": [
      "\n",
      "      Epoch    GPU_mem   box_loss   cls_loss   dfl_loss  Instances       Size\n"
     ]
    },
    {
     "name": "stderr",
     "output_type": "stream",
     "text": [
      "     32/100     0.854G      2.672      5.588      2.617         20        640: 100%|██████████| 1/1 [00:00<00:00,  3.57it/s]\n",
      "                 Class     Images  Instances      Box(P          R      mAP50  mAP50-95): 100%|██████████| 1/1 [00:00<00:00,  3.00it/s]"
     ]
    },
    {
     "name": "stdout",
     "output_type": "stream",
     "text": [
      "                   all          4         17   0.000139     0.0167    0.00402    0.00322\n"
     ]
    },
    {
     "name": "stderr",
     "output_type": "stream",
     "text": [
      "\n"
     ]
    },
    {
     "name": "stdout",
     "output_type": "stream",
     "text": [
      "\n",
      "      Epoch    GPU_mem   box_loss   cls_loss   dfl_loss  Instances       Size\n"
     ]
    },
    {
     "name": "stderr",
     "output_type": "stream",
     "text": [
      "     33/100     0.866G      2.501      5.302      2.643         31        640: 100%|██████████| 1/1 [00:00<00:00,  3.33it/s]\n",
      "                 Class     Images  Instances      Box(P          R      mAP50  mAP50-95): 100%|██████████| 1/1 [00:00<00:00,  2.75it/s]"
     ]
    },
    {
     "name": "stdout",
     "output_type": "stream",
     "text": [
      "                   all          4         17   0.000139     0.0167    0.00534    0.00375\n"
     ]
    },
    {
     "name": "stderr",
     "output_type": "stream",
     "text": [
      "\n"
     ]
    },
    {
     "name": "stdout",
     "output_type": "stream",
     "text": [
      "\n",
      "      Epoch    GPU_mem   box_loss   cls_loss   dfl_loss  Instances       Size\n"
     ]
    },
    {
     "name": "stderr",
     "output_type": "stream",
     "text": [
      "     34/100     0.854G      2.997      5.281      2.891         32        640: 100%|██████████| 1/1 [00:00<00:00,  3.40it/s]\n",
      "                 Class     Images  Instances      Box(P          R      mAP50  mAP50-95): 100%|██████████| 1/1 [00:00<00:00,  2.72it/s]"
     ]
    },
    {
     "name": "stdout",
     "output_type": "stream",
     "text": [
      "                   all          4         17   0.000139     0.0167    0.00534    0.00375\n",
      "\n",
      "      Epoch    GPU_mem   box_loss   cls_loss   dfl_loss  Instances       Size\n"
     ]
    },
    {
     "name": "stderr",
     "output_type": "stream",
     "text": [
      "\n",
      "     35/100     0.864G      2.558      5.551      2.623         23        640: 100%|██████████| 1/1 [00:00<00:00,  3.21it/s]\n",
      "                 Class     Images  Instances      Box(P          R      mAP50  mAP50-95): 100%|██████████| 1/1 [00:00<00:00,  2.73it/s]"
     ]
    },
    {
     "name": "stdout",
     "output_type": "stream",
     "text": [
      "                   all          4         17   0.000139     0.0167    0.00534    0.00375\n",
      "\n",
      "      Epoch    GPU_mem   box_loss   cls_loss   dfl_loss  Instances       Size\n"
     ]
    },
    {
     "name": "stderr",
     "output_type": "stream",
     "text": [
      "\n",
      "     36/100     0.854G      2.448      5.169      2.549         34        640: 100%|██████████| 1/1 [00:00<00:00,  7.17it/s]\n",
      "                 Class     Images  Instances      Box(P          R      mAP50  mAP50-95): 100%|██████████| 1/1 [00:00<00:00, 30.71it/s]"
     ]
    },
    {
     "name": "stdout",
     "output_type": "stream",
     "text": [
      "                   all          4         17   0.000139     0.0167    0.00534    0.00375\n"
     ]
    },
    {
     "name": "stderr",
     "output_type": "stream",
     "text": [
      "\n"
     ]
    },
    {
     "name": "stdout",
     "output_type": "stream",
     "text": [
      "\n",
      "      Epoch    GPU_mem   box_loss   cls_loss   dfl_loss  Instances       Size\n"
     ]
    },
    {
     "name": "stderr",
     "output_type": "stream",
     "text": [
      "     37/100     0.864G      2.573      5.131      2.386         34        640: 100%|██████████| 1/1 [00:00<00:00, 18.52it/s]\n",
      "                 Class     Images  Instances      Box(P          R      mAP50  mAP50-95): 100%|██████████| 1/1 [00:00<00:00, 33.21it/s]"
     ]
    },
    {
     "name": "stdout",
     "output_type": "stream",
     "text": [
      "                   all          4         17   0.000278     0.0333    0.00808    0.00441\n"
     ]
    },
    {
     "name": "stderr",
     "output_type": "stream",
     "text": [
      "\n"
     ]
    },
    {
     "name": "stdout",
     "output_type": "stream",
     "text": [
      "\n",
      "      Epoch    GPU_mem   box_loss   cls_loss   dfl_loss  Instances       Size\n"
     ]
    },
    {
     "name": "stderr",
     "output_type": "stream",
     "text": [
      "     38/100     0.854G      2.452       5.33      2.328         29        640: 100%|██████████| 1/1 [00:00<00:00,  3.53it/s]\n",
      "                 Class     Images  Instances      Box(P          R      mAP50  mAP50-95): 100%|██████████| 1/1 [00:00<00:00,  2.93it/s]"
     ]
    },
    {
     "name": "stdout",
     "output_type": "stream",
     "text": [
      "                   all          4         17   0.000278     0.0333    0.00808    0.00441\n",
      "\n",
      "      Epoch    GPU_mem   box_loss   cls_loss   dfl_loss  Instances       Size\n"
     ]
    },
    {
     "name": "stderr",
     "output_type": "stream",
     "text": [
      "\n",
      "     39/100     0.864G      2.607      5.441      2.617         25        640: 100%|██████████| 1/1 [00:00<00:00,  3.36it/s]\n",
      "                 Class     Images  Instances      Box(P          R      mAP50  mAP50-95): 100%|██████████| 1/1 [00:00<00:00,  2.88it/s]"
     ]
    },
    {
     "name": "stdout",
     "output_type": "stream",
     "text": [
      "                   all          4         17   0.000278     0.0333      0.016    0.00798\n",
      "\n",
      "      Epoch    GPU_mem   box_loss   cls_loss   dfl_loss  Instances       Size\n"
     ]
    },
    {
     "name": "stderr",
     "output_type": "stream",
     "text": [
      "\n",
      "     40/100     0.854G       2.08      5.461      2.368         19        640: 100%|██████████| 1/1 [00:00<00:00,  3.57it/s]\n",
      "                 Class     Images  Instances      Box(P          R      mAP50  mAP50-95): 100%|██████████| 1/1 [00:00<00:00,  2.79it/s]"
     ]
    },
    {
     "name": "stdout",
     "output_type": "stream",
     "text": [
      "                   all          4         17   0.000278     0.0333      0.016    0.00798\n",
      "\n",
      "      Epoch    GPU_mem   box_loss   cls_loss   dfl_loss  Instances       Size\n"
     ]
    },
    {
     "name": "stderr",
     "output_type": "stream",
     "text": [
      "\n",
      "     41/100     0.864G      2.432      5.344      2.535         29        640: 100%|██████████| 1/1 [00:00<00:00,  3.34it/s]\n",
      "                 Class     Images  Instances      Box(P          R      mAP50  mAP50-95): 100%|██████████| 1/1 [00:00<00:00,  3.03it/s]"
     ]
    },
    {
     "name": "stdout",
     "output_type": "stream",
     "text": [
      "                   all          4         17   0.000278     0.0333      0.016    0.00798\n",
      "\n",
      "      Epoch    GPU_mem   box_loss   cls_loss   dfl_loss  Instances       Size\n"
     ]
    },
    {
     "name": "stderr",
     "output_type": "stream",
     "text": [
      "\n",
      "     42/100     0.854G      2.535      5.164      2.411         34        640: 100%|██████████| 1/1 [00:00<00:00, 21.29it/s]\n",
      "                 Class     Images  Instances      Box(P          R      mAP50  mAP50-95): 100%|██████████| 1/1 [00:00<00:00, 35.46it/s]"
     ]
    },
    {
     "name": "stdout",
     "output_type": "stream",
     "text": [
      "                   all          4         17   0.000278     0.0333      0.016    0.00798\n"
     ]
    },
    {
     "name": "stderr",
     "output_type": "stream",
     "text": [
      "\n"
     ]
    },
    {
     "name": "stdout",
     "output_type": "stream",
     "text": [
      "\n",
      "      Epoch    GPU_mem   box_loss   cls_loss   dfl_loss  Instances       Size\n"
     ]
    },
    {
     "name": "stderr",
     "output_type": "stream",
     "text": [
      "     43/100     0.864G      2.556      5.504      2.575         20        640: 100%|██████████| 1/1 [00:00<00:00,  3.35it/s]\n",
      "                 Class     Images  Instances      Box(P          R      mAP50  mAP50-95): 100%|██████████| 1/1 [00:00<00:00,  2.89it/s]"
     ]
    },
    {
     "name": "stdout",
     "output_type": "stream",
     "text": [
      "                   all          4         17   0.000278     0.0333      0.016    0.00657\n",
      "\n",
      "      Epoch    GPU_mem   box_loss   cls_loss   dfl_loss  Instances       Size\n"
     ]
    },
    {
     "name": "stderr",
     "output_type": "stream",
     "text": [
      "\n",
      "     44/100     0.854G      2.349      5.379      2.545         23        640: 100%|██████████| 1/1 [00:00<00:00,  3.58it/s]\n",
      "                 Class     Images  Instances      Box(P          R      mAP50  mAP50-95): 100%|██████████| 1/1 [00:00<00:00,  2.88it/s]"
     ]
    },
    {
     "name": "stdout",
     "output_type": "stream",
     "text": [
      "                   all          4         17   0.000278     0.0333      0.016    0.00657\n",
      "\n",
      "      Epoch    GPU_mem   box_loss   cls_loss   dfl_loss  Instances       Size\n"
     ]
    },
    {
     "name": "stderr",
     "output_type": "stream",
     "text": [
      "\n",
      "     45/100     0.866G      2.307      4.883      2.387         40        640: 100%|██████████| 1/1 [00:00<00:00,  3.38it/s]\n",
      "                 Class     Images  Instances      Box(P          R      mAP50  mAP50-95): 100%|██████████| 1/1 [00:00<00:00,  2.87it/s]"
     ]
    },
    {
     "name": "stdout",
     "output_type": "stream",
     "text": [
      "                   all          4         17   0.000278     0.0333      0.016    0.00655\n",
      "\n",
      "      Epoch    GPU_mem   box_loss   cls_loss   dfl_loss  Instances       Size\n"
     ]
    },
    {
     "name": "stderr",
     "output_type": "stream",
     "text": [
      "\n",
      "     46/100     0.854G      2.051      5.181      2.356         23        640: 100%|██████████| 1/1 [00:00<00:00,  3.91it/s]\n",
      "                 Class     Images  Instances      Box(P          R      mAP50  mAP50-95): 100%|██████████| 1/1 [00:00<00:00,  2.85it/s]"
     ]
    },
    {
     "name": "stdout",
     "output_type": "stream",
     "text": [
      "                   all          4         17   0.000278     0.0333      0.016    0.00655\n",
      "\n",
      "      Epoch    GPU_mem   box_loss   cls_loss   dfl_loss  Instances       Size\n"
     ]
    },
    {
     "name": "stderr",
     "output_type": "stream",
     "text": [
      "\n",
      "     47/100     0.864G      2.427       5.86      2.454         14        640: 100%|██████████| 1/1 [00:00<00:00, 20.07it/s]\n",
      "                 Class     Images  Instances      Box(P          R      mAP50  mAP50-95): 100%|██████████| 1/1 [00:00<00:00, 39.74it/s]"
     ]
    },
    {
     "name": "stdout",
     "output_type": "stream",
     "text": [
      "                   all          4         17   0.000278     0.0333    0.00811     0.0035\n"
     ]
    },
    {
     "name": "stderr",
     "output_type": "stream",
     "text": [
      "\n"
     ]
    },
    {
     "name": "stdout",
     "output_type": "stream",
     "text": [
      "\n",
      "      Epoch    GPU_mem   box_loss   cls_loss   dfl_loss  Instances       Size\n"
     ]
    },
    {
     "name": "stderr",
     "output_type": "stream",
     "text": [
      "     48/100     0.854G      2.281      5.217       2.46         31        640: 100%|██████████| 1/1 [00:00<00:00,  3.74it/s]\n",
      "                 Class     Images  Instances      Box(P          R      mAP50  mAP50-95): 100%|██████████| 1/1 [00:00<00:00,  2.82it/s]"
     ]
    },
    {
     "name": "stdout",
     "output_type": "stream",
     "text": [
      "                   all          4         17   0.000278     0.0333    0.00811     0.0035\n",
      "\n",
      "      Epoch    GPU_mem   box_loss   cls_loss   dfl_loss  Instances       Size\n"
     ]
    },
    {
     "name": "stderr",
     "output_type": "stream",
     "text": [
      "\n",
      "     49/100     0.868G      2.752      5.902      2.654         17        640: 100%|██████████| 1/1 [00:00<00:00,  3.32it/s]\n",
      "                 Class     Images  Instances      Box(P          R      mAP50  mAP50-95): 100%|██████████| 1/1 [00:00<00:00,  2.91it/s]"
     ]
    },
    {
     "name": "stdout",
     "output_type": "stream",
     "text": [
      "                   all          4         17   0.000278     0.0333    0.00811    0.00297\n",
      "\n",
      "      Epoch    GPU_mem   box_loss   cls_loss   dfl_loss  Instances       Size\n"
     ]
    },
    {
     "name": "stderr",
     "output_type": "stream",
     "text": [
      "\n",
      "     50/100     0.854G      2.309      5.041      2.484         31        640: 100%|██████████| 1/1 [00:00<00:00,  3.56it/s]\n",
      "                 Class     Images  Instances      Box(P          R      mAP50  mAP50-95): 100%|██████████| 1/1 [00:00<00:00,  2.81it/s]"
     ]
    },
    {
     "name": "stdout",
     "output_type": "stream",
     "text": [
      "                   all          4         17   0.000278     0.0333    0.00811    0.00297\n",
      "\n",
      "      Epoch    GPU_mem   box_loss   cls_loss   dfl_loss  Instances       Size\n"
     ]
    },
    {
     "name": "stderr",
     "output_type": "stream",
     "text": [
      "\n",
      "     51/100     0.866G      2.377      4.963      2.367         35        640: 100%|██████████| 1/1 [00:00<00:00,  3.56it/s]\n",
      "                 Class     Images  Instances      Box(P          R      mAP50  mAP50-95): 100%|██████████| 1/1 [00:00<00:00,  2.86it/s]"
     ]
    },
    {
     "name": "stdout",
     "output_type": "stream",
     "text": [
      "                   all          4         17   0.000278     0.0333    0.00546    0.00244\n",
      "\n",
      "      Epoch    GPU_mem   box_loss   cls_loss   dfl_loss  Instances       Size\n"
     ]
    },
    {
     "name": "stderr",
     "output_type": "stream",
     "text": [
      "\n",
      "     52/100     0.854G      2.476      4.934      2.451         55        640: 100%|██████████| 1/1 [00:00<00:00,  9.48it/s]\n",
      "                 Class     Images  Instances      Box(P          R      mAP50  mAP50-95): 100%|██████████| 1/1 [00:00<00:00, 33.61it/s]"
     ]
    },
    {
     "name": "stdout",
     "output_type": "stream",
     "text": [
      "                   all          4         17   0.000278     0.0333    0.00546    0.00244\n"
     ]
    },
    {
     "name": "stderr",
     "output_type": "stream",
     "text": [
      "\n"
     ]
    },
    {
     "name": "stdout",
     "output_type": "stream",
     "text": [
      "\n",
      "      Epoch    GPU_mem   box_loss   cls_loss   dfl_loss  Instances       Size\n"
     ]
    },
    {
     "name": "stderr",
     "output_type": "stream",
     "text": [
      "     53/100     0.868G      2.393      5.547      2.558         14        640: 100%|██████████| 1/1 [00:00<00:00, 21.16it/s]\n",
      "                 Class     Images  Instances      Box(P          R      mAP50  mAP50-95): 100%|██████████| 1/1 [00:00<00:00, 36.39it/s]"
     ]
    },
    {
     "name": "stdout",
     "output_type": "stream",
     "text": [
      "                   all          4         17   0.000278     0.0333    0.00546    0.00244\n"
     ]
    },
    {
     "name": "stderr",
     "output_type": "stream",
     "text": [
      "\n"
     ]
    },
    {
     "name": "stdout",
     "output_type": "stream",
     "text": [
      "\n",
      "      Epoch    GPU_mem   box_loss   cls_loss   dfl_loss  Instances       Size\n"
     ]
    },
    {
     "name": "stderr",
     "output_type": "stream",
     "text": [
      "     54/100     0.864G      2.481      4.817      2.374         46        640: 100%|██████████| 1/1 [00:00<00:00,  3.34it/s]\n",
      "                 Class     Images  Instances      Box(P          R      mAP50  mAP50-95): 100%|██████████| 1/1 [00:00<00:00,  2.97it/s]"
     ]
    },
    {
     "name": "stdout",
     "output_type": "stream",
     "text": [
      "                   all          4         17   0.000278     0.0333    0.00546    0.00183\n",
      "\n",
      "      Epoch    GPU_mem   box_loss   cls_loss   dfl_loss  Instances       Size\n"
     ]
    },
    {
     "name": "stderr",
     "output_type": "stream",
     "text": [
      "\n",
      "     55/100     0.854G      2.377      4.918      2.404         30        640: 100%|██████████| 1/1 [00:00<00:00,  3.49it/s]\n",
      "                 Class     Images  Instances      Box(P          R      mAP50  mAP50-95): 100%|██████████| 1/1 [00:00<00:00,  2.92it/s]"
     ]
    },
    {
     "name": "stdout",
     "output_type": "stream",
     "text": [
      "                   all          4         17   0.000278     0.0333    0.00546    0.00183\n",
      "\n",
      "      Epoch    GPU_mem   box_loss   cls_loss   dfl_loss  Instances       Size\n"
     ]
    },
    {
     "name": "stderr",
     "output_type": "stream",
     "text": [
      "\n",
      "     56/100     0.864G      2.517      5.139       2.47         22        640: 100%|██████████| 1/1 [00:00<00:00,  3.54it/s]\n",
      "                 Class     Images  Instances      Box(P          R      mAP50  mAP50-95): 100%|██████████| 1/1 [00:00<00:00,  2.86it/s]"
     ]
    },
    {
     "name": "stdout",
     "output_type": "stream",
     "text": [
      "                   all          4         17   0.000278     0.0333    0.00546    0.00183\n",
      "\n",
      "      Epoch    GPU_mem   box_loss   cls_loss   dfl_loss  Instances       Size\n"
     ]
    },
    {
     "name": "stderr",
     "output_type": "stream",
     "text": [
      "\n",
      "     57/100     0.864G      2.412      5.235       2.45         28        640: 100%|██████████| 1/1 [00:00<00:00,  3.35it/s]\n",
      "                 Class     Images  Instances      Box(P          R      mAP50  mAP50-95): 100%|██████████| 1/1 [00:00<00:00,  2.84it/s]"
     ]
    },
    {
     "name": "stdout",
     "output_type": "stream",
     "text": [
      "                   all          4         17   0.000139     0.0167     0.0027    0.00134\n",
      "\n",
      "      Epoch    GPU_mem   box_loss   cls_loss   dfl_loss  Instances       Size\n"
     ]
    },
    {
     "name": "stderr",
     "output_type": "stream",
     "text": [
      "\n",
      "     58/100     0.856G       2.88      6.598      2.618         11        640: 100%|██████████| 1/1 [00:00<00:00, 21.78it/s]\n",
      "                 Class     Images  Instances      Box(P          R      mAP50  mAP50-95): 100%|██████████| 1/1 [00:00<00:00, 37.16it/s]"
     ]
    },
    {
     "name": "stdout",
     "output_type": "stream",
     "text": [
      "                   all          4         17   0.000139     0.0167     0.0027    0.00134\n"
     ]
    },
    {
     "name": "stderr",
     "output_type": "stream",
     "text": [
      "\n"
     ]
    },
    {
     "name": "stdout",
     "output_type": "stream",
     "text": [
      "\n",
      "      Epoch    GPU_mem   box_loss   cls_loss   dfl_loss  Instances       Size\n"
     ]
    },
    {
     "name": "stderr",
     "output_type": "stream",
     "text": [
      "     59/100     0.868G      2.166       5.46      2.341         16        640: 100%|██████████| 1/1 [00:00<00:00,  3.63it/s]\n",
      "                 Class     Images  Instances      Box(P          R      mAP50  mAP50-95): 100%|██████████| 1/1 [00:00<00:00,  2.98it/s]"
     ]
    },
    {
     "name": "stdout",
     "output_type": "stream",
     "text": [
      "                   all          4         17   0.000139     0.0167     0.0027    0.00134\n",
      "\n",
      "      Epoch    GPU_mem   box_loss   cls_loss   dfl_loss  Instances       Size\n"
     ]
    },
    {
     "name": "stderr",
     "output_type": "stream",
     "text": [
      "\n",
      "     60/100     0.864G      2.206      4.868      2.473         30        640: 100%|██████████| 1/1 [00:00<00:00,  3.50it/s]\n",
      "                 Class     Images  Instances      Box(P          R      mAP50  mAP50-95): 100%|██████████| 1/1 [00:00<00:00,  2.88it/s]"
     ]
    },
    {
     "name": "stdout",
     "output_type": "stream",
     "text": [
      "                   all          4         17   0.000278     0.0333    0.00248    0.00119\n",
      "\n",
      "      Epoch    GPU_mem   box_loss   cls_loss   dfl_loss  Instances       Size\n"
     ]
    },
    {
     "name": "stderr",
     "output_type": "stream",
     "text": [
      "\n",
      "     61/100     0.854G      2.435      5.187       2.47         26        640: 100%|██████████| 1/1 [00:00<00:00,  3.44it/s]\n",
      "                 Class     Images  Instances      Box(P          R      mAP50  mAP50-95): 100%|██████████| 1/1 [00:00<00:00,  2.83it/s]"
     ]
    },
    {
     "name": "stdout",
     "output_type": "stream",
     "text": [
      "                   all          4         17   0.000278     0.0333    0.00248    0.00119\n",
      "\n",
      "      Epoch    GPU_mem   box_loss   cls_loss   dfl_loss  Instances       Size\n"
     ]
    },
    {
     "name": "stderr",
     "output_type": "stream",
     "text": [
      "\n",
      "     62/100     0.868G      2.547      5.389      2.554         20        640: 100%|██████████| 1/1 [00:00<00:00,  3.58it/s]\n",
      "                 Class     Images  Instances      Box(P          R      mAP50  mAP50-95): 100%|██████████| 1/1 [00:00<00:00,  2.78it/s]"
     ]
    },
    {
     "name": "stdout",
     "output_type": "stream",
     "text": [
      "                   all          4         17   0.000278     0.0333    0.00248    0.00119\n",
      "\n",
      "      Epoch    GPU_mem   box_loss   cls_loss   dfl_loss  Instances       Size\n"
     ]
    },
    {
     "name": "stderr",
     "output_type": "stream",
     "text": [
      "\n",
      "     63/100     0.866G      2.258      5.668       2.25         16        640: 100%|██████████| 1/1 [00:00<00:00, 10.16it/s]\n",
      "                 Class     Images  Instances      Box(P          R      mAP50  mAP50-95): 100%|██████████| 1/1 [00:00<00:00, 33.63it/s]"
     ]
    },
    {
     "name": "stdout",
     "output_type": "stream",
     "text": [
      "                   all          4         17   0.000278     0.0333     0.0022    0.00111\n"
     ]
    },
    {
     "name": "stderr",
     "output_type": "stream",
     "text": [
      "\n"
     ]
    },
    {
     "name": "stdout",
     "output_type": "stream",
     "text": [
      "\n",
      "      Epoch    GPU_mem   box_loss   cls_loss   dfl_loss  Instances       Size\n"
     ]
    },
    {
     "name": "stderr",
     "output_type": "stream",
     "text": [
      "     64/100     0.854G      2.224      5.323      2.306         26        640: 100%|██████████| 1/1 [00:00<00:00, 21.44it/s]\n",
      "                 Class     Images  Instances      Box(P          R      mAP50  mAP50-95): 100%|██████████| 1/1 [00:00<00:00, 40.12it/s]"
     ]
    },
    {
     "name": "stdout",
     "output_type": "stream",
     "text": [
      "                   all          4         17   0.000278     0.0333     0.0022    0.00111\n"
     ]
    },
    {
     "name": "stderr",
     "output_type": "stream",
     "text": [
      "\n"
     ]
    },
    {
     "name": "stdout",
     "output_type": "stream",
     "text": [
      "\n",
      "      Epoch    GPU_mem   box_loss   cls_loss   dfl_loss  Instances       Size\n"
     ]
    },
    {
     "name": "stderr",
     "output_type": "stream",
     "text": [
      "     65/100     0.864G      2.434      4.928      2.349         37        640: 100%|██████████| 1/1 [00:00<00:00,  3.42it/s]\n",
      "                 Class     Images  Instances      Box(P          R      mAP50  mAP50-95): 100%|██████████| 1/1 [00:00<00:00,  2.83it/s]"
     ]
    },
    {
     "name": "stdout",
     "output_type": "stream",
     "text": [
      "                   all          4         17   0.000278     0.0333     0.0022    0.00111\n",
      "\n",
      "      Epoch    GPU_mem   box_loss   cls_loss   dfl_loss  Instances       Size\n"
     ]
    },
    {
     "name": "stderr",
     "output_type": "stream",
     "text": [
      "\n",
      "     66/100     0.866G      2.478      4.936      2.626         51        640: 100%|██████████| 1/1 [00:00<00:00,  3.25it/s]\n",
      "                 Class     Images  Instances      Box(P          R      mAP50  mAP50-95): 100%|██████████| 1/1 [00:00<00:00,  2.83it/s]"
     ]
    },
    {
     "name": "stdout",
     "output_type": "stream",
     "text": [
      "                   all          4         17   0.000278     0.0333    0.00197    0.00103\n",
      "\n",
      "      Epoch    GPU_mem   box_loss   cls_loss   dfl_loss  Instances       Size\n"
     ]
    },
    {
     "name": "stderr",
     "output_type": "stream",
     "text": [
      "\n",
      "     67/100     0.851G      2.274      5.049      2.469         37        640: 100%|██████████| 1/1 [00:00<00:00,  3.44it/s]\n",
      "                 Class     Images  Instances      Box(P          R      mAP50  mAP50-95): 100%|██████████| 1/1 [00:00<00:00,  2.79it/s]"
     ]
    },
    {
     "name": "stdout",
     "output_type": "stream",
     "text": [
      "                   all          4         17   0.000278     0.0333    0.00197    0.00103\n",
      "\n",
      "      Epoch    GPU_mem   box_loss   cls_loss   dfl_loss  Instances       Size\n"
     ]
    },
    {
     "name": "stderr",
     "output_type": "stream",
     "text": [
      "\n",
      "     68/100     0.864G      2.253      5.135      2.189         31        640: 100%|██████████| 1/1 [00:00<00:00,  3.68it/s]\n",
      "                 Class     Images  Instances      Box(P          R      mAP50  mAP50-95): 100%|██████████| 1/1 [00:00<00:00,  2.79it/s]"
     ]
    },
    {
     "name": "stdout",
     "output_type": "stream",
     "text": [
      "                   all          4         17   0.000278     0.0333    0.00197    0.00103\n",
      "\n",
      "      Epoch    GPU_mem   box_loss   cls_loss   dfl_loss  Instances       Size\n"
     ]
    },
    {
     "name": "stderr",
     "output_type": "stream",
     "text": [
      "\n",
      "     69/100     0.864G       2.12      5.718      2.392         12        640: 100%|██████████| 1/1 [00:00<00:00,  6.27it/s]\n",
      "                 Class     Images  Instances      Box(P          R      mAP50  mAP50-95): 100%|██████████| 1/1 [00:00<00:00, 32.11it/s]"
     ]
    },
    {
     "name": "stdout",
     "output_type": "stream",
     "text": [
      "                   all          4         17   0.000278     0.0333    0.00247    0.00142\n"
     ]
    },
    {
     "name": "stderr",
     "output_type": "stream",
     "text": [
      "\n"
     ]
    },
    {
     "name": "stdout",
     "output_type": "stream",
     "text": [
      "\n",
      "      Epoch    GPU_mem   box_loss   cls_loss   dfl_loss  Instances       Size\n"
     ]
    },
    {
     "name": "stderr",
     "output_type": "stream",
     "text": [
      "     70/100     0.856G      2.551      7.113      2.372          9        640: 100%|██████████| 1/1 [00:00<00:00, 20.86it/s]\n",
      "                 Class     Images  Instances      Box(P          R      mAP50  mAP50-95): 100%|██████████| 1/1 [00:00<00:00, 37.07it/s]"
     ]
    },
    {
     "name": "stdout",
     "output_type": "stream",
     "text": [
      "                   all          4         17   0.000278     0.0333    0.00247    0.00142\n"
     ]
    },
    {
     "name": "stderr",
     "output_type": "stream",
     "text": [
      "\n"
     ]
    },
    {
     "name": "stdout",
     "output_type": "stream",
     "text": [
      "\n",
      "      Epoch    GPU_mem   box_loss   cls_loss   dfl_loss  Instances       Size\n"
     ]
    },
    {
     "name": "stderr",
     "output_type": "stream",
     "text": [
      "     71/100     0.868G      2.173      5.216      2.223         23        640: 100%|██████████| 1/1 [00:00<00:00,  3.47it/s]\n",
      "                 Class     Images  Instances      Box(P          R      mAP50  mAP50-95): 100%|██████████| 1/1 [00:00<00:00,  2.95it/s]"
     ]
    },
    {
     "name": "stdout",
     "output_type": "stream",
     "text": [
      "                   all          4         17   0.000278     0.0333    0.00247    0.00142\n",
      "\n",
      "      Epoch    GPU_mem   box_loss   cls_loss   dfl_loss  Instances       Size\n"
     ]
    },
    {
     "name": "stderr",
     "output_type": "stream",
     "text": [
      "\n",
      "     72/100      0.87G      2.201      5.151      2.233         21        640: 100%|██████████| 1/1 [00:00<00:00,  3.38it/s]\n",
      "                 Class     Images  Instances      Box(P          R      mAP50  mAP50-95): 100%|██████████| 1/1 [00:00<00:00,  2.91it/s]"
     ]
    },
    {
     "name": "stdout",
     "output_type": "stream",
     "text": [
      "                   all          4         17   0.000278     0.0333    0.00197    0.00113\n",
      "\n",
      "      Epoch    GPU_mem   box_loss   cls_loss   dfl_loss  Instances       Size\n"
     ]
    },
    {
     "name": "stderr",
     "output_type": "stream",
     "text": [
      "\n",
      "     73/100     0.851G      2.027      5.588      2.378         15        640: 100%|██████████| 1/1 [00:00<00:00,  3.62it/s]\n",
      "                 Class     Images  Instances      Box(P          R      mAP50  mAP50-95): 100%|██████████| 1/1 [00:00<00:00,  2.81it/s]"
     ]
    },
    {
     "name": "stdout",
     "output_type": "stream",
     "text": [
      "                   all          4         17   0.000278     0.0333    0.00197    0.00113\n",
      "\n",
      "      Epoch    GPU_mem   box_loss   cls_loss   dfl_loss  Instances       Size\n"
     ]
    },
    {
     "name": "stderr",
     "output_type": "stream",
     "text": [
      "\n",
      "     74/100     0.864G      3.014      5.185      2.836         28        640: 100%|██████████| 1/1 [00:00<00:00,  3.64it/s]\n",
      "                 Class     Images  Instances      Box(P          R      mAP50  mAP50-95): 100%|██████████| 1/1 [00:00<00:00,  2.72it/s]"
     ]
    },
    {
     "name": "stdout",
     "output_type": "stream",
     "text": [
      "                   all          4         17   0.000278     0.0333    0.00197    0.00113\n",
      "\n",
      "      Epoch    GPU_mem   box_loss   cls_loss   dfl_loss  Instances       Size\n"
     ]
    },
    {
     "name": "stderr",
     "output_type": "stream",
     "text": [
      "\n",
      "     75/100     0.864G      2.362      4.882      2.261         60        640: 100%|██████████| 1/1 [00:00<00:00, 16.38it/s]\n",
      "                 Class     Images  Instances      Box(P          R      mAP50  mAP50-95): 100%|██████████| 1/1 [00:00<00:00, 32.56it/s]"
     ]
    },
    {
     "name": "stdout",
     "output_type": "stream",
     "text": [
      "                   all          4         17   0.000417       0.05     0.0017   0.000889\n"
     ]
    },
    {
     "name": "stderr",
     "output_type": "stream",
     "text": [
      "\n"
     ]
    },
    {
     "name": "stdout",
     "output_type": "stream",
     "text": [
      "\n",
      "      Epoch    GPU_mem   box_loss   cls_loss   dfl_loss  Instances       Size\n"
     ]
    },
    {
     "name": "stderr",
     "output_type": "stream",
     "text": [
      "     76/100     0.851G      2.473      5.567      2.529         14        640: 100%|██████████| 1/1 [00:00<00:00, 22.30it/s]\n",
      "                 Class     Images  Instances      Box(P          R      mAP50  mAP50-95): 100%|██████████| 1/1 [00:00<00:00, 32.85it/s]"
     ]
    },
    {
     "name": "stdout",
     "output_type": "stream",
     "text": [
      "                   all          4         17   0.000417       0.05     0.0017   0.000889\n"
     ]
    },
    {
     "name": "stderr",
     "output_type": "stream",
     "text": [
      "\n"
     ]
    },
    {
     "name": "stdout",
     "output_type": "stream",
     "text": [
      "\n",
      "      Epoch    GPU_mem   box_loss   cls_loss   dfl_loss  Instances       Size\n"
     ]
    },
    {
     "name": "stderr",
     "output_type": "stream",
     "text": [
      "     77/100     0.864G      2.186      4.812      2.255         37        640: 100%|██████████| 1/1 [00:00<00:00,  3.31it/s]\n",
      "                 Class     Images  Instances      Box(P          R      mAP50  mAP50-95): 100%|██████████| 1/1 [00:00<00:00,  2.82it/s]"
     ]
    },
    {
     "name": "stdout",
     "output_type": "stream",
     "text": [
      "                   all          4         17   0.000417       0.05     0.0017   0.000889\n",
      "\n",
      "      Epoch    GPU_mem   box_loss   cls_loss   dfl_loss  Instances       Size\n"
     ]
    },
    {
     "name": "stderr",
     "output_type": "stream",
     "text": [
      "\n",
      "     78/100     0.864G      2.267      4.818      2.352         45        640: 100%|██████████| 1/1 [00:00<00:00,  3.23it/s]\n",
      "                 Class     Images  Instances      Box(P          R      mAP50  mAP50-95): 100%|██████████| 1/1 [00:00<00:00,  2.81it/s]"
     ]
    },
    {
     "name": "stdout",
     "output_type": "stream",
     "text": [
      "                   all          4         17   0.000417       0.05    0.00208    0.00105\n",
      "\n",
      "      Epoch    GPU_mem   box_loss   cls_loss   dfl_loss  Instances       Size\n"
     ]
    },
    {
     "name": "stderr",
     "output_type": "stream",
     "text": [
      "\n",
      "     79/100     0.856G      3.242      6.013       2.81         16        640: 100%|██████████| 1/1 [00:00<00:00,  3.45it/s]\n",
      "                 Class     Images  Instances      Box(P          R      mAP50  mAP50-95): 100%|██████████| 1/1 [00:00<00:00,  2.74it/s]"
     ]
    },
    {
     "name": "stdout",
     "output_type": "stream",
     "text": [
      "                   all          4         17   0.000417       0.05    0.00208    0.00105\n",
      "\n",
      "      Epoch    GPU_mem   box_loss   cls_loss   dfl_loss  Instances       Size\n"
     ]
    },
    {
     "name": "stderr",
     "output_type": "stream",
     "text": [
      "\n",
      "     80/100      0.87G      2.326      5.248      2.323         21        640: 100%|██████████| 1/1 [00:00<00:00,  3.37it/s]\n",
      "                 Class     Images  Instances      Box(P          R      mAP50  mAP50-95): 100%|██████████| 1/1 [00:00<00:00,  2.77it/s]"
     ]
    },
    {
     "name": "stdout",
     "output_type": "stream",
     "text": [
      "                   all          4         17   0.000417       0.05    0.00208    0.00105\n",
      "\n",
      "      Epoch    GPU_mem   box_loss   cls_loss   dfl_loss  Instances       Size\n"
     ]
    },
    {
     "name": "stderr",
     "output_type": "stream",
     "text": [
      "\n",
      "     81/100     0.864G       2.21      4.809      2.321         42        640: 100%|██████████| 1/1 [00:00<00:00,  3.63it/s]\n",
      "                 Class     Images  Instances      Box(P          R      mAP50  mAP50-95): 100%|██████████| 1/1 [00:00<00:00, 30.97it/s]"
     ]
    },
    {
     "name": "stdout",
     "output_type": "stream",
     "text": [
      "                   all          4         17   0.000417       0.05    0.00207    0.00105\n"
     ]
    },
    {
     "name": "stderr",
     "output_type": "stream",
     "text": [
      "\n"
     ]
    },
    {
     "name": "stdout",
     "output_type": "stream",
     "text": [
      "\n",
      "      Epoch    GPU_mem   box_loss   cls_loss   dfl_loss  Instances       Size\n"
     ]
    },
    {
     "name": "stderr",
     "output_type": "stream",
     "text": [
      "     82/100     0.851G      1.684      4.742      1.995         32        640: 100%|██████████| 1/1 [00:00<00:00, 22.18it/s]\n",
      "                 Class     Images  Instances      Box(P          R      mAP50  mAP50-95): 100%|██████████| 1/1 [00:00<00:00, 35.63it/s]"
     ]
    },
    {
     "name": "stdout",
     "output_type": "stream",
     "text": [
      "                   all          4         17   0.000417       0.05    0.00207    0.00105\n"
     ]
    },
    {
     "name": "stderr",
     "output_type": "stream",
     "text": [
      "\n"
     ]
    },
    {
     "name": "stdout",
     "output_type": "stream",
     "text": [
      "\n",
      "      Epoch    GPU_mem   box_loss   cls_loss   dfl_loss  Instances       Size\n"
     ]
    },
    {
     "name": "stderr",
     "output_type": "stream",
     "text": [
      "     83/100     0.864G      2.346      5.244      2.218         31        640: 100%|██████████| 1/1 [00:00<00:00, 26.86it/s]\n",
      "                 Class     Images  Instances      Box(P          R      mAP50  mAP50-95): 100%|██████████| 1/1 [00:00<00:00, 48.51it/s]"
     ]
    },
    {
     "name": "stdout",
     "output_type": "stream",
     "text": [
      "                   all          4         17   0.000417       0.05    0.00207    0.00105\n"
     ]
    },
    {
     "name": "stderr",
     "output_type": "stream",
     "text": [
      "\n"
     ]
    },
    {
     "name": "stdout",
     "output_type": "stream",
     "text": [
      "\n",
      "      Epoch    GPU_mem   box_loss   cls_loss   dfl_loss  Instances       Size\n"
     ]
    },
    {
     "name": "stderr",
     "output_type": "stream",
     "text": [
      "     84/100     0.866G      2.556       5.08      2.606         30        640: 100%|██████████| 1/1 [00:00<00:00, 16.69it/s]\n",
      "                 Class     Images  Instances      Box(P          R      mAP50  mAP50-95): 100%|██████████| 1/1 [00:00<00:00, 36.10it/s]"
     ]
    },
    {
     "name": "stdout",
     "output_type": "stream",
     "text": [
      "                   all          4         17   0.000417       0.05    0.00189   0.000954\n"
     ]
    },
    {
     "name": "stderr",
     "output_type": "stream",
     "text": [
      "\n"
     ]
    },
    {
     "name": "stdout",
     "output_type": "stream",
     "text": [
      "\n",
      "      Epoch    GPU_mem   box_loss   cls_loss   dfl_loss  Instances       Size\n"
     ]
    },
    {
     "name": "stderr",
     "output_type": "stream",
     "text": [
      "     85/100     0.854G      2.423      5.106      2.482         26        640: 100%|██████████| 1/1 [00:00<00:00, 22.46it/s]\n",
      "                 Class     Images  Instances      Box(P          R      mAP50  mAP50-95): 100%|██████████| 1/1 [00:00<00:00, 33.31it/s]"
     ]
    },
    {
     "name": "stdout",
     "output_type": "stream",
     "text": [
      "                   all          4         17   0.000417       0.05    0.00189   0.000954\n"
     ]
    },
    {
     "name": "stderr",
     "output_type": "stream",
     "text": [
      "\n"
     ]
    },
    {
     "name": "stdout",
     "output_type": "stream",
     "text": [
      "\n",
      "      Epoch    GPU_mem   box_loss   cls_loss   dfl_loss  Instances       Size\n"
     ]
    },
    {
     "name": "stderr",
     "output_type": "stream",
     "text": [
      "     86/100     0.864G      2.455      4.982      2.481         24        640: 100%|██████████| 1/1 [00:00<00:00, 23.13it/s]\n",
      "                 Class     Images  Instances      Box(P          R      mAP50  mAP50-95): 100%|██████████| 1/1 [00:00<00:00, 36.40it/s]"
     ]
    },
    {
     "name": "stdout",
     "output_type": "stream",
     "text": [
      "                   all          4         17   0.000417       0.05    0.00189   0.000954\n"
     ]
    },
    {
     "name": "stderr",
     "output_type": "stream",
     "text": [
      "\n"
     ]
    },
    {
     "name": "stdout",
     "output_type": "stream",
     "text": [
      "\n",
      "      Epoch    GPU_mem   box_loss   cls_loss   dfl_loss  Instances       Size\n"
     ]
    },
    {
     "name": "stderr",
     "output_type": "stream",
     "text": [
      "     87/100     0.866G      1.957      4.685      2.162         31        640: 100%|██████████| 1/1 [00:00<00:00, 20.98it/s]\n",
      "                 Class     Images  Instances      Box(P          R      mAP50  mAP50-95): 100%|██████████| 1/1 [00:00<00:00, 35.92it/s]"
     ]
    },
    {
     "name": "stdout",
     "output_type": "stream",
     "text": [
      "                   all          4         17   0.000417       0.05    0.00189   0.000954\n"
     ]
    },
    {
     "name": "stderr",
     "output_type": "stream",
     "text": [
      "\n"
     ]
    },
    {
     "name": "stdout",
     "output_type": "stream",
     "text": [
      "\n",
      "      Epoch    GPU_mem   box_loss   cls_loss   dfl_loss  Instances       Size\n"
     ]
    },
    {
     "name": "stderr",
     "output_type": "stream",
     "text": [
      "     88/100     0.864G      2.543      4.912      2.514         47        640: 100%|██████████| 1/1 [00:00<00:00, 19.05it/s]\n",
      "                 Class     Images  Instances      Box(P          R      mAP50  mAP50-95): 100%|██████████| 1/1 [00:00<00:00, 34.73it/s]"
     ]
    },
    {
     "name": "stdout",
     "output_type": "stream",
     "text": [
      "                   all          4         17   0.000417       0.05    0.00228    0.00115\n"
     ]
    },
    {
     "name": "stderr",
     "output_type": "stream",
     "text": [
      "\n"
     ]
    },
    {
     "name": "stdout",
     "output_type": "stream",
     "text": [
      "\n",
      "      Epoch    GPU_mem   box_loss   cls_loss   dfl_loss  Instances       Size\n"
     ]
    },
    {
     "name": "stderr",
     "output_type": "stream",
     "text": [
      "     89/100     0.854G      2.277      4.969      2.437         26        640: 100%|██████████| 1/1 [00:00<00:00, 22.98it/s]\n",
      "                 Class     Images  Instances      Box(P          R      mAP50  mAP50-95): 100%|██████████| 1/1 [00:00<00:00, 35.95it/s]"
     ]
    },
    {
     "name": "stdout",
     "output_type": "stream",
     "text": [
      "                   all          4         17   0.000417       0.05    0.00228    0.00115\n"
     ]
    },
    {
     "name": "stderr",
     "output_type": "stream",
     "text": [
      "\n"
     ]
    },
    {
     "name": "stdout",
     "output_type": "stream",
     "text": [
      "\n",
      "      Epoch    GPU_mem   box_loss   cls_loss   dfl_loss  Instances       Size\n"
     ]
    },
    {
     "name": "stderr",
     "output_type": "stream",
     "text": [
      "     90/100     0.864G      2.158      5.086      2.214         31        640: 100%|██████████| 1/1 [00:00<00:00, 23.42it/s]\n",
      "                 Class     Images  Instances      Box(P          R      mAP50  mAP50-95): 100%|██████████| 1/1 [00:00<00:00, 35.45it/s]"
     ]
    },
    {
     "name": "stdout",
     "output_type": "stream",
     "text": [
      "                   all          4         17   0.000417       0.05    0.00228    0.00115\n"
     ]
    },
    {
     "name": "stderr",
     "output_type": "stream",
     "text": [
      "\n"
     ]
    },
    {
     "name": "stdout",
     "output_type": "stream",
     "text": [
      "Closing dataloader mosaic\n",
      "\n",
      "      Epoch    GPU_mem   box_loss   cls_loss   dfl_loss  Instances       Size\n"
     ]
    },
    {
     "name": "stderr",
     "output_type": "stream",
     "text": [
      "     91/100     0.864G      2.191       5.47      2.437         13        640: 100%|██████████| 1/1 [00:00<00:00, 11.20it/s]\n",
      "                 Class     Images  Instances      Box(P          R      mAP50  mAP50-95): 100%|██████████| 1/1 [00:00<00:00, 24.97it/s]"
     ]
    },
    {
     "name": "stdout",
     "output_type": "stream",
     "text": [
      "                   all          4         17   0.000417       0.05    0.00228    0.00115\n"
     ]
    },
    {
     "name": "stderr",
     "output_type": "stream",
     "text": [
      "\n"
     ]
    },
    {
     "name": "stdout",
     "output_type": "stream",
     "text": [
      "\n",
      "      Epoch    GPU_mem   box_loss   cls_loss   dfl_loss  Instances       Size\n"
     ]
    },
    {
     "name": "stderr",
     "output_type": "stream",
     "text": [
      "     92/100     0.864G      1.875      5.483      2.103         13        640: 100%|██████████| 1/1 [00:00<00:00, 19.11it/s]\n",
      "                 Class     Images  Instances      Box(P          R      mAP50  mAP50-95): 100%|██████████| 1/1 [00:00<00:00, 34.07it/s]"
     ]
    },
    {
     "name": "stdout",
     "output_type": "stream",
     "text": [
      "                   all          4         17   0.000417       0.05    0.00161   0.000829\n"
     ]
    },
    {
     "name": "stderr",
     "output_type": "stream",
     "text": [
      "\n"
     ]
    },
    {
     "name": "stdout",
     "output_type": "stream",
     "text": [
      "\n",
      "      Epoch    GPU_mem   box_loss   cls_loss   dfl_loss  Instances       Size\n"
     ]
    },
    {
     "name": "stderr",
     "output_type": "stream",
     "text": [
      "     93/100     0.851G      1.724      5.425      2.173         13        640: 100%|██████████| 1/1 [00:00<00:00, 22.13it/s]\n",
      "                 Class     Images  Instances      Box(P          R      mAP50  mAP50-95): 100%|██████████| 1/1 [00:00<00:00, 33.42it/s]"
     ]
    },
    {
     "name": "stdout",
     "output_type": "stream",
     "text": [
      "                   all          4         17   0.000417       0.05    0.00161   0.000829\n"
     ]
    },
    {
     "name": "stderr",
     "output_type": "stream",
     "text": [
      "\n"
     ]
    },
    {
     "name": "stdout",
     "output_type": "stream",
     "text": [
      "\n",
      "      Epoch    GPU_mem   box_loss   cls_loss   dfl_loss  Instances       Size\n"
     ]
    },
    {
     "name": "stderr",
     "output_type": "stream",
     "text": [
      "     94/100     0.864G      2.224      5.722      2.479         13        640: 100%|██████████| 1/1 [00:00<00:00, 22.92it/s]\n",
      "                 Class     Images  Instances      Box(P          R      mAP50  mAP50-95): 100%|██████████| 1/1 [00:00<00:00, 33.45it/s]"
     ]
    },
    {
     "name": "stdout",
     "output_type": "stream",
     "text": [
      "                   all          4         17   0.000417       0.05    0.00161   0.000829\n"
     ]
    },
    {
     "name": "stderr",
     "output_type": "stream",
     "text": [
      "\n"
     ]
    },
    {
     "name": "stdout",
     "output_type": "stream",
     "text": [
      "\n",
      "      Epoch    GPU_mem   box_loss   cls_loss   dfl_loss  Instances       Size\n"
     ]
    },
    {
     "name": "stderr",
     "output_type": "stream",
     "text": [
      "     95/100     0.864G      1.979      5.514      2.265         13        640: 100%|██████████| 1/1 [00:00<00:00, 22.16it/s]\n",
      "                 Class     Images  Instances      Box(P          R      mAP50  mAP50-95): 100%|██████████| 1/1 [00:00<00:00, 33.40it/s]"
     ]
    },
    {
     "name": "stdout",
     "output_type": "stream",
     "text": [
      "                   all          4         17   0.000417       0.05    0.00161   0.000829\n"
     ]
    },
    {
     "name": "stderr",
     "output_type": "stream",
     "text": [
      "\n"
     ]
    },
    {
     "name": "stdout",
     "output_type": "stream",
     "text": [
      "\n",
      "      Epoch    GPU_mem   box_loss   cls_loss   dfl_loss  Instances       Size\n"
     ]
    },
    {
     "name": "stderr",
     "output_type": "stream",
     "text": [
      "     96/100     0.864G      2.588      5.952      2.612         13        640: 100%|██████████| 1/1 [00:00<00:00, 19.49it/s]\n",
      "                 Class     Images  Instances      Box(P          R      mAP50  mAP50-95): 100%|██████████| 1/1 [00:00<00:00, 33.80it/s]"
     ]
    },
    {
     "name": "stdout",
     "output_type": "stream",
     "text": [
      "                   all          4         17   0.000556     0.0667    0.00113   0.000538\n"
     ]
    },
    {
     "name": "stderr",
     "output_type": "stream",
     "text": [
      "\n"
     ]
    },
    {
     "name": "stdout",
     "output_type": "stream",
     "text": [
      "\n",
      "      Epoch    GPU_mem   box_loss   cls_loss   dfl_loss  Instances       Size\n"
     ]
    },
    {
     "name": "stderr",
     "output_type": "stream",
     "text": [
      "     97/100     0.851G      1.755      5.538      2.004         13        640: 100%|██████████| 1/1 [00:00<00:00, 23.48it/s]\n",
      "                 Class     Images  Instances      Box(P          R      mAP50  mAP50-95): 100%|██████████| 1/1 [00:00<00:00, 34.68it/s]"
     ]
    },
    {
     "name": "stdout",
     "output_type": "stream",
     "text": [
      "                   all          4         17   0.000556     0.0667    0.00113   0.000538\n"
     ]
    },
    {
     "name": "stderr",
     "output_type": "stream",
     "text": [
      "\n"
     ]
    },
    {
     "name": "stdout",
     "output_type": "stream",
     "text": [
      "\n",
      "      Epoch    GPU_mem   box_loss   cls_loss   dfl_loss  Instances       Size\n"
     ]
    },
    {
     "name": "stderr",
     "output_type": "stream",
     "text": [
      "     98/100     0.864G      2.066       5.59      2.372         13        640: 100%|██████████| 1/1 [00:00<00:00, 22.29it/s]\n",
      "                 Class     Images  Instances      Box(P          R      mAP50  mAP50-95): 100%|██████████| 1/1 [00:00<00:00, 38.76it/s]"
     ]
    },
    {
     "name": "stdout",
     "output_type": "stream",
     "text": [
      "                   all          4         17   0.000556     0.0667    0.00113   0.000538\n"
     ]
    },
    {
     "name": "stderr",
     "output_type": "stream",
     "text": [
      "\n"
     ]
    },
    {
     "name": "stdout",
     "output_type": "stream",
     "text": [
      "\n",
      "      Epoch    GPU_mem   box_loss   cls_loss   dfl_loss  Instances       Size\n"
     ]
    },
    {
     "name": "stderr",
     "output_type": "stream",
     "text": [
      "     99/100     0.864G      2.174      5.547      2.372         13        640: 100%|██████████| 1/1 [00:00<00:00, 26.02it/s]\n",
      "                 Class     Images  Instances      Box(P          R      mAP50  mAP50-95): 100%|██████████| 1/1 [00:00<00:00, 53.43it/s]"
     ]
    },
    {
     "name": "stdout",
     "output_type": "stream",
     "text": [
      "                   all          4         17   0.000556     0.0667    0.00113   0.000538\n"
     ]
    },
    {
     "name": "stderr",
     "output_type": "stream",
     "text": [
      "\n"
     ]
    },
    {
     "name": "stdout",
     "output_type": "stream",
     "text": [
      "\n",
      "      Epoch    GPU_mem   box_loss   cls_loss   dfl_loss  Instances       Size\n"
     ]
    },
    {
     "name": "stderr",
     "output_type": "stream",
     "text": [
      "    100/100     0.864G      2.002       5.37      2.168         13        640: 100%|██████████| 1/1 [00:00<00:00, 22.26it/s]\n",
      "                 Class     Images  Instances      Box(P          R      mAP50  mAP50-95): 100%|██████████| 1/1 [00:00<00:00, 54.51it/s]"
     ]
    },
    {
     "name": "stdout",
     "output_type": "stream",
     "text": [
      "                   all          4         17   0.000417       0.05   0.000979   0.000457\n"
     ]
    },
    {
     "name": "stderr",
     "output_type": "stream",
     "text": [
      "\n"
     ]
    },
    {
     "name": "stdout",
     "output_type": "stream",
     "text": [
      "\n",
      "100 epochs completed in 0.017 hours.\n",
      "Optimizer stripped from runs/detect/train3/weights/last.pt, 6.6MB\n",
      "Optimizer stripped from runs/detect/train3/weights/best.pt, 6.5MB\n",
      "\n",
      "Validating runs/detect/train3/weights/best.pt...\n",
      "Ultralytics YOLOv8.2.31 🚀 Python-3.12.3 torch-2.3.1+cu121 CUDA:0 (NVIDIA GeForce RTX 3090, 24253MiB)\n",
      "Model summary (fused): 168 layers, 3151904 parameters, 0 gradients, 8.7 GFLOPs\n"
     ]
    },
    {
     "name": "stderr",
     "output_type": "stream",
     "text": [
      "                 Class     Images  Instances      Box(P          R      mAP50  mAP50-95): 100%|██████████| 1/1 [00:00<00:00, 74.76it/s]\n"
     ]
    },
    {
     "name": "stdout",
     "output_type": "stream",
     "text": [
      "                   all          4         17   0.000278     0.0333      0.016    0.00798\n",
      "                person          3         10    0.00167        0.2     0.0961     0.0479\n",
      "                   dog          1          1          0          0          0          0\n",
      "                 horse          1          2          0          0          0          0\n",
      "              elephant          1          2          0          0          0          0\n",
      "              umbrella          1          1          0          0          0          0\n",
      "          potted plant          1          1          0          0          0          0\n",
      "Speed: 0.1ms preprocess, 1.1ms inference, 0.0ms loss, 1.1ms postprocess per image\n",
      "Results saved to \u001b[1mruns/detect/train3\u001b[0m\n"
     ]
    }
   ],
   "source": []
  },
  {
   "cell_type": "markdown",
   "metadata": {},
   "source": [
    "# Save the Lidar projections as images for processing with Ultralytics"
   ]
  },
  {
   "cell_type": "code",
   "execution_count": null,
   "metadata": {},
   "outputs": [],
   "source": []
  },
  {
   "cell_type": "code",
   "execution_count": null,
   "metadata": {},
   "outputs": [],
   "source": []
  },
  {
   "cell_type": "markdown",
   "metadata": {},
   "source": [
    "# Translate KITTI labels to Ultralytics format"
   ]
  },
  {
   "cell_type": "code",
   "execution_count": 1,
   "metadata": {},
   "outputs": [],
   "source": [
    "import pandas as pd"
   ]
  },
  {
   "cell_type": "code",
   "execution_count": 2,
   "metadata": {},
   "outputs": [],
   "source": [
    "\"\"\"\n",
    "KITTI format: \n",
    "#Values    Name      Description\n",
    "----------------------------------------------------------------------------\n",
    "   1    frame        Frame within the sequence where the object appearers\n",
    "   1    track id     Unique tracking id of this object within this sequence\n",
    "   1    type         Describes the type of object: 'Car', 'Van', 'Truck',\n",
    "                     'Pedestrian', 'Person_sitting', 'Cyclist', 'Tram',\n",
    "                     'Misc' or 'DontCare'\n",
    "   1    truncated    Integer (0,1,2) indicating the level of truncation.\n",
    "                     Note that this is in contrast to the object detection\n",
    "                     benchmark where truncation is a float in [0,1].\n",
    "   1    occluded     Integer (0,1,2,3) indicating occlusion state:\n",
    "                     0 = fully visible, 1 = partly occluded\n",
    "                     2 = largely occluded, 3 = unknown\n",
    "   1    alpha        Observation angle of object, ranging [-pi..pi]\n",
    "   4    bbox         2D bounding box of object in the image (0-based index):\n",
    "                     contains left, top, right, bottom pixel coordinates <----- [top & bottom seem swapped BUT they are NOT! the y axis goes downwards!!!]\n",
    "   3    dimensions   3D object dimensions: height, width, length (in meters)\n",
    "   3    location     3D object location x,y,z in camera coordinates (in meters)\n",
    "   1    rotation_y   Rotation ry around Y-axis in camera coordinates [-pi..pi]\n",
    "   1    score        Only for results: Float, indicating confidence in\n",
    "                     detection, needed for p/r curves, higher is better.\n",
    "\"\"\"\n",
    "colnames=['frame','track_id','type','truncated','occluded','alpha',\n",
    "          'bbox_left','bbox_top','bbox_right','bbox_bottom',\n",
    "          'obj_height','obj_width','obj_length',\n",
    "          'obj_x','obj_y','obj_z','rotation_y','score',]\n",
    "# <object_type> <truncation> <occlusion> <alpha> <left> <top> <right> <bottom> <height> <width> <length> <x> <y> <z> <rotation_y>"
   ]
  },
  {
   "cell_type": "code",
   "execution_count": 3,
   "metadata": {},
   "outputs": [],
   "source": [
    "temp=pd.read_csv(\"/home/piokal/automotive-tracking/datasets/KITTI/training/label_02/0000.txt\",sep=\" \",header=None,names=colnames) # ,names=colnames"
   ]
  },
  {
   "cell_type": "code",
   "execution_count": 4,
   "metadata": {},
   "outputs": [
    {
     "data": {
      "text/html": [
       "<div>\n",
       "<style scoped>\n",
       "    .dataframe tbody tr th:only-of-type {\n",
       "        vertical-align: middle;\n",
       "    }\n",
       "\n",
       "    .dataframe tbody tr th {\n",
       "        vertical-align: top;\n",
       "    }\n",
       "\n",
       "    .dataframe thead th {\n",
       "        text-align: right;\n",
       "    }\n",
       "</style>\n",
       "<table border=\"1\" class=\"dataframe\">\n",
       "  <thead>\n",
       "    <tr style=\"text-align: right;\">\n",
       "      <th></th>\n",
       "      <th>frame</th>\n",
       "      <th>track_id</th>\n",
       "      <th>type</th>\n",
       "      <th>truncated</th>\n",
       "      <th>occluded</th>\n",
       "      <th>alpha</th>\n",
       "      <th>bbox_left</th>\n",
       "      <th>bbox_top</th>\n",
       "      <th>bbox_right</th>\n",
       "      <th>bbox_bottom</th>\n",
       "      <th>obj_height</th>\n",
       "      <th>obj_width</th>\n",
       "      <th>obj_length</th>\n",
       "      <th>obj_x</th>\n",
       "      <th>obj_y</th>\n",
       "      <th>obj_z</th>\n",
       "      <th>rotation_y</th>\n",
       "      <th>score</th>\n",
       "    </tr>\n",
       "  </thead>\n",
       "  <tbody>\n",
       "    <tr>\n",
       "      <th>0</th>\n",
       "      <td>0</td>\n",
       "      <td>-1</td>\n",
       "      <td>DontCare</td>\n",
       "      <td>-1</td>\n",
       "      <td>-1</td>\n",
       "      <td>-10.000000</td>\n",
       "      <td>219.310000</td>\n",
       "      <td>188.490000</td>\n",
       "      <td>245.500000</td>\n",
       "      <td>218.560000</td>\n",
       "      <td>-1000.000000</td>\n",
       "      <td>-1000.000000</td>\n",
       "      <td>-1000.000000</td>\n",
       "      <td>-10.000000</td>\n",
       "      <td>-1.000000</td>\n",
       "      <td>-1.000000</td>\n",
       "      <td>-1.000000</td>\n",
       "      <td>NaN</td>\n",
       "    </tr>\n",
       "    <tr>\n",
       "      <th>1</th>\n",
       "      <td>0</td>\n",
       "      <td>-1</td>\n",
       "      <td>DontCare</td>\n",
       "      <td>-1</td>\n",
       "      <td>-1</td>\n",
       "      <td>-10.000000</td>\n",
       "      <td>47.560000</td>\n",
       "      <td>195.280000</td>\n",
       "      <td>115.480000</td>\n",
       "      <td>221.480000</td>\n",
       "      <td>-1000.000000</td>\n",
       "      <td>-1000.000000</td>\n",
       "      <td>-1000.000000</td>\n",
       "      <td>-10.000000</td>\n",
       "      <td>-1.000000</td>\n",
       "      <td>-1.000000</td>\n",
       "      <td>-1.000000</td>\n",
       "      <td>NaN</td>\n",
       "    </tr>\n",
       "    <tr>\n",
       "      <th>2</th>\n",
       "      <td>0</td>\n",
       "      <td>0</td>\n",
       "      <td>Van</td>\n",
       "      <td>0</td>\n",
       "      <td>0</td>\n",
       "      <td>-1.793451</td>\n",
       "      <td>296.744956</td>\n",
       "      <td>161.752147</td>\n",
       "      <td>455.226042</td>\n",
       "      <td>292.372804</td>\n",
       "      <td>2.000000</td>\n",
       "      <td>1.823255</td>\n",
       "      <td>4.433886</td>\n",
       "      <td>-4.552284</td>\n",
       "      <td>1.858523</td>\n",
       "      <td>13.410495</td>\n",
       "      <td>-2.115488</td>\n",
       "      <td>NaN</td>\n",
       "    </tr>\n",
       "    <tr>\n",
       "      <th>3</th>\n",
       "      <td>0</td>\n",
       "      <td>1</td>\n",
       "      <td>Cyclist</td>\n",
       "      <td>0</td>\n",
       "      <td>0</td>\n",
       "      <td>-1.936993</td>\n",
       "      <td>737.619499</td>\n",
       "      <td>161.531951</td>\n",
       "      <td>931.112229</td>\n",
       "      <td>374.000000</td>\n",
       "      <td>1.739063</td>\n",
       "      <td>0.824591</td>\n",
       "      <td>1.785241</td>\n",
       "      <td>1.640400</td>\n",
       "      <td>1.675660</td>\n",
       "      <td>5.776261</td>\n",
       "      <td>-1.675458</td>\n",
       "      <td>NaN</td>\n",
       "    </tr>\n",
       "    <tr>\n",
       "      <th>4</th>\n",
       "      <td>0</td>\n",
       "      <td>2</td>\n",
       "      <td>Pedestrian</td>\n",
       "      <td>0</td>\n",
       "      <td>0</td>\n",
       "      <td>-2.523309</td>\n",
       "      <td>1106.137292</td>\n",
       "      <td>166.576807</td>\n",
       "      <td>1204.470628</td>\n",
       "      <td>323.876144</td>\n",
       "      <td>1.714062</td>\n",
       "      <td>0.767881</td>\n",
       "      <td>0.972283</td>\n",
       "      <td>6.301919</td>\n",
       "      <td>1.652419</td>\n",
       "      <td>8.455685</td>\n",
       "      <td>-1.900245</td>\n",
       "      <td>NaN</td>\n",
       "    </tr>\n",
       "    <tr>\n",
       "      <th>...</th>\n",
       "      <td>...</td>\n",
       "      <td>...</td>\n",
       "      <td>...</td>\n",
       "      <td>...</td>\n",
       "      <td>...</td>\n",
       "      <td>...</td>\n",
       "      <td>...</td>\n",
       "      <td>...</td>\n",
       "      <td>...</td>\n",
       "      <td>...</td>\n",
       "      <td>...</td>\n",
       "      <td>...</td>\n",
       "      <td>...</td>\n",
       "      <td>...</td>\n",
       "      <td>...</td>\n",
       "      <td>...</td>\n",
       "      <td>...</td>\n",
       "      <td>...</td>\n",
       "    </tr>\n",
       "    <tr>\n",
       "      <th>1084</th>\n",
       "      <td>153</td>\n",
       "      <td>10</td>\n",
       "      <td>Car</td>\n",
       "      <td>0</td>\n",
       "      <td>2</td>\n",
       "      <td>-1.818856</td>\n",
       "      <td>680.294919</td>\n",
       "      <td>177.511028</td>\n",
       "      <td>842.313244</td>\n",
       "      <td>284.070033</td>\n",
       "      <td>1.524000</td>\n",
       "      <td>1.728591</td>\n",
       "      <td>3.894227</td>\n",
       "      <td>2.353367</td>\n",
       "      <td>1.622590</td>\n",
       "      <td>12.436503</td>\n",
       "      <td>-1.637280</td>\n",
       "      <td>NaN</td>\n",
       "    </tr>\n",
       "    <tr>\n",
       "      <th>1085</th>\n",
       "      <td>153</td>\n",
       "      <td>11</td>\n",
       "      <td>Car</td>\n",
       "      <td>0</td>\n",
       "      <td>2</td>\n",
       "      <td>1.864481</td>\n",
       "      <td>245.920800</td>\n",
       "      <td>194.456182</td>\n",
       "      <td>394.817829</td>\n",
       "      <td>286.444967</td>\n",
       "      <td>1.444000</td>\n",
       "      <td>1.595116</td>\n",
       "      <td>3.791789</td>\n",
       "      <td>-5.458963</td>\n",
       "      <td>1.908188</td>\n",
       "      <td>13.979427</td>\n",
       "      <td>1.497916</td>\n",
       "      <td>NaN</td>\n",
       "    </tr>\n",
       "    <tr>\n",
       "      <th>1086</th>\n",
       "      <td>153</td>\n",
       "      <td>12</td>\n",
       "      <td>Pedestrian</td>\n",
       "      <td>1</td>\n",
       "      <td>0</td>\n",
       "      <td>0.826456</td>\n",
       "      <td>1185.199080</td>\n",
       "      <td>151.165841</td>\n",
       "      <td>1241.000000</td>\n",
       "      <td>348.552707</td>\n",
       "      <td>1.688000</td>\n",
       "      <td>0.800000</td>\n",
       "      <td>0.884000</td>\n",
       "      <td>5.739732</td>\n",
       "      <td>1.500532</td>\n",
       "      <td>6.279632</td>\n",
       "      <td>1.543272</td>\n",
       "      <td>NaN</td>\n",
       "    </tr>\n",
       "    <tr>\n",
       "      <th>1087</th>\n",
       "      <td>153</td>\n",
       "      <td>13</td>\n",
       "      <td>Car</td>\n",
       "      <td>0</td>\n",
       "      <td>0</td>\n",
       "      <td>1.773993</td>\n",
       "      <td>344.361560</td>\n",
       "      <td>188.772369</td>\n",
       "      <td>430.531955</td>\n",
       "      <td>248.482384</td>\n",
       "      <td>1.422414</td>\n",
       "      <td>1.512803</td>\n",
       "      <td>3.707634</td>\n",
       "      <td>-6.033258</td>\n",
       "      <td>1.888008</td>\n",
       "      <td>19.788795</td>\n",
       "      <td>1.481180</td>\n",
       "      <td>NaN</td>\n",
       "    </tr>\n",
       "    <tr>\n",
       "      <th>1088</th>\n",
       "      <td>153</td>\n",
       "      <td>14</td>\n",
       "      <td>Car</td>\n",
       "      <td>0</td>\n",
       "      <td>2</td>\n",
       "      <td>-1.728662</td>\n",
       "      <td>652.362288</td>\n",
       "      <td>183.789605</td>\n",
       "      <td>737.478033</td>\n",
       "      <td>246.613864</td>\n",
       "      <td>1.365956</td>\n",
       "      <td>1.508586</td>\n",
       "      <td>3.485915</td>\n",
       "      <td>1.955738</td>\n",
       "      <td>1.651867</td>\n",
       "      <td>17.818612</td>\n",
       "      <td>-1.622048</td>\n",
       "      <td>NaN</td>\n",
       "    </tr>\n",
       "  </tbody>\n",
       "</table>\n",
       "<p>1089 rows × 18 columns</p>\n",
       "</div>"
      ],
      "text/plain": [
       "      frame  track_id        type  truncated  occluded      alpha  \\\n",
       "0         0        -1    DontCare         -1        -1 -10.000000   \n",
       "1         0        -1    DontCare         -1        -1 -10.000000   \n",
       "2         0         0         Van          0         0  -1.793451   \n",
       "3         0         1     Cyclist          0         0  -1.936993   \n",
       "4         0         2  Pedestrian          0         0  -2.523309   \n",
       "...     ...       ...         ...        ...       ...        ...   \n",
       "1084    153        10         Car          0         2  -1.818856   \n",
       "1085    153        11         Car          0         2   1.864481   \n",
       "1086    153        12  Pedestrian          1         0   0.826456   \n",
       "1087    153        13         Car          0         0   1.773993   \n",
       "1088    153        14         Car          0         2  -1.728662   \n",
       "\n",
       "        bbox_left    bbox_top   bbox_right  bbox_bottom   obj_height  \\\n",
       "0      219.310000  188.490000   245.500000   218.560000 -1000.000000   \n",
       "1       47.560000  195.280000   115.480000   221.480000 -1000.000000   \n",
       "2      296.744956  161.752147   455.226042   292.372804     2.000000   \n",
       "3      737.619499  161.531951   931.112229   374.000000     1.739063   \n",
       "4     1106.137292  166.576807  1204.470628   323.876144     1.714062   \n",
       "...           ...         ...          ...          ...          ...   \n",
       "1084   680.294919  177.511028   842.313244   284.070033     1.524000   \n",
       "1085   245.920800  194.456182   394.817829   286.444967     1.444000   \n",
       "1086  1185.199080  151.165841  1241.000000   348.552707     1.688000   \n",
       "1087   344.361560  188.772369   430.531955   248.482384     1.422414   \n",
       "1088   652.362288  183.789605   737.478033   246.613864     1.365956   \n",
       "\n",
       "        obj_width   obj_length      obj_x     obj_y      obj_z  rotation_y  \\\n",
       "0    -1000.000000 -1000.000000 -10.000000 -1.000000  -1.000000   -1.000000   \n",
       "1    -1000.000000 -1000.000000 -10.000000 -1.000000  -1.000000   -1.000000   \n",
       "2        1.823255     4.433886  -4.552284  1.858523  13.410495   -2.115488   \n",
       "3        0.824591     1.785241   1.640400  1.675660   5.776261   -1.675458   \n",
       "4        0.767881     0.972283   6.301919  1.652419   8.455685   -1.900245   \n",
       "...           ...          ...        ...       ...        ...         ...   \n",
       "1084     1.728591     3.894227   2.353367  1.622590  12.436503   -1.637280   \n",
       "1085     1.595116     3.791789  -5.458963  1.908188  13.979427    1.497916   \n",
       "1086     0.800000     0.884000   5.739732  1.500532   6.279632    1.543272   \n",
       "1087     1.512803     3.707634  -6.033258  1.888008  19.788795    1.481180   \n",
       "1088     1.508586     3.485915   1.955738  1.651867  17.818612   -1.622048   \n",
       "\n",
       "      score  \n",
       "0       NaN  \n",
       "1       NaN  \n",
       "2       NaN  \n",
       "3       NaN  \n",
       "4       NaN  \n",
       "...     ...  \n",
       "1084    NaN  \n",
       "1085    NaN  \n",
       "1086    NaN  \n",
       "1087    NaN  \n",
       "1088    NaN  \n",
       "\n",
       "[1089 rows x 18 columns]"
      ]
     },
     "execution_count": 4,
     "metadata": {},
     "output_type": "execute_result"
    }
   ],
   "source": [
    "temp"
   ]
  },
  {
   "cell_type": "code",
   "execution_count": 5,
   "metadata": {},
   "outputs": [],
   "source": [
    "\"\"\"Ultralytics label format: \n",
    "\n",
    "    class x_center y_center width height\n",
    "\n",
    "- Box coordinates must be in normalized xywh format (from 0 to 1). If your boxes are in pixels, divide x_center and width by image width, and y_center and height by image height.\n",
    "- Class numbers are zero-indexed (start from 0).\n",
    "\"\"\"\n",
    "ultra_colnames = ['class','x_center','y_center','width','height']"
   ]
  },
  {
   "cell_type": "code",
   "execution_count": 6,
   "metadata": {},
   "outputs": [],
   "source": [
    "ultra_df = pd.DataFrame(columns=ultra_colnames)"
   ]
  },
  {
   "cell_type": "code",
   "execution_count": 8,
   "metadata": {},
   "outputs": [],
   "source": [
    "ultra_df['class']=temp['type']\n",
    "\n",
    "# We need to norm to (0,1) by the image size:\n",
    "img_width=1242\n",
    "img_height=375\n",
    "\n",
    "ultra_df['x_center']=0.5*(temp['bbox_left']+temp['bbox_right'])/img_width\n",
    "ultra_df['y_center']=0.5*(temp['bbox_top']+temp['bbox_bottom'])/img_height\n",
    "ultra_df['width']=(temp['bbox_right']-temp['bbox_left'])/img_width\n",
    "ultra_df['height']=(temp['bbox_bottom']-temp['bbox_top'])/img_height"
   ]
  },
  {
   "cell_type": "code",
   "execution_count": 9,
   "metadata": {},
   "outputs": [
    {
     "data": {
      "text/html": [
       "<div>\n",
       "<style scoped>\n",
       "    .dataframe tbody tr th:only-of-type {\n",
       "        vertical-align: middle;\n",
       "    }\n",
       "\n",
       "    .dataframe tbody tr th {\n",
       "        vertical-align: top;\n",
       "    }\n",
       "\n",
       "    .dataframe thead th {\n",
       "        text-align: right;\n",
       "    }\n",
       "</style>\n",
       "<table border=\"1\" class=\"dataframe\">\n",
       "  <thead>\n",
       "    <tr style=\"text-align: right;\">\n",
       "      <th></th>\n",
       "      <th>x_center</th>\n",
       "      <th>y_center</th>\n",
       "      <th>width</th>\n",
       "      <th>height</th>\n",
       "    </tr>\n",
       "  </thead>\n",
       "  <tbody>\n",
       "    <tr>\n",
       "      <th>count</th>\n",
       "      <td>1089.000000</td>\n",
       "      <td>1089.000000</td>\n",
       "      <td>1089.000000</td>\n",
       "      <td>1089.000000</td>\n",
       "    </tr>\n",
       "    <tr>\n",
       "      <th>mean</th>\n",
       "      <td>0.517857</td>\n",
       "      <td>0.569065</td>\n",
       "      <td>0.080495</td>\n",
       "      <td>0.232170</td>\n",
       "    </tr>\n",
       "    <tr>\n",
       "      <th>std</th>\n",
       "      <td>0.228716</td>\n",
       "      <td>0.065976</td>\n",
       "      <td>0.050451</td>\n",
       "      <td>0.155007</td>\n",
       "    </tr>\n",
       "    <tr>\n",
       "      <th>min</th>\n",
       "      <td>0.008132</td>\n",
       "      <td>0.465227</td>\n",
       "      <td>0.014654</td>\n",
       "      <td>0.036853</td>\n",
       "    </tr>\n",
       "    <tr>\n",
       "      <th>25%</th>\n",
       "      <td>0.350628</td>\n",
       "      <td>0.521480</td>\n",
       "      <td>0.043309</td>\n",
       "      <td>0.114000</td>\n",
       "    </tr>\n",
       "    <tr>\n",
       "      <th>50%</th>\n",
       "      <td>0.508555</td>\n",
       "      <td>0.548609</td>\n",
       "      <td>0.069160</td>\n",
       "      <td>0.172069</td>\n",
       "    </tr>\n",
       "    <tr>\n",
       "      <th>75%</th>\n",
       "      <td>0.681776</td>\n",
       "      <td>0.605853</td>\n",
       "      <td>0.102486</td>\n",
       "      <td>0.290342</td>\n",
       "    </tr>\n",
       "    <tr>\n",
       "      <th>max</th>\n",
       "      <td>0.986125</td>\n",
       "      <td>0.802267</td>\n",
       "      <td>0.393988</td>\n",
       "      <td>0.804887</td>\n",
       "    </tr>\n",
       "  </tbody>\n",
       "</table>\n",
       "</div>"
      ],
      "text/plain": [
       "          x_center     y_center        width       height\n",
       "count  1089.000000  1089.000000  1089.000000  1089.000000\n",
       "mean      0.517857     0.569065     0.080495     0.232170\n",
       "std       0.228716     0.065976     0.050451     0.155007\n",
       "min       0.008132     0.465227     0.014654     0.036853\n",
       "25%       0.350628     0.521480     0.043309     0.114000\n",
       "50%       0.508555     0.548609     0.069160     0.172069\n",
       "75%       0.681776     0.605853     0.102486     0.290342\n",
       "max       0.986125     0.802267     0.393988     0.804887"
      ]
     },
     "execution_count": 9,
     "metadata": {},
     "output_type": "execute_result"
    }
   ],
   "source": [
    "ultra_df.describe()"
   ]
  },
  {
   "cell_type": "code",
   "execution_count": 10,
   "metadata": {},
   "outputs": [],
   "source": [
    "class_name_to_id = {\n",
    "    'Car'            : 0,\n",
    "    'Pedestrian'     : 1,\n",
    "    'Van'            : 2,\n",
    "    'Cyclist'        : 3,\n",
    "    'Truck'          : 4,\n",
    "    'Misc'           : 5,\n",
    "    'Tram'           : 6,\n",
    "    'Person_sitting' : 7,\n",
    "    'DontCare'       : 8,\n",
    "}\n",
    "ultra_df['class']=[class_name_to_id[c] for c in ultra_df['class']]"
   ]
  },
  {
   "cell_type": "code",
   "execution_count": 96,
   "metadata": {},
   "outputs": [],
   "source": [
    "ultra_df.to_csv('../datasets/KITTI_for_YOLO/labels/test.txt',sep=' ',index=None, float_format='%.6f',header=None)"
   ]
  },
  {
   "cell_type": "code",
   "execution_count": 1,
   "metadata": {},
   "outputs": [],
   "source": [
    "# now, let's use the function we defined:\n",
    "import sys\n",
    "sys.path.append('../src/')\n",
    "from KITTI_to_Ultralytics import kitti_to_ultra_labels"
   ]
  },
  {
   "cell_type": "code",
   "execution_count": 2,
   "metadata": {},
   "outputs": [
    {
     "name": "stdout",
     "output_type": "stream",
     "text": [
      "Converting the KITTI labels ...\n",
      "Processing scene  0000\n",
      "Processing scene  0001\n",
      "Processing scene  0002\n",
      "Processing scene  0003\n",
      "Processing scene  0004\n",
      "Processing scene  0005\n",
      "Processing scene  0006\n",
      "Processing scene  0007\n",
      "Processing scene  0008\n",
      "Processing scene  0009\n",
      "Processing scene  0010\n",
      "Processing scene  0011\n",
      "Processing scene  0012\n",
      "Processing scene  0013\n",
      "Processing scene  0014\n",
      "Processing scene  0015\n",
      "Processing scene  0016\n",
      "Processing scene  0017\n",
      "Processing scene  0018\n",
      "Processing scene  0019\n",
      "Processing scene  0020\n"
     ]
    }
   ],
   "source": [
    "kitti_to_ultra_labels(kitti_dir=\"../datasets/KITTI/\",subset=\"training\")"
   ]
  },
  {
   "cell_type": "markdown",
   "metadata": {},
   "source": [
    "# Split into training and test set (the KITTI testing set has no labels!)"
   ]
  },
  {
   "cell_type": "code",
   "execution_count": 1,
   "metadata": {},
   "outputs": [],
   "source": [
    "import sys\n",
    "sys.path.append('../src/')\n",
    "from KITTI_to_Ultralytics import split_train_test"
   ]
  },
  {
   "cell_type": "code",
   "execution_count": 2,
   "metadata": {},
   "outputs": [
    {
     "name": "stdout",
     "output_type": "stream",
     "text": [
      "processing scene  0000\n",
      "processing scene  0001\n",
      "processing scene  0002\n",
      "processing scene  0003\n",
      "processing scene  0004\n",
      "processing scene  0005\n",
      "processing scene  0006\n",
      "processing scene  0007\n",
      "processing scene  0008\n",
      "processing scene  0009\n",
      "processing scene  0010\n",
      "processing scene  0011\n",
      "processing scene  0012\n",
      "processing scene  0013\n",
      "processing scene  0014\n",
      "processing scene  0015\n",
      "processing scene  0016\n",
      "processing scene  0017\n",
      "copying the test labels\n",
      "processing scene  0018\n",
      "copying the test labels\n",
      "processing scene  0019\n",
      "copying the test labels\n",
      "processing scene  0020\n",
      "copying the test labels\n"
     ]
    }
   ],
   "source": [
    "split_train_test(start_scene_id=0,only_labels=True)"
   ]
  },
  {
   "cell_type": "markdown",
   "metadata": {},
   "source": [
    "# Train the YOLO model on KITTI"
   ]
  },
  {
   "cell_type": "code",
   "execution_count": 3,
   "metadata": {},
   "outputs": [],
   "source": [
    "from ultralytics import YOLO\n",
    "\n",
    "model = YOLO(\"../models/yolov8n.pt\")"
   ]
  },
  {
   "cell_type": "code",
   "execution_count": 4,
   "metadata": {},
   "outputs": [
    {
     "name": "stdout",
     "output_type": "stream",
     "text": [
      "New https://pypi.org/project/ultralytics/8.2.44 available 😃 Update with 'pip install -U ultralytics'\n",
      "Ultralytics YOLOv8.2.42 🚀 Python-3.12.3 torch-2.3.1+cu121 CUDA:0 (NVIDIA GeForce RTX 3090, 24253MiB)\n",
      "\u001b[34m\u001b[1mengine/trainer: \u001b[0mtask=detect, mode=train, model=../models/yolov8n.pt, data=/home/piokal/automotive-tracking/datasets/KITTI_for_YOLO/KITTI.yaml, epochs=10, time=None, patience=100, batch=16, imgsz=1248, save=True, save_period=-1, cache=False, device=None, workers=8, project=None, name=train7, exist_ok=False, pretrained=True, optimizer=auto, verbose=True, seed=0, deterministic=True, single_cls=False, rect=False, cos_lr=False, close_mosaic=10, resume=False, amp=True, fraction=1.0, profile=False, freeze=None, multi_scale=False, overlap_mask=True, mask_ratio=4, dropout=0.0, val=True, split=val, save_json=False, save_hybrid=False, conf=None, iou=0.7, max_det=300, half=False, dnn=False, plots=True, source=None, vid_stride=1, stream_buffer=False, visualize=False, augment=False, agnostic_nms=False, classes=None, retina_masks=False, embed=None, show=False, save_frames=False, save_txt=False, save_conf=False, save_crop=False, show_labels=True, show_conf=True, show_boxes=True, line_width=None, format=torchscript, keras=False, optimize=False, int8=False, dynamic=False, simplify=False, opset=None, workspace=4, nms=False, lr0=0.01, lrf=0.01, momentum=0.937, weight_decay=0.0005, warmup_epochs=3.0, warmup_momentum=0.8, warmup_bias_lr=0.1, box=7.5, cls=0.5, dfl=1.5, pose=12.0, kobj=1.0, label_smoothing=0.0, nbs=64, hsv_h=0.015, hsv_s=0.7, hsv_v=0.4, degrees=0.0, translate=0.1, scale=0.5, shear=0.0, perspective=0.0, flipud=0.0, fliplr=0.5, bgr=0.0, mosaic=1.0, mixup=0.0, copy_paste=0.0, auto_augment=randaugment, erasing=0.4, crop_fraction=1.0, cfg=None, tracker=botsort.yaml, save_dir=runs/detect/train7\n",
      "Overriding model.yaml nc=80 with nc=9\n",
      "\n",
      "                   from  n    params  module                                       arguments                     \n",
      "  0                  -1  1       464  ultralytics.nn.modules.conv.Conv             [3, 16, 3, 2]                 \n",
      "  1                  -1  1      4672  ultralytics.nn.modules.conv.Conv             [16, 32, 3, 2]                \n",
      "  2                  -1  1      7360  ultralytics.nn.modules.block.C2f             [32, 32, 1, True]             \n",
      "  3                  -1  1     18560  ultralytics.nn.modules.conv.Conv             [32, 64, 3, 2]                \n",
      "  4                  -1  2     49664  ultralytics.nn.modules.block.C2f             [64, 64, 2, True]             \n",
      "  5                  -1  1     73984  ultralytics.nn.modules.conv.Conv             [64, 128, 3, 2]               \n",
      "  6                  -1  2    197632  ultralytics.nn.modules.block.C2f             [128, 128, 2, True]           \n",
      "  7                  -1  1    295424  ultralytics.nn.modules.conv.Conv             [128, 256, 3, 2]              \n",
      "  8                  -1  1    460288  ultralytics.nn.modules.block.C2f             [256, 256, 1, True]           \n",
      "  9                  -1  1    164608  ultralytics.nn.modules.block.SPPF            [256, 256, 5]                 \n",
      " 10                  -1  1         0  torch.nn.modules.upsampling.Upsample         [None, 2, 'nearest']          \n",
      " 11             [-1, 6]  1         0  ultralytics.nn.modules.conv.Concat           [1]                           \n",
      " 12                  -1  1    148224  ultralytics.nn.modules.block.C2f             [384, 128, 1]                 \n",
      " 13                  -1  1         0  torch.nn.modules.upsampling.Upsample         [None, 2, 'nearest']          \n",
      " 14             [-1, 4]  1         0  ultralytics.nn.modules.conv.Concat           [1]                           \n",
      " 15                  -1  1     37248  ultralytics.nn.modules.block.C2f             [192, 64, 1]                  \n",
      " 16                  -1  1     36992  ultralytics.nn.modules.conv.Conv             [64, 64, 3, 2]                \n",
      " 17            [-1, 12]  1         0  ultralytics.nn.modules.conv.Concat           [1]                           \n",
      " 18                  -1  1    123648  ultralytics.nn.modules.block.C2f             [192, 128, 1]                 \n",
      " 19                  -1  1    147712  ultralytics.nn.modules.conv.Conv             [128, 128, 3, 2]              \n",
      " 20             [-1, 9]  1         0  ultralytics.nn.modules.conv.Concat           [1]                           \n",
      " 21                  -1  1    493056  ultralytics.nn.modules.block.C2f             [384, 256, 1]                 \n",
      " 22        [15, 18, 21]  1    753067  ultralytics.nn.modules.head.Detect           [9, [64, 128, 256]]           \n",
      "Model summary: 225 layers, 3012603 parameters, 3012587 gradients, 8.2 GFLOPs\n",
      "\n",
      "Transferred 319/355 items from pretrained weights\n",
      "Freezing layer 'model.22.dfl.conv.weight'\n",
      "\u001b[34m\u001b[1mAMP: \u001b[0mrunning Automatic Mixed Precision (AMP) checks with YOLOv8n...\n",
      "\u001b[34m\u001b[1mAMP: \u001b[0mchecks passed ✅\n"
     ]
    },
    {
     "name": "stderr",
     "output_type": "stream",
     "text": [
      "\u001b[34m\u001b[1mtrain: \u001b[0mScanning /home/piokal/automotive-tracking/datasets/KITTI_for_YOLO/training/camera_1/labels... 5544 images, 84 backgrounds, 0 corrupt: 100%|██████████| 5628/5628 [00:01<00:00, 4651.18it/s]"
     ]
    },
    {
     "name": "stdout",
     "output_type": "stream",
     "text": [
      "\u001b[34m\u001b[1mtrain: \u001b[0mNew cache created: /home/piokal/automotive-tracking/datasets/KITTI_for_YOLO/training/camera_1/labels.cache\n"
     ]
    },
    {
     "name": "stderr",
     "output_type": "stream",
     "text": [
      "\n",
      "\u001b[34m\u001b[1mval: \u001b[0mScanning /home/piokal/automotive-tracking/datasets/KITTI_for_YOLO/testing/camera_1/labels.cache... 2380 images, 0 backgrounds, 0 corrupt: 100%|██████████| 2380/2380 [00:00<?, ?it/s]\n"
     ]
    },
    {
     "name": "stdout",
     "output_type": "stream",
     "text": [
      "Plotting labels to runs/detect/train7/labels.jpg... \n",
      "\u001b[34m\u001b[1moptimizer:\u001b[0m 'optimizer=auto' found, ignoring 'lr0=0.01' and 'momentum=0.937' and determining best 'optimizer', 'lr0' and 'momentum' automatically... \n",
      "\u001b[34m\u001b[1moptimizer:\u001b[0m AdamW(lr=0.000769, momentum=0.9) with parameter groups 57 weight(decay=0.0), 64 weight(decay=0.0005), 63 bias(decay=0.0)\n",
      "Image sizes 1248 train, 1248 val\n",
      "Using 8 dataloader workers\n",
      "Logging results to \u001b[1mruns/detect/train7\u001b[0m\n",
      "Starting training for 10 epochs...\n",
      "Closing dataloader mosaic\n",
      "\n",
      "      Epoch    GPU_mem   box_loss   cls_loss   dfl_loss  Instances       Size\n"
     ]
    },
    {
     "name": "stderr",
     "output_type": "stream",
     "text": [
      "       1/10      8.19G      1.638        2.9      1.308         84       1248: 100%|██████████| 352/352 [01:51<00:00,  3.17it/s]\n",
      "                 Class     Images  Instances      Box(P          R      mAP50  mAP50-95): 100%|██████████| 75/75 [00:47<00:00,  1.57it/s]\n"
     ]
    },
    {
     "name": "stdout",
     "output_type": "stream",
     "text": [
      "                   all       2380      23381       0.63      0.283      0.281      0.152\n",
      "\n",
      "      Epoch    GPU_mem   box_loss   cls_loss   dfl_loss  Instances       Size\n"
     ]
    },
    {
     "name": "stderr",
     "output_type": "stream",
     "text": [
      "       2/10      8.77G      1.429      1.715      1.204         70       1248: 100%|██████████| 352/352 [02:54<00:00,  2.02it/s]\n",
      "                 Class     Images  Instances      Box(P          R      mAP50  mAP50-95): 100%|██████████| 75/75 [00:46<00:00,  1.62it/s]\n"
     ]
    },
    {
     "name": "stdout",
     "output_type": "stream",
     "text": [
      "                   all       2380      23381      0.587      0.242      0.246      0.129\n",
      "\n",
      "      Epoch    GPU_mem   box_loss   cls_loss   dfl_loss  Instances       Size\n"
     ]
    },
    {
     "name": "stderr",
     "output_type": "stream",
     "text": [
      "       3/10      8.94G      1.351       1.32      1.165         98       1248: 100%|██████████| 352/352 [02:35<00:00,  2.26it/s]\n",
      "                 Class     Images  Instances      Box(P          R      mAP50  mAP50-95): 100%|██████████| 75/75 [00:07<00:00,  9.66it/s]\n"
     ]
    },
    {
     "name": "stdout",
     "output_type": "stream",
     "text": [
      "                   all       2380      23381      0.384      0.265      0.288      0.161\n",
      "\n",
      "      Epoch    GPU_mem   box_loss   cls_loss   dfl_loss  Instances       Size\n"
     ]
    },
    {
     "name": "stderr",
     "output_type": "stream",
     "text": [
      "       4/10      8.33G      1.278      1.114      1.129         91       1248: 100%|██████████| 352/352 [02:48<00:00,  2.09it/s]\n",
      "                 Class     Images  Instances      Box(P          R      mAP50  mAP50-95): 100%|██████████| 75/75 [00:40<00:00,  1.87it/s]"
     ]
    },
    {
     "name": "stdout",
     "output_type": "stream",
     "text": [
      "                   all       2380      23381      0.535      0.268      0.291      0.157\n"
     ]
    },
    {
     "name": "stderr",
     "output_type": "stream",
     "text": [
      "\n"
     ]
    },
    {
     "name": "stdout",
     "output_type": "stream",
     "text": [
      "\n",
      "      Epoch    GPU_mem   box_loss   cls_loss   dfl_loss  Instances       Size\n"
     ]
    },
    {
     "name": "stderr",
     "output_type": "stream",
     "text": [
      "       5/10      8.81G      1.223     0.9979      1.101         82       1248: 100%|██████████| 352/352 [02:59<00:00,  1.97it/s]\n",
      "                 Class     Images  Instances      Box(P          R      mAP50  mAP50-95): 100%|██████████| 75/75 [00:33<00:00,  2.22it/s]\n"
     ]
    },
    {
     "name": "stdout",
     "output_type": "stream",
     "text": [
      "                   all       2380      23381      0.288      0.366      0.316      0.176\n",
      "\n",
      "      Epoch    GPU_mem   box_loss   cls_loss   dfl_loss  Instances       Size\n"
     ]
    },
    {
     "name": "stderr",
     "output_type": "stream",
     "text": [
      "       6/10      8.49G      1.174     0.9074      1.072         51       1248: 100%|██████████| 352/352 [01:53<00:00,  3.11it/s]\n",
      "                 Class     Images  Instances      Box(P          R      mAP50  mAP50-95): 100%|██████████| 75/75 [00:07<00:00,  9.78it/s]\n"
     ]
    },
    {
     "name": "stdout",
     "output_type": "stream",
     "text": [
      "                   all       2380      23381      0.307      0.335       0.31       0.17\n",
      "\n",
      "      Epoch    GPU_mem   box_loss   cls_loss   dfl_loss  Instances       Size\n"
     ]
    },
    {
     "name": "stderr",
     "output_type": "stream",
     "text": [
      "       7/10      8.81G      1.129     0.8434      1.054         87       1248: 100%|██████████| 352/352 [02:50<00:00,  2.06it/s]\n",
      "                 Class     Images  Instances      Box(P          R      mAP50  mAP50-95): 100%|██████████| 75/75 [00:50<00:00,  1.49it/s]"
     ]
    },
    {
     "name": "stdout",
     "output_type": "stream",
     "text": [
      "                   all       2380      23381      0.312      0.346      0.308      0.169\n"
     ]
    },
    {
     "name": "stderr",
     "output_type": "stream",
     "text": [
      "\n"
     ]
    },
    {
     "name": "stdout",
     "output_type": "stream",
     "text": [
      "\n",
      "      Epoch    GPU_mem   box_loss   cls_loss   dfl_loss  Instances       Size\n"
     ]
    },
    {
     "name": "stderr",
     "output_type": "stream",
     "text": [
      "       8/10      8.93G      1.091     0.7942      1.036         72       1248: 100%|██████████| 352/352 [02:51<00:00,  2.05it/s]\n",
      "                 Class     Images  Instances      Box(P          R      mAP50  mAP50-95): 100%|██████████| 75/75 [00:14<00:00,  5.08it/s]"
     ]
    },
    {
     "name": "stdout",
     "output_type": "stream",
     "text": [
      "                   all       2380      23381      0.287      0.381      0.314      0.172\n"
     ]
    },
    {
     "name": "stderr",
     "output_type": "stream",
     "text": [
      "\n"
     ]
    },
    {
     "name": "stdout",
     "output_type": "stream",
     "text": [
      "\n",
      "      Epoch    GPU_mem   box_loss   cls_loss   dfl_loss  Instances       Size\n"
     ]
    },
    {
     "name": "stderr",
     "output_type": "stream",
     "text": [
      "       9/10      8.17G      1.049     0.7466      1.015         67       1248: 100%|██████████| 352/352 [01:43<00:00,  3.41it/s]\n",
      "                 Class     Images  Instances      Box(P          R      mAP50  mAP50-95): 100%|██████████| 75/75 [00:08<00:00,  9.32it/s]\n"
     ]
    },
    {
     "name": "stdout",
     "output_type": "stream",
     "text": [
      "                   all       2380      23381      0.407      0.369      0.316      0.175\n",
      "\n",
      "      Epoch    GPU_mem   box_loss   cls_loss   dfl_loss  Instances       Size\n"
     ]
    },
    {
     "name": "stderr",
     "output_type": "stream",
     "text": [
      "      10/10       8.8G      1.011     0.7097     0.9989         35       1248: 100%|██████████| 352/352 [02:55<00:00,  2.00it/s]\n",
      "                 Class     Images  Instances      Box(P          R      mAP50  mAP50-95): 100%|██████████| 75/75 [00:48<00:00,  1.55it/s]"
     ]
    },
    {
     "name": "stdout",
     "output_type": "stream",
     "text": [
      "                   all       2380      23381      0.303      0.362      0.313      0.177\n"
     ]
    },
    {
     "name": "stderr",
     "output_type": "stream",
     "text": [
      "\n"
     ]
    },
    {
     "name": "stdout",
     "output_type": "stream",
     "text": [
      "\n",
      "10 epochs completed in 0.510 hours.\n",
      "Optimizer stripped from runs/detect/train7/weights/last.pt, 6.3MB\n",
      "Optimizer stripped from runs/detect/train7/weights/best.pt, 6.3MB\n",
      "\n",
      "Validating runs/detect/train7/weights/best.pt...\n",
      "Ultralytics YOLOv8.2.42 🚀 Python-3.12.3 torch-2.3.1+cu121 CUDA:0 (NVIDIA GeForce RTX 3090, 24253MiB)\n",
      "Model summary (fused): 168 layers, 3007403 parameters, 0 gradients, 8.1 GFLOPs\n"
     ]
    },
    {
     "name": "stderr",
     "output_type": "stream",
     "text": [
      "                 Class     Images  Instances      Box(P          R      mAP50  mAP50-95): 100%|██████████| 75/75 [01:15<00:00,  1.01s/it]\n"
     ]
    },
    {
     "name": "stdout",
     "output_type": "stream",
     "text": [
      "                   all       2380      23381      0.299      0.367      0.313      0.178\n",
      "                   Car       1890       7778      0.788      0.778      0.835      0.569\n",
      "            Pedestrian       1196       6870      0.678      0.577      0.655      0.315\n",
      "                   Van        999       1307      0.349      0.549      0.336      0.188\n",
      "               Cyclist        287        409      0.265      0.631      0.539      0.326\n",
      "                 Truck        145        145     0.0838      0.269     0.0987     0.0496\n",
      "                  Misc        414        532      0.282      0.352       0.21      0.102\n",
      "                  Tram        182        417          0          0          0          0\n",
      "         PersonSitting        201        509      0.105     0.0373      0.081       0.03\n",
      "              DontCare       2267       5414      0.139      0.114     0.0616     0.0186\n",
      "Speed: 0.4ms preprocess, 2.4ms inference, 0.0ms loss, 4.9ms postprocess per image\n",
      "Results saved to \u001b[1mruns/detect/train7\u001b[0m\n"
     ]
    }
   ],
   "source": [
    "# Train the model\n",
    "results = model.train(data=\"/home/piokal/automotive-tracking/datasets/KITTI_for_YOLO/KITTI.yaml\", epochs=10, imgsz=1248)"
   ]
  },
  {
   "cell_type": "code",
   "execution_count": 6,
   "metadata": {},
   "outputs": [],
   "source": [
    "model.save('../models/yolov8n_trained_on_camera_1_KITTI.pt')"
   ]
  },
  {
   "cell_type": "code",
   "execution_count": null,
   "metadata": {},
   "outputs": [],
   "source": []
  }
 ],
 "metadata": {
  "kernelspec": {
   "display_name": "automotive",
   "language": "python",
   "name": "python3"
  },
  "language_info": {
   "codemirror_mode": {
    "name": "ipython",
    "version": 3
   },
   "file_extension": ".py",
   "mimetype": "text/x-python",
   "name": "python",
   "nbconvert_exporter": "python",
   "pygments_lexer": "ipython3",
   "version": "3.12.3"
  }
 },
 "nbformat": 4,
 "nbformat_minor": 2
}
